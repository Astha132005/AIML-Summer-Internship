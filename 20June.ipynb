{
 "cells": [
  {
   "cell_type": "markdown",
   "id": "2f34f433-b096-4713-a5a7-dc361547502b",
   "metadata": {},
   "source": [
    "### INDEXING:\n",
    "     01234 {positive indexing}\n",
    "A = 'Apple'\n",
    "\n",
    "######    -5,-4,-3,-2,-1 {Negative indexing}\n",
    "ese hi har element ka 2 index hota hai - ek -ve ek +ve\n",
    "\n",
    "Syntax: var [index] \n",
    "\n",
    "       A [3]  &  A [-2]\n",
    "         'l'        'l'\n",
    "       A [0]  &  A [-5]\n",
    "         'A'        'A'\n",
    "  \n"
   ]
  },
  {
   "cell_type": "code",
   "execution_count": 1,
   "id": "92d56065-79c0-4b47-b540-d3bf6932292b",
   "metadata": {},
   "outputs": [
    {
     "data": {
      "text/plain": [
       "'Apple'"
      ]
     },
     "execution_count": 1,
     "metadata": {},
     "output_type": "execute_result"
    }
   ],
   "source": [
    "#string indexing\n",
    "a='Apple'\n",
    "a"
   ]
  },
  {
   "cell_type": "code",
   "execution_count": 2,
   "id": "59b294cf-c5c7-48e7-9213-115b05141990",
   "metadata": {},
   "outputs": [
    {
     "data": {
      "text/plain": [
       "'l'"
      ]
     },
     "execution_count": 2,
     "metadata": {},
     "output_type": "execute_result"
    }
   ],
   "source": [
    "a[3]"
   ]
  },
  {
   "cell_type": "code",
   "execution_count": 3,
   "id": "7fd0cfc7-f921-4498-9ddd-4798a682e38b",
   "metadata": {},
   "outputs": [
    {
     "data": {
      "text/plain": [
       "'l'"
      ]
     },
     "execution_count": 3,
     "metadata": {},
     "output_type": "execute_result"
    }
   ],
   "source": [
    "a[-2]"
   ]
  },
  {
   "cell_type": "markdown",
   "id": "1331f48f-6a1f-4e64-b1da-c3abafadf3bb",
   "metadata": {},
   "source": [
    "### SLICING:\n",
    "    koi b sequential data ka ek chhota part ko slice kehetein hai \n",
    "#### Forward Slicing:\n",
    "**Syntax:** var [start-index-posn : stop-index-posn : step]\n",
    "Step: (ek element se dusre tak jana ke lie kitna step chie )\n",
    "\n",
    "    ex: 'App'\n",
    "    a[0:3:1] or a[:3:]\n",
    "    o/p: 'App'\n",
    "\n",
    "    ex: 'pe'\n",
    "    a[2:5:2]\n",
    "    o/p= 'pe'\n",
    "\n",
    "    ex: 'App'\n",
    "    a[-5:-2:1]\n",
    "    o/p= 'App'\n",
    "Slicing mei step always sem hona chie\n",
    "#### Backward Slicing:\n",
    "     Agar steps negative mei ho then backward slicing hota hai "
   ]
  },
  {
   "cell_type": "code",
   "execution_count": 5,
   "id": "23249b9e-da51-4b35-87de-815039d26eaa",
   "metadata": {},
   "outputs": [
    {
     "data": {
      "text/plain": [
       "'Apple'"
      ]
     },
     "execution_count": 5,
     "metadata": {},
     "output_type": "execute_result"
    }
   ],
   "source": [
    "#slicing\n",
    "a='Apple'\n",
    "a"
   ]
  },
  {
   "cell_type": "code",
   "execution_count": 22,
   "id": "46be6d89-d44e-4fc9-96cd-524a92a2ad66",
   "metadata": {},
   "outputs": [
    {
     "data": {
      "text/plain": [
       "'ppe'"
      ]
     },
     "execution_count": 22,
     "metadata": {},
     "output_type": "execute_result"
    }
   ],
   "source": [
    "#slicing mei step sem rahega , so 'ppe' cant be formeed \n",
    "# If you wanna print 'ppe we can rather concantation'\n",
    "a[1:3] + a[4]"
   ]
  },
  {
   "cell_type": "code",
   "execution_count": 13,
   "id": "ea026e9e-ee1f-4456-8a63-411b23450cfe",
   "metadata": {},
   "outputs": [
    {
     "data": {
      "text/plain": [
       "'App'"
      ]
     },
     "execution_count": 13,
     "metadata": {},
     "output_type": "execute_result"
    }
   ],
   "source": [
    "a[-5:-2:1]"
   ]
  },
  {
   "cell_type": "code",
   "execution_count": 14,
   "id": "5a648a88-ee1a-4011-ae07-0d6067783706",
   "metadata": {},
   "outputs": [
    {
     "data": {
      "text/plain": [
       "'el'"
      ]
     },
     "execution_count": 14,
     "metadata": {},
     "output_type": "execute_result"
    }
   ],
   "source": [
    "#Backward Slicing\n",
    "a[4:2:-1]"
   ]
  },
  {
   "cell_type": "code",
   "execution_count": 15,
   "id": "824aa66d-22da-43c8-af45-6f5aaf89b92e",
   "metadata": {},
   "outputs": [
    {
     "data": {
      "text/plain": [
       "'el'"
      ]
     },
     "execution_count": 15,
     "metadata": {},
     "output_type": "execute_result"
    }
   ],
   "source": [
    "a[-1:-3:-1]"
   ]
  },
  {
   "cell_type": "code",
   "execution_count": 17,
   "id": "4285f4b3-0623-488f-97a0-1265e71fed82",
   "metadata": {},
   "outputs": [
    {
     "data": {
      "text/plain": [
       "'elppA'"
      ]
     },
     "execution_count": 17,
     "metadata": {},
     "output_type": "execute_result"
    }
   ],
   "source": [
    "a[::-1] #reverse the string"
   ]
  },
  {
   "cell_type": "code",
   "execution_count": 19,
   "id": "3c0afd71-a39e-4300-b503-c426c4434633",
   "metadata": {},
   "outputs": [
    {
     "data": {
      "text/plain": [
       "'pe'"
      ]
     },
     "execution_count": 19,
     "metadata": {},
     "output_type": "execute_result"
    }
   ],
   "source": [
    "a[-3::2] #[-3:0:2] isse nhi aega as st -3 se aega 2 step jaega forward , wahan usko 0 nhi milega "
   ]
  },
  {
   "cell_type": "markdown",
   "id": "3579063b-9622-4264-9c13-ee3202c1a1b6",
   "metadata": {},
   "source": [
    "### STRING ATTRIBUTE:\n",
    "    String is immutable.\n",
    "    we can change the attributes but the original string is not affected."
   ]
  },
  {
   "cell_type": "code",
   "execution_count": 38,
   "id": "14ea7bd4-6743-45af-8909-ffd6b7f051e9",
   "metadata": {},
   "outputs": [
    {
     "data": {
      "text/plain": [
       "'wElCoMe EveRYoNe'"
      ]
     },
     "execution_count": 38,
     "metadata": {},
     "output_type": "execute_result"
    }
   ],
   "source": [
    "s='wElCoMe EveRYoNe'\n",
    "s"
   ]
  },
  {
   "cell_type": "code",
   "execution_count": 39,
   "id": "3e0f8a4a-d012-442b-90e1-cf0725bd1e0f",
   "metadata": {},
   "outputs": [
    {
     "data": {
      "text/plain": [
       "'Welcome everyone'"
      ]
     },
     "execution_count": 39,
     "metadata": {},
     "output_type": "execute_result"
    }
   ],
   "source": [
    "s.capitalize() # 1st letter capital rest small"
   ]
  },
  {
   "cell_type": "code",
   "execution_count": 40,
   "id": "95325fd9-1e0e-41bd-84bb-2c32986ef1a6",
   "metadata": {},
   "outputs": [
    {
     "data": {
      "text/plain": [
       "'WELCOME EVERYONE'"
      ]
     },
     "execution_count": 40,
     "metadata": {},
     "output_type": "execute_result"
    }
   ],
   "source": [
    "s.upper() # sara upper case krdeta hai"
   ]
  },
  {
   "cell_type": "code",
   "execution_count": 41,
   "id": "f5fb2ebd-57cd-4006-b9d1-1de48cf01279",
   "metadata": {},
   "outputs": [
    {
     "data": {
      "text/plain": [
       "'welcome everyone'"
      ]
     },
     "execution_count": 41,
     "metadata": {},
     "output_type": "execute_result"
    }
   ],
   "source": [
    "s.lower() # sara lower case mei kar deta hai"
   ]
  },
  {
   "cell_type": "code",
   "execution_count": 42,
   "id": "1e4727ae-abd9-42f0-b281-9cedaf7735ae",
   "metadata": {},
   "outputs": [
    {
     "data": {
      "text/plain": [
       "'Welcome Everyone'"
      ]
     },
     "execution_count": 42,
     "metadata": {},
     "output_type": "execute_result"
    }
   ],
   "source": [
    "s.title() # har ek word ke 1st charecter ko capital krdega"
   ]
  },
  {
   "cell_type": "code",
   "execution_count": 43,
   "id": "44ab8cb6-90f6-4f68-b511-ae56dada3970",
   "metadata": {},
   "outputs": [
    {
     "data": {
      "text/plain": [
       "'welcome everyone'"
      ]
     },
     "execution_count": 43,
     "metadata": {},
     "output_type": "execute_result"
    }
   ],
   "source": [
    "s.casefold() # same as lower()"
   ]
  },
  {
   "cell_type": "code",
   "execution_count": 44,
   "id": "84da7d63-fbb5-48d9-aaba-05d70a259d73",
   "metadata": {},
   "outputs": [
    {
     "data": {
      "text/plain": [
       "'WeLcOmE eVEryOnE'"
      ]
     },
     "execution_count": 44,
     "metadata": {},
     "output_type": "execute_result"
    }
   ],
   "source": [
    "s.swapcase() # small will change to capital nd vice versa"
   ]
  },
  {
   "cell_type": "code",
   "execution_count": 45,
   "id": "11429322-f551-4000-91a4-b24991f13c48",
   "metadata": {},
   "outputs": [
    {
     "data": {
      "text/plain": [
       "3"
      ]
     },
     "execution_count": 45,
     "metadata": {},
     "output_type": "execute_result"
    }
   ],
   "source": [
    "s.count('e') # jo element loge , wo kitni baar repeat hua hai wo count krke bataega "
   ]
  },
  {
   "cell_type": "code",
   "execution_count": 48,
   "id": "a73a854b-cf6b-49b2-80af-6900ecb597a2",
   "metadata": {},
   "outputs": [
    {
     "data": {
      "text/plain": [
       "6"
      ]
     },
     "execution_count": 48,
     "metadata": {},
     "output_type": "execute_result"
    }
   ],
   "source": [
    "s.index('e') # jo 1st e aega uska index posn bataega "
   ]
  },
  {
   "cell_type": "code",
   "execution_count": 52,
   "id": "1bce8197-c338-49a5-9109-3e86fb8d1ab3",
   "metadata": {},
   "outputs": [
    {
     "data": {
      "text/plain": [
       "'       wElCoMe EveRYoNe       '"
      ]
     },
     "execution_count": 52,
     "metadata": {},
     "output_type": "execute_result"
    }
   ],
   "source": [
    "s.center(30) # total index = 16 \n",
    "# ab 30-16= 14 toh wo left mei 7 spaces dega r8 mein 7 spaces\n",
    "#odd space count ho toh ex:15 , tab left mei (word ke st mei ) 8 spaces dega aur word ke baad 7 spaces"
   ]
  },
  {
   "cell_type": "code",
   "execution_count": 55,
   "id": "724f5aa4-4dc7-4585-861a-a9b5ff5bbbbf",
   "metadata": {},
   "outputs": [
    {
     "data": {
      "text/plain": [
       "'        wElCoMe EveRYoNe       '"
      ]
     },
     "execution_count": 55,
     "metadata": {},
     "output_type": "execute_result"
    }
   ],
   "source": [
    "s.center(31)"
   ]
  },
  {
   "cell_type": "code",
   "execution_count": 58,
   "id": "f03119d9-6c84-4416-b77d-641b4878a148",
   "metadata": {},
   "outputs": [
    {
     "data": {
      "text/plain": [
       "'$$$$$$$$wElCoMe EveRYoNe$$$$$$$'"
      ]
     },
     "execution_count": 58,
     "metadata": {},
     "output_type": "execute_result"
    }
   ],
   "source": [
    "s.center(31, '$') # jo spl symbol doge spaces ke badle wo dikhaega"
   ]
  },
  {
   "cell_type": "code",
   "execution_count": 59,
   "id": "0ec9c772-2200-4a5e-af6c-1fc05e171e34",
   "metadata": {},
   "outputs": [
    {
     "data": {
      "text/plain": [
       "'💕💕💕💕💕💕💕💕wElCoMe EveRYoNe💕💕💕💕💕💕💕'"
      ]
     },
     "execution_count": 59,
     "metadata": {},
     "output_type": "execute_result"
    }
   ],
   "source": [
    "s.center(31,'💕') # windows+. (dot)"
   ]
  },
  {
   "cell_type": "code",
   "execution_count": 62,
   "id": "8b5ec0e6-6d58-49bc-9ef0-e05969a3fb1b",
   "metadata": {},
   "outputs": [
    {
     "data": {
      "text/plain": [
       "'cttc@gmail.com@AIML'"
      ]
     },
     "execution_count": 62,
     "metadata": {},
     "output_type": "execute_result"
    }
   ],
   "source": [
    "'@'.join(['cttc','gmail.com','AIML'])  # jitna bhi elements lere ho usko join krega @ use krke . @ ke alawa bhi kuchh bhi use kr saktein hai."
   ]
  },
  {
   "cell_type": "code",
   "execution_count": 64,
   "id": "c38933dd-7c90-4d76-aef1-073aa9d7c5bb",
   "metadata": {},
   "outputs": [
    {
     "data": {
      "text/plain": [
       "'Yeh😒Kya😒Hogya😒Rabba'"
      ]
     },
     "execution_count": 64,
     "metadata": {},
     "output_type": "execute_result"
    }
   ],
   "source": [
    "'😒'.join(['Yeh','Kya','Hogya','Rabba'])"
   ]
  },
  {
   "cell_type": "code",
   "execution_count": 65,
   "id": "ed695e99-d1f1-4d1c-a65e-821a3b2103b2",
   "metadata": {},
   "outputs": [
    {
     "data": {
      "text/plain": [
       "['cttc', 'gmail.com', 'AIML']"
      ]
     },
     "execution_count": 65,
     "metadata": {},
     "output_type": "execute_result"
    }
   ],
   "source": [
    "'cttc@gmail.com@AIML'.split('@') # jaha bhi @ milega waha se split krdega"
   ]
  },
  {
   "cell_type": "code",
   "execution_count": 66,
   "id": "ff74aec7-813f-4dff-a870-dbd44b8a2b70",
   "metadata": {},
   "outputs": [
    {
     "data": {
      "text/plain": [
       "['Yeh', 'Kya', 'Hogya', 'Rabba']"
      ]
     },
     "execution_count": 66,
     "metadata": {},
     "output_type": "execute_result"
    }
   ],
   "source": [
    "'Yeh😒Kya😒Hogya😒Rabba'.split('😒')"
   ]
  },
  {
   "cell_type": "code",
   "execution_count": 68,
   "id": "4e100e07-ccd3-4304-87b1-21d3f9dbcdd2",
   "metadata": {},
   "outputs": [
    {
     "data": {
      "text/plain": [
       "['c', '', 'c@gmail.com@AIML']"
      ]
     },
     "execution_count": 68,
     "metadata": {},
     "output_type": "execute_result"
    }
   ],
   "source": [
    "'cttc@gmail.com@AIML'.split('t') # jitni baar chareccter milega utni baar split krega"
   ]
  },
  {
   "cell_type": "code",
   "execution_count": 69,
   "id": "ab9dbd59-e4df-456d-8d15-a9b952068d7c",
   "metadata": {},
   "outputs": [
    {
     "data": {
      "text/plain": [
       "['', 'tt', '@gmail.', 'om@AIML']"
      ]
     },
     "execution_count": 69,
     "metadata": {},
     "output_type": "execute_result"
    }
   ],
   "source": [
    "'cttc@gmail.com@AIML'.split('c')"
   ]
  },
  {
   "cell_type": "code",
   "execution_count": 71,
   "id": "4aa1cce3-952c-47eb-8287-c3faff284136",
   "metadata": {},
   "outputs": [
    {
     "data": {
      "text/plain": [
       "'       wElCoMe EveRYoNe       '"
      ]
     },
     "execution_count": 71,
     "metadata": {},
     "output_type": "execute_result"
    }
   ],
   "source": [
    "s1= '       wElCoMe EveRYoNe       '\n",
    "s1"
   ]
  },
  {
   "cell_type": "code",
   "execution_count": 73,
   "id": "a6225b69-d29d-4710-b895-8bf1ac6d65be",
   "metadata": {},
   "outputs": [
    {
     "data": {
      "text/plain": [
       "'wElCoMe EveRYoNe'"
      ]
     },
     "execution_count": 73,
     "metadata": {},
     "output_type": "execute_result"
    }
   ],
   "source": [
    "s1.strip() # removes all the space from st and end not the middle of the string "
   ]
  },
  {
   "cell_type": "code",
   "execution_count": 75,
   "id": "9fc8c326-3857-4c69-9744-d4497ecf4e66",
   "metadata": {},
   "outputs": [
    {
     "data": {
      "text/plain": [
       "'wElCoMe EveRYoNe       '"
      ]
     },
     "execution_count": 75,
     "metadata": {},
     "output_type": "execute_result"
    }
   ],
   "source": [
    "s1.lstrip() # removes spaces only from the left side of the string"
   ]
  },
  {
   "cell_type": "code",
   "execution_count": 76,
   "id": "fec0e6b6-4bfd-4be6-a7f7-9857a050c6b5",
   "metadata": {},
   "outputs": [
    {
     "data": {
      "text/plain": [
       "'       wElCoMe EveRYoNe'"
      ]
     },
     "execution_count": 76,
     "metadata": {},
     "output_type": "execute_result"
    }
   ],
   "source": [
    "s1.rstrip() # removes only spaces at the r8 side of the string"
   ]
  },
  {
   "cell_type": "code",
   "execution_count": 79,
   "id": "82968ef8-95d4-43a5-a784-bb34e8d9538d",
   "metadata": {},
   "outputs": [
    {
     "data": {
      "text/plain": [
       "'wElCoMe EveRY      oNe'"
      ]
     },
     "execution_count": 79,
     "metadata": {},
     "output_type": "execute_result"
    }
   ],
   "source": [
    "s2= '       wElCoMe EveRY      oNe       '\n",
    "s2.strip()\n",
    "#agar inside space hatana hai toh split krke fir kam krna hoga "
   ]
  },
  {
   "cell_type": "code",
   "execution_count": 80,
   "id": "d21970bf-9ab5-47f9-b1e1-4c332faba9f8",
   "metadata": {},
   "outputs": [
    {
     "data": {
      "text/plain": [
       "'wElCoMe EveRYoNe       '"
      ]
     },
     "execution_count": 80,
     "metadata": {},
     "output_type": "execute_result"
    }
   ],
   "source": [
    "s3='#########wElCoMe EveRYoNe       '\n",
    "s3.strip('#') # jaha '#' mila sirf wahi kata , spaces nhi katega "
   ]
  },
  {
   "cell_type": "code",
   "execution_count": 82,
   "id": "ae533185-cea0-476e-bd8c-632d1a28b8d3",
   "metadata": {},
   "outputs": [
    {
     "data": {
      "text/plain": [
       "True"
      ]
     },
     "execution_count": 82,
     "metadata": {},
     "output_type": "execute_result"
    }
   ],
   "source": [
    "'ABC'.isalpha() # checks whether the string is alphabet only then it returns True/False i.e boolean value"
   ]
  },
  {
   "cell_type": "code",
   "execution_count": 83,
   "id": "b7bc90d0-99fe-4dc3-b85d-93b4271ade92",
   "metadata": {},
   "outputs": [
    {
     "data": {
      "text/plain": [
       "True"
      ]
     },
     "execution_count": 83,
     "metadata": {},
     "output_type": "execute_result"
    }
   ],
   "source": [
    "'ABC'.isupper() # checks whether the alphabets are in uppercase or not"
   ]
  },
  {
   "cell_type": "code",
   "execution_count": 84,
   "id": "936f146b-e44f-4803-abde-0bd770480394",
   "metadata": {},
   "outputs": [
    {
     "data": {
      "text/plain": [
       "False"
      ]
     },
     "execution_count": 84,
     "metadata": {},
     "output_type": "execute_result"
    }
   ],
   "source": [
    "'ABC'.islower() # checks whether the alphabets are in lowercase or not"
   ]
  },
  {
   "cell_type": "code",
   "execution_count": 85,
   "id": "77a109c4-f135-4f67-b40f-2f9e1683f40c",
   "metadata": {},
   "outputs": [
    {
     "data": {
      "text/plain": [
       "True"
      ]
     },
     "execution_count": 85,
     "metadata": {},
     "output_type": "execute_result"
    }
   ],
   "source": [
    "'abcdefghi'.islower()"
   ]
  },
  {
   "cell_type": "code",
   "execution_count": 86,
   "id": "4024accd-9c74-4375-afa6-ccb1ca326430",
   "metadata": {},
   "outputs": [
    {
     "data": {
      "text/plain": [
       "True"
      ]
     },
     "execution_count": 86,
     "metadata": {},
     "output_type": "execute_result"
    }
   ],
   "source": [
    "'Abc'.istitle()"
   ]
  },
  {
   "cell_type": "code",
   "execution_count": 88,
   "id": "12b4ecbc-8781-4f27-b139-f1b94e3b940b",
   "metadata": {},
   "outputs": [
    {
     "ename": "AttributeError",
     "evalue": "'str' object has no attribute 'iscapitalize'",
     "output_type": "error",
     "traceback": [
      "\u001b[1;31m---------------------------------------------------------------------------\u001b[0m",
      "\u001b[1;31mAttributeError\u001b[0m                            Traceback (most recent call last)",
      "Cell \u001b[1;32mIn[88], line 1\u001b[0m\n\u001b[1;32m----> 1\u001b[0m \u001b[38;5;124m'\u001b[39m\u001b[38;5;124mAbc\u001b[39m\u001b[38;5;124m'\u001b[39m\u001b[38;5;241m.\u001b[39miscapitalize()\n",
      "\u001b[1;31mAttributeError\u001b[0m: 'str' object has no attribute 'iscapitalize'"
     ]
    }
   ],
   "source": [
    "'Abc'.iscapitalize() #capitalize nhi dikhaega "
   ]
  },
  {
   "cell_type": "code",
   "execution_count": 89,
   "id": "27bbb5f0-b068-4dce-ad93-b2ac9f9fec0a",
   "metadata": {},
   "outputs": [
    {
     "data": {
      "text/plain": [
       "False"
      ]
     },
     "execution_count": 89,
     "metadata": {},
     "output_type": "execute_result"
    }
   ],
   "source": [
    "'1234'.isalpha()"
   ]
  },
  {
   "cell_type": "code",
   "execution_count": 91,
   "id": "3bb90734-dfea-440d-a04e-485e202b5a27",
   "metadata": {},
   "outputs": [
    {
     "data": {
      "text/plain": [
       "True"
      ]
     },
     "execution_count": 91,
     "metadata": {},
     "output_type": "execute_result"
    }
   ],
   "source": [
    "'1234'.isnumeric() # checks whether the string is numeric or not"
   ]
  },
  {
   "cell_type": "code",
   "execution_count": 92,
   "id": "919d0aa4-a530-453a-97d8-92a979df5dda",
   "metadata": {},
   "outputs": [
    {
     "data": {
      "text/plain": [
       "False"
      ]
     },
     "execution_count": 92,
     "metadata": {},
     "output_type": "execute_result"
    }
   ],
   "source": [
    "'123.5'.isdigit() # 123.5 mein digit nhi aega as yeh decimal hai"
   ]
  },
  {
   "cell_type": "code",
   "execution_count": 96,
   "id": "cb187724-7685-4443-b6fe-8a4d38642531",
   "metadata": {},
   "outputs": [
    {
     "data": {
      "text/plain": [
       "False"
      ]
     },
     "execution_count": 96,
     "metadata": {},
     "output_type": "execute_result"
    }
   ],
   "source": [
    "'123.5'.isdecimal() #yeh decimal no. nhi hota hai (binary,decimal,hexadecimal,octadecimal)"
   ]
  },
  {
   "cell_type": "code",
   "execution_count": 94,
   "id": "1a8da95c-a3e1-4b14-b2da-2829a9590c12",
   "metadata": {},
   "outputs": [
    {
     "data": {
      "text/plain": [
       "True"
      ]
     },
     "execution_count": 94,
     "metadata": {},
     "output_type": "execute_result"
    }
   ],
   "source": [
    "'Abc1234'.isalnum() #yeh alpha numeric hai"
   ]
  },
  {
   "cell_type": "code",
   "execution_count": 109,
   "id": "c175f72e-5b90-46e6-a63c-fe9b0fd1de93",
   "metadata": {},
   "outputs": [
    {
     "data": {
      "text/plain": [
       "True"
      ]
     },
     "execution_count": 109,
     "metadata": {},
     "output_type": "execute_result"
    }
   ],
   "source": [
    "'27'.isascii() # ASCII value of 27 is [ESCAPE]\n",
    "#small letters-97 to 122]\n",
    "#capital letters - 65 to 96\n",
    "# spl symbols and keywords also have ascii values \n"
   ]
  },
  {
   "cell_type": "markdown",
   "id": "72597a36-73e9-42e1-a906-8cb597e2b653",
   "metadata": {},
   "source": [
    "![MyImage](ASCII-Table.png)"
   ]
  },
  {
   "cell_type": "markdown",
   "id": "f451df9f-eb07-45d8-8f3a-88f7a338a29d",
   "metadata": {},
   "source": [
    "#### LIST ATTRIBUTES:\n"
   ]
  },
  {
   "cell_type": "code",
   "execution_count": 174,
   "id": "60581984-f71b-4f17-9050-b1091c05c337",
   "metadata": {},
   "outputs": [
    {
     "name": "stdout",
     "output_type": "stream",
     "text": [
      "[20, 'apple', 30.5, (3+4j), True]\n"
     ]
    }
   ],
   "source": [
    "l=[20,'apple',30.5,3+4j,True]\n",
    "print(l)"
   ]
  },
  {
   "cell_type": "markdown",
   "id": "4a97d9fd-9f4c-470a-9dfa-f1cfa3f054ab",
   "metadata": {},
   "source": [
    "***Append,Insert,Extend*** are the operation that is done on a list"
   ]
  },
  {
   "cell_type": "code",
   "execution_count": 175,
   "id": "faa278f8-c0ce-4e10-b194-eeb4300a6ff5",
   "metadata": {},
   "outputs": [
    {
     "data": {
      "text/plain": [
       "(3+4j)"
      ]
     },
     "execution_count": 175,
     "metadata": {},
     "output_type": "execute_result"
    }
   ],
   "source": [
    "l[3]"
   ]
  },
  {
   "cell_type": "code",
   "execution_count": 176,
   "id": "d617aede-7eaf-418f-818f-4bc3cd74cc86",
   "metadata": {},
   "outputs": [
    {
     "data": {
      "text/plain": [
       "[30.5, (3+4j)]"
      ]
     },
     "execution_count": 176,
     "metadata": {},
     "output_type": "execute_result"
    }
   ],
   "source": [
    "l[2:4:1]"
   ]
  },
  {
   "cell_type": "code",
   "execution_count": 177,
   "id": "07fd3dd4-1ecd-4927-b4ad-21e1966d1bee",
   "metadata": {},
   "outputs": [
    {
     "data": {
      "text/plain": [
       "[20, 'apple', 30.5, (3+4j), True, 89]"
      ]
     },
     "execution_count": 177,
     "metadata": {},
     "output_type": "execute_result"
    }
   ],
   "source": [
    "l.append(89) # element list ke last mei add hogya\n",
    "l"
   ]
  },
  {
   "cell_type": "code",
   "execution_count": 178,
   "id": "a24eabbc-099d-47a1-9828-f77cd2ac094c",
   "metadata": {},
   "outputs": [
    {
     "data": {
      "text/plain": [
       "[20, 'apple', 30.5, 67, (3+4j), True, 89]"
      ]
     },
     "execution_count": 178,
     "metadata": {},
     "output_type": "execute_result"
    }
   ],
   "source": [
    "l.insert(3,67)\n",
    "l\n",
    "#jo index posn dia jaega usme wo element add krega"
   ]
  },
  {
   "cell_type": "code",
   "execution_count": 179,
   "id": "0684d3df-12d8-42b0-85ec-72f95a21fffa",
   "metadata": {},
   "outputs": [
    {
     "data": {
      "text/plain": [
       "[20, 'apple', 30.5, 67, (3+4j), True, 89, 43, 21.5]"
      ]
     },
     "execution_count": 179,
     "metadata": {},
     "output_type": "execute_result"
    }
   ],
   "source": [
    "m=[43,21.5]\n",
    "l.extend(m)#adds the new list at the end of the old one\n",
    "l"
   ]
  },
  {
   "cell_type": "code",
   "execution_count": 180,
   "id": "4ddbc75e-b280-429f-af49-bd7f90ff0dc8",
   "metadata": {},
   "outputs": [
    {
     "data": {
      "text/plain": [
       "21.5"
      ]
     },
     "execution_count": 180,
     "metadata": {},
     "output_type": "execute_result"
    }
   ],
   "source": [
    "l.pop() # pops the last inserted element LIFO when index is not given as by default index id -1"
   ]
  },
  {
   "cell_type": "code",
   "execution_count": 181,
   "id": "f350dfe8-4899-482a-9960-19c87e8b7708",
   "metadata": {},
   "outputs": [
    {
     "data": {
      "text/plain": [
       "[20, 'apple', 30.5, 67, (3+4j), True, 89, 43]"
      ]
     },
     "execution_count": 181,
     "metadata": {},
     "output_type": "execute_result"
    }
   ],
   "source": [
    "l"
   ]
  },
  {
   "cell_type": "code",
   "execution_count": 182,
   "id": "afb2114b-4216-4cc9-a691-fab8a66c654b",
   "metadata": {},
   "outputs": [
    {
     "data": {
      "text/plain": [
       "20"
      ]
     },
     "execution_count": 182,
     "metadata": {},
     "output_type": "execute_result"
    }
   ],
   "source": [
    "l.pop(0)"
   ]
  },
  {
   "cell_type": "code",
   "execution_count": 183,
   "id": "aa667501-a97b-437a-877c-79ff140e6699",
   "metadata": {},
   "outputs": [
    {
     "data": {
      "text/plain": [
       "['apple', 30.5, 67, (3+4j), True, 89, 43]"
      ]
     },
     "execution_count": 183,
     "metadata": {},
     "output_type": "execute_result"
    }
   ],
   "source": [
    "l"
   ]
  },
  {
   "cell_type": "code",
   "execution_count": 184,
   "id": "aaeeb67a-2431-4210-86a3-c1bdcd3ce2be",
   "metadata": {},
   "outputs": [],
   "source": [
    "l.remove(30.5) # removes the 1st occurance agar do yaa teen same element hoga toh 1st occuring element ko uddaega"
   ]
  },
  {
   "cell_type": "code",
   "execution_count": 185,
   "id": "bc162412-4a34-427e-99ce-1c5391bb431d",
   "metadata": {},
   "outputs": [
    {
     "data": {
      "text/plain": [
       "['apple', 67, (3+4j), True, 89, 43]"
      ]
     },
     "execution_count": 185,
     "metadata": {},
     "output_type": "execute_result"
    }
   ],
   "source": [
    "l"
   ]
  },
  {
   "cell_type": "code",
   "execution_count": 186,
   "id": "fd9f6c81-82a7-412a-a1fd-a27307e87809",
   "metadata": {},
   "outputs": [
    {
     "data": {
      "text/plain": [
       "[]"
      ]
     },
     "execution_count": 186,
     "metadata": {},
     "output_type": "execute_result"
    }
   ],
   "source": [
    "l.clear() # sara kuchh clear krdia ya dlt krdia\n",
    "l"
   ]
  },
  {
   "cell_type": "code",
   "execution_count": 194,
   "id": "67673fd2-a1ac-4603-a65b-2d115db81dd0",
   "metadata": {},
   "outputs": [
    {
     "data": {
      "text/plain": [
       "[23, 43, 12, 64, 23, 15, 87]"
      ]
     },
     "execution_count": 194,
     "metadata": {},
     "output_type": "execute_result"
    }
   ],
   "source": [
    "l1=[23,43,12,64,23,15,87]\n",
    "l1\n"
   ]
  },
  {
   "cell_type": "code",
   "execution_count": 195,
   "id": "d8bb70ad-d7dc-4e8b-b544-0a6ca6195db9",
   "metadata": {},
   "outputs": [
    {
     "data": {
      "text/plain": [
       "[12, 15, 23, 23, 43, 64, 87]"
      ]
     },
     "execution_count": 195,
     "metadata": {},
     "output_type": "execute_result"
    }
   ],
   "source": [
    "l1.sort() # ascending order mei arrange krega\n",
    "l1"
   ]
  },
  {
   "cell_type": "code",
   "execution_count": 196,
   "id": "d42973ea-5ddf-4f23-b516-0580c1130d59",
   "metadata": {},
   "outputs": [
    {
     "data": {
      "text/plain": [
       "[87, 64, 43, 23, 23, 15, 12]"
      ]
     },
     "execution_count": 196,
     "metadata": {},
     "output_type": "execute_result"
    }
   ],
   "source": [
    "l1.sort(reverse = True) # descending mei arrange hoga\n",
    "l1"
   ]
  },
  {
   "cell_type": "code",
   "execution_count": 198,
   "id": "7efbe75a-52dc-4bac-835e-d2001812a95e",
   "metadata": {},
   "outputs": [
    {
     "data": {
      "text/plain": [
       "[87, 15, 23, 64, 12, 43, 23]"
      ]
     },
     "execution_count": 198,
     "metadata": {},
     "output_type": "execute_result"
    }
   ],
   "source": [
    "l1=[23,43,12,64,23,15,87]\n",
    "l1.reverse()\n",
    "l1"
   ]
  },
  {
   "cell_type": "code",
   "execution_count": 199,
   "id": "a5d28370-c8b4-4507-8e92-c58712a7ba9b",
   "metadata": {},
   "outputs": [
    {
     "data": {
      "text/plain": [
       "3"
      ]
     },
     "execution_count": 199,
     "metadata": {},
     "output_type": "execute_result"
    }
   ],
   "source": [
    "l1.index(64)"
   ]
  },
  {
   "cell_type": "markdown",
   "id": "48772310-0e31-4278-bfff-47782731e57c",
   "metadata": {},
   "source": [
    "### TUPLE ATTRIBUTE:\n",
    "**count , index operations are used.**"
   ]
  },
  {
   "cell_type": "code",
   "execution_count": 200,
   "id": "4d945541-05da-4d61-ae60-0b08b569fe59",
   "metadata": {},
   "outputs": [
    {
     "data": {
      "text/plain": [
       "('cat', 23, 42.8, False)"
      ]
     },
     "execution_count": 200,
     "metadata": {},
     "output_type": "execute_result"
    }
   ],
   "source": [
    "t=('cat',23,42.8,False)\n",
    "t"
   ]
  },
  {
   "cell_type": "code",
   "execution_count": 201,
   "id": "ec7c9f18-dba6-4dec-9161-047ab2dc4554",
   "metadata": {},
   "outputs": [
    {
     "data": {
      "text/plain": [
       "1"
      ]
     },
     "execution_count": 201,
     "metadata": {},
     "output_type": "execute_result"
    }
   ],
   "source": [
    "t.count(23) # kitni baar yeh element present hai wo count krke deta hai"
   ]
  },
  {
   "cell_type": "code",
   "execution_count": 202,
   "id": "88e74485-41bc-4222-99f3-cfa0bd3cca9c",
   "metadata": {},
   "outputs": [
    {
     "data": {
      "text/plain": [
       "2"
      ]
     },
     "execution_count": 202,
     "metadata": {},
     "output_type": "execute_result"
    }
   ],
   "source": [
    "t.index(42.8) # 1st occurance ka index bata ta hai"
   ]
  },
  {
   "cell_type": "code",
   "execution_count": 203,
   "id": "4078cd98-a003-436c-ad5d-22bee0d8527a",
   "metadata": {},
   "outputs": [],
   "source": [
    "#since tuple is immutable it has only the above two attributes."
   ]
  },
  {
   "cell_type": "markdown",
   "id": "5458cac6-1a4d-462d-b42a-61d69abbbf68",
   "metadata": {},
   "source": [
    "### SET ATTRIBUTES:\n",
    "**Pop,Add,Union,Intersection & Difference**"
   ]
  },
  {
   "cell_type": "code",
   "execution_count": 206,
   "id": "2955a31d-260e-47d2-b514-82a7d28d895a",
   "metadata": {},
   "outputs": [
    {
     "data": {
      "text/plain": [
       "{24, 27, 36, 55, 83, 87, True, 'cttc'}"
      ]
     },
     "execution_count": 206,
     "metadata": {},
     "output_type": "execute_result"
    }
   ],
   "source": [
    "a={83,27,55,24,36,87,'cttc',True}\n",
    "a"
   ]
  },
  {
   "cell_type": "code",
   "execution_count": 207,
   "id": "4a385dc8-83e7-4aef-85ed-01536be3a887",
   "metadata": {},
   "outputs": [
    {
     "data": {
      "text/plain": [
       "{24, 27, 36, 55, 83, 87, 'cttc'}"
      ]
     },
     "execution_count": 207,
     "metadata": {},
     "output_type": "execute_result"
    }
   ],
   "source": [
    "a.pop()\n",
    "a"
   ]
  },
  {
   "cell_type": "code",
   "execution_count": 209,
   "id": "a0ec0193-cb20-4f1c-86db-54a331fc4ce2",
   "metadata": {},
   "outputs": [
    {
     "data": {
      "text/plain": [
       "{2, 3, 5, 6}"
      ]
     },
     "execution_count": 209,
     "metadata": {},
     "output_type": "execute_result"
    }
   ],
   "source": [
    "b={2,3,2,5,3,3,5,6}#prints unique values only\n",
    "b"
   ]
  },
  {
   "cell_type": "code",
   "execution_count": 220,
   "id": "e19d00b2-b3e4-4195-86a2-dc1085981260",
   "metadata": {},
   "outputs": [
    {
     "data": {
      "text/plain": [
       "{10, 24, 27, 36, 55, 83, 87, 'cttc'}"
      ]
     },
     "execution_count": 220,
     "metadata": {},
     "output_type": "execute_result"
    }
   ],
   "source": [
    "a.add(10)\n",
    "a # adds the element randomly"
   ]
  },
  {
   "cell_type": "code",
   "execution_count": 222,
   "id": "aa6fc2ef-1d08-4d9b-a3ce-4cd73ce870d4",
   "metadata": {},
   "outputs": [],
   "source": [
    "a={1,2,3,6,4}\n",
    "b={2,3,7,5}"
   ]
  },
  {
   "cell_type": "code",
   "execution_count": 223,
   "id": "ef6f1ba0-3206-48d0-8fdf-dfc367554714",
   "metadata": {},
   "outputs": [
    {
     "data": {
      "text/plain": [
       "{1, 2, 3, 4, 6}"
      ]
     },
     "execution_count": 223,
     "metadata": {},
     "output_type": "execute_result"
    }
   ],
   "source": [
    "a"
   ]
  },
  {
   "cell_type": "code",
   "execution_count": 224,
   "id": "f389df34-3412-42ec-86c8-5444bc723a1f",
   "metadata": {},
   "outputs": [
    {
     "data": {
      "text/plain": [
       "{2, 3, 5, 7}"
      ]
     },
     "execution_count": 224,
     "metadata": {},
     "output_type": "execute_result"
    }
   ],
   "source": [
    "b"
   ]
  },
  {
   "cell_type": "markdown",
   "id": "5830f870-12b1-447f-ba4e-52dc2f31c868",
   "metadata": {},
   "source": [
    "##### Union:\n"
   ]
  },
  {
   "cell_type": "code",
   "execution_count": 227,
   "id": "63546514-454d-4a3f-8021-6fdbc57ff583",
   "metadata": {},
   "outputs": [
    {
     "data": {
      "text/plain": [
       "{1, 2, 3, 4, 5, 6, 7}"
      ]
     },
     "execution_count": 227,
     "metadata": {},
     "output_type": "execute_result"
    }
   ],
   "source": [
    "a.union(b) # adds all elements of both sets"
   ]
  },
  {
   "cell_type": "markdown",
   "id": "37e7d863-a3da-4d9b-93a3-14cc15eac7ff",
   "metadata": {},
   "source": [
    "##### Intersection:"
   ]
  },
  {
   "cell_type": "code",
   "execution_count": 228,
   "id": "0230cfd0-80dc-4a57-9549-35af95dd647d",
   "metadata": {},
   "outputs": [
    {
     "data": {
      "text/plain": [
       "{2, 3}"
      ]
     },
     "execution_count": 228,
     "metadata": {},
     "output_type": "execute_result"
    }
   ],
   "source": [
    "a.intersection(b) # shows common elements"
   ]
  },
  {
   "cell_type": "code",
   "execution_count": 230,
   "id": "f52afef5-ebb3-4534-bcb5-ced099213928",
   "metadata": {},
   "outputs": [
    {
     "data": {
      "text/plain": [
       "{1, 4, 6}"
      ]
     },
     "execution_count": 230,
     "metadata": {},
     "output_type": "execute_result"
    }
   ],
   "source": [
    "a.difference(b) # shows elements of a not in b"
   ]
  },
  {
   "cell_type": "code",
   "execution_count": 232,
   "id": "9291f397-d9ef-4df9-b630-1c5f0b032c8d",
   "metadata": {},
   "outputs": [
    {
     "data": {
      "text/plain": [
       "{5, 7}"
      ]
     },
     "execution_count": 232,
     "metadata": {},
     "output_type": "execute_result"
    }
   ],
   "source": [
    "b.difference(a) # shows elements of b not in a"
   ]
  },
  {
   "cell_type": "code",
   "execution_count": 233,
   "id": "7be4a8fa-3c16-41fb-b20f-6b6c781da06b",
   "metadata": {},
   "outputs": [
    {
     "data": {
      "text/plain": [
       "False"
      ]
     },
     "execution_count": 233,
     "metadata": {},
     "output_type": "execute_result"
    }
   ],
   "source": [
    "a.issubset(b)"
   ]
  },
  {
   "cell_type": "code",
   "execution_count": 235,
   "id": "bb3ad7fa-24e3-4b2d-9f66-b5b477130c83",
   "metadata": {},
   "outputs": [
    {
     "data": {
      "text/plain": [
       "False"
      ]
     },
     "execution_count": 235,
     "metadata": {},
     "output_type": "execute_result"
    }
   ],
   "source": [
    "a.issuperset(b)"
   ]
  },
  {
   "cell_type": "code",
   "execution_count": 236,
   "id": "25a9e3bd-bd7e-487d-8d2b-5e1b9a733a05",
   "metadata": {},
   "outputs": [
    {
     "data": {
      "text/plain": [
       "False"
      ]
     },
     "execution_count": 236,
     "metadata": {},
     "output_type": "execute_result"
    }
   ],
   "source": [
    "a.isdisjoint(b)"
   ]
  },
  {
   "cell_type": "code",
   "execution_count": 237,
   "id": "d940c7c5-c17a-49d2-ad3e-0dce8a61a977",
   "metadata": {},
   "outputs": [
    {
     "data": {
      "text/plain": [
       "1"
      ]
     },
     "execution_count": 237,
     "metadata": {},
     "output_type": "execute_result"
    }
   ],
   "source": [
    "a.pop()"
   ]
  },
  {
   "cell_type": "code",
   "execution_count": 238,
   "id": "9f0cdfce-f662-4059-9b35-64668f4a3703",
   "metadata": {},
   "outputs": [
    {
     "data": {
      "text/plain": [
       "{2, 3, 4, 6}"
      ]
     },
     "execution_count": 238,
     "metadata": {},
     "output_type": "execute_result"
    }
   ],
   "source": [
    "a"
   ]
  },
  {
   "cell_type": "code",
   "execution_count": 239,
   "id": "f7f895e2-8af3-49f6-92bb-4b89a9fda2ee",
   "metadata": {},
   "outputs": [],
   "source": [
    "# deleted 1st element"
   ]
  },
  {
   "cell_type": "code",
   "execution_count": 240,
   "id": "6502124b-ea6d-4fd2-9641-67b1ff20b1a1",
   "metadata": {},
   "outputs": [
    {
     "data": {
      "text/plain": [
       "{12, 23, 35.4}"
      ]
     },
     "execution_count": 240,
     "metadata": {},
     "output_type": "execute_result"
    }
   ],
   "source": [
    "c={34,23,12,35.4}\n",
    "c.pop()\n",
    "c"
   ]
  },
  {
   "cell_type": "code",
   "execution_count": 241,
   "id": "a74ca70b-a64c-4513-bb43-5e3c834528aa",
   "metadata": {},
   "outputs": [
    {
     "data": {
      "text/plain": [
       "{12, 35.4}"
      ]
     },
     "execution_count": 241,
     "metadata": {},
     "output_type": "execute_result"
    }
   ],
   "source": [
    "c.remove(23)\n",
    "c"
   ]
  },
  {
   "cell_type": "code",
   "execution_count": 242,
   "id": "e6eafa26-a3e6-4688-a825-d684f8b54999",
   "metadata": {},
   "outputs": [],
   "source": [
    "# jo element doge usii elemnt ko remove krega"
   ]
  },
  {
   "cell_type": "markdown",
   "id": "1c520120-fcb5-46f9-af2d-51b37e1772c8",
   "metadata": {},
   "source": [
    "### DICTIONARY ATTRIBUTES:\n"
   ]
  },
  {
   "cell_type": "code",
   "execution_count": 243,
   "id": "ba3031bf-3028-4092-a281-9d1c4995bb1f",
   "metadata": {},
   "outputs": [
    {
     "data": {
      "text/plain": [
       "{'Name': 'Ram', 'Roll': 34, 'Course': 'AIML', 'Age': 21}"
      ]
     },
     "execution_count": 243,
     "metadata": {},
     "output_type": "execute_result"
    }
   ],
   "source": [
    "d={'Name':'Ram','Roll':34,'Course':'AIML','Age':21}\n",
    "d"
   ]
  },
  {
   "cell_type": "code",
   "execution_count": 244,
   "id": "0773c3fd-db66-4392-a64d-7d04b43ba3b7",
   "metadata": {},
   "outputs": [
    {
     "data": {
      "text/plain": [
       "dict"
      ]
     },
     "execution_count": 244,
     "metadata": {},
     "output_type": "execute_result"
    }
   ],
   "source": [
    "type(d)"
   ]
  },
  {
   "cell_type": "code",
   "execution_count": 247,
   "id": "4e00f4b6-d9aa-42d2-b9fb-bd463fe466c2",
   "metadata": {},
   "outputs": [
    {
     "data": {
      "text/plain": [
       "{'Name': 'Ram', 'Roll': 34, 'Course': 'AIML', 'Age': 21, 'Marks': 92}"
      ]
     },
     "execution_count": 247,
     "metadata": {},
     "output_type": "execute_result"
    }
   ],
   "source": [
    "d.update({'Marks':92}) #dict ke last mei add krdega\n",
    "d"
   ]
  },
  {
   "cell_type": "code",
   "execution_count": 248,
   "id": "60ec4ea5-4735-4548-bdc8-7f3d2a238188",
   "metadata": {},
   "outputs": [
    {
     "data": {
      "text/plain": [
       "{'Name': 'Ram', 'Roll': 34, 'Course': 'DA', 'Age': 21, 'Marks': 92}"
      ]
     },
     "execution_count": 248,
     "metadata": {},
     "output_type": "execute_result"
    }
   ],
   "source": [
    "d.update({'Course': 'DA'})\n",
    "d"
   ]
  },
  {
   "cell_type": "code",
   "execution_count": 250,
   "id": "51bc576e-787f-4b18-b8c2-79f2a778d2f9",
   "metadata": {},
   "outputs": [
    {
     "data": {
      "text/plain": [
       "{'Name': 'Ram',\n",
       " 'Roll': 34,\n",
       " 'Course': 'DA',\n",
       " 'Age': 21,\n",
       " 'Marks': 92,\n",
       " 'Sub': 'Maths'}"
      ]
     },
     "execution_count": 250,
     "metadata": {},
     "output_type": "execute_result"
    }
   ],
   "source": [
    "d['Sub']='Maths'\n",
    "d"
   ]
  },
  {
   "cell_type": "code",
   "execution_count": 251,
   "id": "ab3df196-46df-4f76-9693-9f08a815eb47",
   "metadata": {},
   "outputs": [
    {
     "name": "stdout",
     "output_type": "stream",
     "text": [
      "{'Name': 'Ram', 'Roll': 34, 'Course': 'DA', 'Age': 21, 'Marks': 92, 'Sub': 'Maths'}\n"
     ]
    }
   ],
   "source": [
    "print(d)"
   ]
  },
  {
   "cell_type": "code",
   "execution_count": 252,
   "id": "dc7cd46b-13b6-41cf-b619-51a832a821b0",
   "metadata": {},
   "outputs": [
    {
     "data": {
      "text/plain": [
       "'Ram'"
      ]
     },
     "execution_count": 252,
     "metadata": {},
     "output_type": "execute_result"
    }
   ],
   "source": [
    "d.get('Name')"
   ]
  },
  {
   "cell_type": "code",
   "execution_count": 253,
   "id": "4e814165-a854-4b55-aeb1-3045e4b312c3",
   "metadata": {},
   "outputs": [
    {
     "data": {
      "text/plain": [
       "dict_keys(['Name', 'Roll', 'Course', 'Age', 'Marks', 'Sub'])"
      ]
     },
     "execution_count": 253,
     "metadata": {},
     "output_type": "execute_result"
    }
   ],
   "source": [
    "d.keys()"
   ]
  },
  {
   "cell_type": "code",
   "execution_count": 254,
   "id": "4220217f-c226-45a0-916c-9fa2ce5a1aaf",
   "metadata": {},
   "outputs": [
    {
     "data": {
      "text/plain": [
       "dict_values(['Ram', 34, 'DA', 21, 92, 'Maths'])"
      ]
     },
     "execution_count": 254,
     "metadata": {},
     "output_type": "execute_result"
    }
   ],
   "source": [
    "d.values()"
   ]
  },
  {
   "cell_type": "code",
   "execution_count": 260,
   "id": "70f9a19b-0dea-46bc-a6e3-0838632eb6f0",
   "metadata": {},
   "outputs": [
    {
     "data": {
      "text/plain": [
       "dict_items([('Name', 'Ram'), ('Roll', 34), ('Course', 'DA'), ('Age', 21), ('Marks', 92)])"
      ]
     },
     "execution_count": 260,
     "metadata": {},
     "output_type": "execute_result"
    }
   ],
   "source": [
    "d.items()#converts items into tuples"
   ]
  },
  {
   "cell_type": "code",
   "execution_count": 257,
   "id": "63e313a6-56b9-4669-b0a0-186373e807d0",
   "metadata": {},
   "outputs": [
    {
     "ename": "TypeError",
     "evalue": "pop expected at least 1 argument, got 0",
     "output_type": "error",
     "traceback": [
      "\u001b[1;31m---------------------------------------------------------------------------\u001b[0m",
      "\u001b[1;31mTypeError\u001b[0m                                 Traceback (most recent call last)",
      "Cell \u001b[1;32mIn[257], line 1\u001b[0m\n\u001b[1;32m----> 1\u001b[0m d\u001b[38;5;241m.\u001b[39mpop()\n",
      "\u001b[1;31mTypeError\u001b[0m: pop expected at least 1 argument, got 0"
     ]
    }
   ],
   "source": [
    "d.pop() # key dena paddega"
   ]
  },
  {
   "cell_type": "code",
   "execution_count": 259,
   "id": "3dfdfc18-5794-4b16-87af-fd450802584b",
   "metadata": {},
   "outputs": [
    {
     "data": {
      "text/plain": [
       "{'Name': 'Ram', 'Roll': 34, 'Course': 'DA', 'Age': 21, 'Marks': 92}"
      ]
     },
     "execution_count": 259,
     "metadata": {},
     "output_type": "execute_result"
    }
   ],
   "source": [
    "d.popitem()\n",
    "d"
   ]
  },
  {
   "cell_type": "code",
   "execution_count": 261,
   "id": "0f20ea51-535b-48bb-92cd-fac52f782c03",
   "metadata": {},
   "outputs": [],
   "source": [
    "d.clear()"
   ]
  },
  {
   "cell_type": "code",
   "execution_count": 262,
   "id": "42475865-b8f5-43cc-bafd-f4cb8ee408d8",
   "metadata": {},
   "outputs": [
    {
     "data": {
      "text/plain": [
       "{}"
      ]
     },
     "execution_count": 262,
     "metadata": {},
     "output_type": "execute_result"
    }
   ],
   "source": [
    "d\n"
   ]
  },
  {
   "cell_type": "code",
   "execution_count": null,
   "id": "f7e2421e-cd59-4678-b1de-80fb135e3f83",
   "metadata": {},
   "outputs": [],
   "source": []
  }
 ],
 "metadata": {
  "kernelspec": {
   "display_name": "Python [conda env:base] *",
   "language": "python",
   "name": "conda-base-py"
  },
  "language_info": {
   "codemirror_mode": {
    "name": "ipython",
    "version": 3
   },
   "file_extension": ".py",
   "mimetype": "text/x-python",
   "name": "python",
   "nbconvert_exporter": "python",
   "pygments_lexer": "ipython3",
   "version": "3.12.7"
  }
 },
 "nbformat": 4,
 "nbformat_minor": 5
}
