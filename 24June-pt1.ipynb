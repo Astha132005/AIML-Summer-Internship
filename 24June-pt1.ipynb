{
 "cells": [
  {
   "cell_type": "markdown",
   "id": "81761ed0-8202-47a5-914e-39d38114db3c",
   "metadata": {},
   "source": [
    "# <font color= #03f8fc>FUNCTIONS:\n",
    "_**A block of code/statements that performs a specific task and returns something.**_\n",
    "\n",
    "_**Re-usable block of code.**_\n",
    "\n",
    "- By including functions, we can prevent repeating the same block of code repeatedly in a program.\n",
    "- Python functions, once defined , can be called many times & from anywhere in a program.\n",
    "- If your Python program is large , it can be  separated into numerous functions which is simple to track .\n",
    "- The key accomplishment of Python functions is we can return as many  outputs as we want with different arguments."
   ]
  },
  {
   "cell_type": "markdown",
   "id": "d7127bd4-2450-41ca-821d-84237d15ec9e",
   "metadata": {},
   "source": [
    "- Syntax:\n",
    ">def function_name(parameter):\n",
    ">>Block of code"
   ]
  },
  {
   "cell_type": "markdown",
   "id": "89c73915-37a0-4f65-a6d4-fe05f3a87b0f",
   "metadata": {},
   "source": [
    "    \"def\" function is used to define a function\n",
    "\n",
    "     def -> is known as function declaration\n",
    "\n",
    "     The Block of code is used as function definition.\n",
    "\n",
    "     The work done by a function is function definition.\n",
    "\n",
    "     FUNCTION CALLING: When a function is called to be executed"
   ]
  },
  {
   "cell_type": "code",
   "execution_count": 3,
   "id": "9e6415dc-3a55-4cf9-85ed-5c0694796521",
   "metadata": {},
   "outputs": [
    {
     "name": "stdin",
     "output_type": "stream",
     "text": [
      "Enter a no. :  13\n",
      "Enter another no. :  18\n"
     ]
    },
    {
     "name": "stdout",
     "output_type": "stream",
     "text": [
      "SUM =  31\n"
     ]
    }
   ],
   "source": [
    "#without function:\n",
    "a= int(input('Enter a no. : '))\n",
    "b=int(input('Enter another no. : '))\n",
    "print('SUM = ',a+b)"
   ]
  },
  {
   "cell_type": "code",
   "execution_count": 4,
   "id": "1ecd6d9d-95f1-4890-bdf3-a18456cc4870",
   "metadata": {},
   "outputs": [],
   "source": [
    "# working with function:\n",
    "def Addition():\n",
    "   a= int(input('Enter a no. : '))\n",
    "   b=int(input('Enter another no. : '))\n",
    "   print('SUM = ',a+b)"
   ]
  },
  {
   "cell_type": "code",
   "execution_count": 5,
   "id": "4159d608-7fd9-4199-99b6-f2930f26c16b",
   "metadata": {},
   "outputs": [
    {
     "name": "stdin",
     "output_type": "stream",
     "text": [
      "Enter a no. :  13\n",
      "Enter another no. :  18\n"
     ]
    },
    {
     "name": "stdout",
     "output_type": "stream",
     "text": [
      "SUM =  31\n"
     ]
    }
   ],
   "source": [
    "Addition()"
   ]
  },
  {
   "cell_type": "code",
   "execution_count": 6,
   "id": "49fecfad-592c-4f9d-b292-0c4d96909889",
   "metadata": {},
   "outputs": [
    {
     "name": "stdin",
     "output_type": "stream",
     "text": [
      "Enter a no. :  123\n",
      "Enter another no. :  12\n"
     ]
    },
    {
     "name": "stdout",
     "output_type": "stream",
     "text": [
      "SUM =  135\n"
     ]
    }
   ],
   "source": [
    "Addition()"
   ]
  },
  {
   "cell_type": "markdown",
   "id": "78d87cd2-d83f-44d8-bc12-317e29c78dd0",
   "metadata": {},
   "source": [
    "**return** is used inside function -> its used to give values"
   ]
  },
  {
   "cell_type": "code",
   "execution_count": 7,
   "id": "459c4767-f00f-4316-b5b0-8695ed2d5731",
   "metadata": {},
   "outputs": [],
   "source": [
    "# Function without return:\n",
    "def fun1():\n",
    "    print(\"Hello!\")"
   ]
  },
  {
   "cell_type": "code",
   "execution_count": 9,
   "id": "9527ec2c-79d5-4cf8-b870-666da7957bcc",
   "metadata": {},
   "outputs": [
    {
     "name": "stdout",
     "output_type": "stream",
     "text": [
      "Hello!\n"
     ]
    },
    {
     "data": {
      "text/plain": [
       "NoneType"
      ]
     },
     "execution_count": 9,
     "metadata": {},
     "output_type": "execute_result"
    }
   ],
   "source": [
    "type(fun1())"
   ]
  },
  {
   "cell_type": "code",
   "execution_count": 8,
   "id": "4e1d93cc-4c47-4422-8869-bb1f6b124e9c",
   "metadata": {},
   "outputs": [
    {
     "name": "stdout",
     "output_type": "stream",
     "text": [
      "Hello!\n"
     ]
    },
    {
     "ename": "TypeError",
     "evalue": "unsupported operand type(s) for +: 'NoneType' and 'str'",
     "output_type": "error",
     "traceback": [
      "\u001b[1;31m---------------------------------------------------------------------------\u001b[0m",
      "\u001b[1;31mTypeError\u001b[0m                                 Traceback (most recent call last)",
      "Cell \u001b[1;32mIn[8], line 1\u001b[0m\n\u001b[1;32m----> 1\u001b[0m fun1() \u001b[38;5;241m+\u001b[39m \u001b[38;5;124m\"\u001b[39m\u001b[38;5;124mHow are you?\u001b[39m\u001b[38;5;124m\"\u001b[39m\n",
      "\u001b[1;31mTypeError\u001b[0m: unsupported operand type(s) for +: 'NoneType' and 'str'"
     ]
    }
   ],
   "source": [
    "fun1() + \"How are you?\""
   ]
  },
  {
   "cell_type": "code",
   "execution_count": 13,
   "id": "1b6ae92d-b20b-4dad-9634-98a89a44f3be",
   "metadata": {},
   "outputs": [],
   "source": [
    "# Function with return\n",
    "def f1():\n",
    "    return\"Hello!\""
   ]
  },
  {
   "cell_type": "code",
   "execution_count": 14,
   "id": "c9166894-e895-41f2-abfc-11235fa04ee1",
   "metadata": {},
   "outputs": [
    {
     "data": {
      "text/plain": [
       "'Hello! How are you?'"
      ]
     },
     "execution_count": 14,
     "metadata": {},
     "output_type": "execute_result"
    }
   ],
   "source": [
    "f1() + ' How are you?'"
   ]
  },
  {
   "cell_type": "code",
   "execution_count": 15,
   "id": "f173b3f6-5ee4-4ff9-bc63-7c94fcf77b29",
   "metadata": {},
   "outputs": [
    {
     "data": {
      "text/plain": [
       "str"
      ]
     },
     "execution_count": 15,
     "metadata": {},
     "output_type": "execute_result"
    }
   ],
   "source": [
    "type(f1())"
   ]
  },
  {
   "cell_type": "markdown",
   "id": "37efe436-13ad-41d0-add8-47bc1129e9dc",
   "metadata": {},
   "source": [
    "## <font color = #fc0377>FUNTION WITH ARGUMENTS:"
   ]
  },
  {
   "cell_type": "code",
   "execution_count": 16,
   "id": "7102b59e-7146-4500-96c6-4ee4fde2cb56",
   "metadata": {},
   "outputs": [],
   "source": [
    "#SINGLE ARGUMENT:\n",
    "def first(one):\n",
    "    print(one)\n"
   ]
  },
  {
   "cell_type": "code",
   "execution_count": 18,
   "id": "f50ec623-fa3b-470c-978e-f589315618c2",
   "metadata": {},
   "outputs": [
    {
     "name": "stdout",
     "output_type": "stream",
     "text": [
      "Chocolate\n"
     ]
    }
   ],
   "source": [
    "first(\"Chocolate\")"
   ]
  },
  {
   "cell_type": "code",
   "execution_count": 19,
   "id": "aa1a8238-cc88-4daa-b29c-643e76d14afc",
   "metadata": {},
   "outputs": [],
   "source": [
    "def greet(name):\n",
    "    print(\"Hello \",name)"
   ]
  },
  {
   "cell_type": "code",
   "execution_count": 20,
   "id": "20d01d75-fa66-416e-afaa-047089340bab",
   "metadata": {},
   "outputs": [
    {
     "name": "stdout",
     "output_type": "stream",
     "text": [
      "Hello  Adi\n"
     ]
    }
   ],
   "source": [
    "greet(\"Adi\")"
   ]
  },
  {
   "cell_type": "code",
   "execution_count": 24,
   "id": "e9f9d5ac-8c04-45ee-a17c-d0f634f9fc5c",
   "metadata": {},
   "outputs": [],
   "source": [
    "#DOUBLE ARGUMENTS:\n",
    "def DoubleDhamaka(x,y):\n",
    "    print('x-> ',x)\n",
    "    print('y-> ',y)\n",
    "    print(x ,'+', y ,'= ',x+y)"
   ]
  },
  {
   "cell_type": "code",
   "execution_count": 25,
   "id": "69f6ee19-6cb0-4d7f-a472-5a0c86ea1261",
   "metadata": {},
   "outputs": [
    {
     "name": "stdout",
     "output_type": "stream",
     "text": [
      "x->  13\n",
      "y->  18\n",
      "13 + 18 =  31\n"
     ]
    }
   ],
   "source": [
    "DoubleDhamaka(13,18)"
   ]
  },
  {
   "cell_type": "code",
   "execution_count": 26,
   "id": "b431d2c3-024f-4c72-94a5-844c16f74f5b",
   "metadata": {},
   "outputs": [
    {
     "ename": "TypeError",
     "evalue": "DoubleDhamaka() missing 1 required positional argument: 'y'",
     "output_type": "error",
     "traceback": [
      "\u001b[1;31m---------------------------------------------------------------------------\u001b[0m",
      "\u001b[1;31mTypeError\u001b[0m                                 Traceback (most recent call last)",
      "Cell \u001b[1;32mIn[26], line 1\u001b[0m\n\u001b[1;32m----> 1\u001b[0m DoubleDhamaka(\u001b[38;5;241m13\u001b[39m)\n",
      "\u001b[1;31mTypeError\u001b[0m: DoubleDhamaka() missing 1 required positional argument: 'y'"
     ]
    }
   ],
   "source": [
    "DoubleDhamaka(13)"
   ]
  },
  {
   "cell_type": "code",
   "execution_count": 27,
   "id": "82a80d0b-421c-49a7-8e3c-262c78d03199",
   "metadata": {},
   "outputs": [
    {
     "ename": "TypeError",
     "evalue": "DoubleDhamaka() takes 2 positional arguments but 3 were given",
     "output_type": "error",
     "traceback": [
      "\u001b[1;31m---------------------------------------------------------------------------\u001b[0m",
      "\u001b[1;31mTypeError\u001b[0m                                 Traceback (most recent call last)",
      "Cell \u001b[1;32mIn[27], line 1\u001b[0m\n\u001b[1;32m----> 1\u001b[0m DoubleDhamaka(\u001b[38;5;241m13\u001b[39m,\u001b[38;5;241m18\u001b[39m,\u001b[38;5;241m99\u001b[39m)\n",
      "\u001b[1;31mTypeError\u001b[0m: DoubleDhamaka() takes 2 positional arguments but 3 were given"
     ]
    }
   ],
   "source": [
    "DoubleDhamaka(13,18,99)"
   ]
  },
  {
   "cell_type": "code",
   "execution_count": 30,
   "id": "9a003af4-2ad7-4bd8-94b8-d7040c40dde9",
   "metadata": {},
   "outputs": [],
   "source": [
    "#MULTIPLE ARGUMENTS:\n",
    "def Multiple(*arg):\n",
    "    print(arg *300)\n",
    "    print(type(arg))"
   ]
  },
  {
   "cell_type": "code",
   "execution_count": 31,
   "id": "94081bcf-ce34-4f2f-b45f-bda8042173c7",
   "metadata": {},
   "outputs": [
    {
     "name": "stdout",
     "output_type": "stream",
     "text": [
      "('🙈', '🙊', '🙉', '🙈', '🙊', '🙉', '🙈', '🙊', '🙉', '🙈', '🙊', '🙉', '🙈', '🙊', '🙉', '🙈', '🙊', '🙉', '🙈', '🙊', '🙉', '🙈', '🙊', '🙉', '🙈', '🙊', '🙉', '🙈', '🙊', '🙉', '🙈', '🙊', '🙉', '🙈', '🙊', '🙉', '🙈', '🙊', '🙉', '🙈', '🙊', '🙉', '🙈', '🙊', '🙉', '🙈', '🙊', '🙉', '🙈', '🙊', '🙉', '🙈', '🙊', '🙉', '🙈', '🙊', '🙉', '🙈', '🙊', '🙉', '🙈', '🙊', '🙉', '🙈', '🙊', '🙉', '🙈', '🙊', '🙉', '🙈', '🙊', '🙉', '🙈', '🙊', '🙉', '🙈', '🙊', '🙉', '🙈', '🙊', '🙉', '🙈', '🙊', '🙉', '🙈', '🙊', '🙉', '🙈', '🙊', '🙉', '🙈', '🙊', '🙉', '🙈', '🙊', '🙉', '🙈', '🙊', '🙉', '🙈', '🙊', '🙉', '🙈', '🙊', '🙉', '🙈', '🙊', '🙉', '🙈', '🙊', '🙉', '🙈', '🙊', '🙉', '🙈', '🙊', '🙉', '🙈', '🙊', '🙉', '🙈', '🙊', '🙉', '🙈', '🙊', '🙉', '🙈', '🙊', '🙉', '🙈', '🙊', '🙉', '🙈', '🙊', '🙉', '🙈', '🙊', '🙉', '🙈', '🙊', '🙉', '🙈', '🙊', '🙉', '🙈', '🙊', '🙉', '🙈', '🙊', '🙉', '🙈', '🙊', '🙉', '🙈', '🙊', '🙉', '🙈', '🙊', '🙉', '🙈', '🙊', '🙉', '🙈', '🙊', '🙉', '🙈', '🙊', '🙉', '🙈', '🙊', '🙉', '🙈', '🙊', '🙉', '🙈', '🙊', '🙉', '🙈', '🙊', '🙉', '🙈', '🙊', '🙉', '🙈', '🙊', '🙉', '🙈', '🙊', '🙉', '🙈', '🙊', '🙉', '🙈', '🙊', '🙉', '🙈', '🙊', '🙉', '🙈', '🙊', '🙉', '🙈', '🙊', '🙉', '🙈', '🙊', '🙉', '🙈', '🙊', '🙉', '🙈', '🙊', '🙉', '🙈', '🙊', '🙉', '🙈', '🙊', '🙉', '🙈', '🙊', '🙉', '🙈', '🙊', '🙉', '🙈', '🙊', '🙉', '🙈', '🙊', '🙉', '🙈', '🙊', '🙉', '🙈', '🙊', '🙉', '🙈', '🙊', '🙉', '🙈', '🙊', '🙉', '🙈', '🙊', '🙉', '🙈', '🙊', '🙉', '🙈', '🙊', '🙉', '🙈', '🙊', '🙉', '🙈', '🙊', '🙉', '🙈', '🙊', '🙉', '🙈', '🙊', '🙉', '🙈', '🙊', '🙉', '🙈', '🙊', '🙉', '🙈', '🙊', '🙉', '🙈', '🙊', '🙉', '🙈', '🙊', '🙉', '🙈', '🙊', '🙉', '🙈', '🙊', '🙉', '🙈', '🙊', '🙉', '🙈', '🙊', '🙉', '🙈', '🙊', '🙉', '🙈', '🙊', '🙉', '🙈', '🙊', '🙉', '🙈', '🙊', '🙉', '🙈', '🙊', '🙉', '🙈', '🙊', '🙉', '🙈', '🙊', '🙉', '🙈', '🙊', '🙉', '🙈', '🙊', '🙉', '🙈', '🙊', '🙉', '🙈', '🙊', '🙉', '🙈', '🙊', '🙉', '🙈', '🙊', '🙉', '🙈', '🙊', '🙉', '🙈', '🙊', '🙉', '🙈', '🙊', '🙉', '🙈', '🙊', '🙉', '🙈', '🙊', '🙉', '🙈', '🙊', '🙉', '🙈', '🙊', '🙉', '🙈', '🙊', '🙉', '🙈', '🙊', '🙉', '🙈', '🙊', '🙉', '🙈', '🙊', '🙉', '🙈', '🙊', '🙉', '🙈', '🙊', '🙉', '🙈', '🙊', '🙉', '🙈', '🙊', '🙉', '🙈', '🙊', '🙉', '🙈', '🙊', '🙉', '🙈', '🙊', '🙉', '🙈', '🙊', '🙉', '🙈', '🙊', '🙉', '🙈', '🙊', '🙉', '🙈', '🙊', '🙉', '🙈', '🙊', '🙉', '🙈', '🙊', '🙉', '🙈', '🙊', '🙉', '🙈', '🙊', '🙉', '🙈', '🙊', '🙉', '🙈', '🙊', '🙉', '🙈', '🙊', '🙉', '🙈', '🙊', '🙉', '🙈', '🙊', '🙉', '🙈', '🙊', '🙉', '🙈', '🙊', '🙉', '🙈', '🙊', '🙉', '🙈', '🙊', '🙉', '🙈', '🙊', '🙉', '🙈', '🙊', '🙉', '🙈', '🙊', '🙉', '🙈', '🙊', '🙉', '🙈', '🙊', '🙉', '🙈', '🙊', '🙉', '🙈', '🙊', '🙉', '🙈', '🙊', '🙉', '🙈', '🙊', '🙉', '🙈', '🙊', '🙉', '🙈', '🙊', '🙉', '🙈', '🙊', '🙉', '🙈', '🙊', '🙉', '🙈', '🙊', '🙉', '🙈', '🙊', '🙉', '🙈', '🙊', '🙉', '🙈', '🙊', '🙉', '🙈', '🙊', '🙉', '🙈', '🙊', '🙉', '🙈', '🙊', '🙉', '🙈', '🙊', '🙉', '🙈', '🙊', '🙉', '🙈', '🙊', '🙉', '🙈', '🙊', '🙉', '🙈', '🙊', '🙉', '🙈', '🙊', '🙉', '🙈', '🙊', '🙉', '🙈', '🙊', '🙉', '🙈', '🙊', '🙉', '🙈', '🙊', '🙉', '🙈', '🙊', '🙉', '🙈', '🙊', '🙉', '🙈', '🙊', '🙉', '🙈', '🙊', '🙉', '🙈', '🙊', '🙉', '🙈', '🙊', '🙉', '🙈', '🙊', '🙉', '🙈', '🙊', '🙉', '🙈', '🙊', '🙉', '🙈', '🙊', '🙉', '🙈', '🙊', '🙉', '🙈', '🙊', '🙉', '🙈', '🙊', '🙉', '🙈', '🙊', '🙉', '🙈', '🙊', '🙉', '🙈', '🙊', '🙉', '🙈', '🙊', '🙉', '🙈', '🙊', '🙉', '🙈', '🙊', '🙉', '🙈', '🙊', '🙉', '🙈', '🙊', '🙉', '🙈', '🙊', '🙉', '🙈', '🙊', '🙉', '🙈', '🙊', '🙉', '🙈', '🙊', '🙉', '🙈', '🙊', '🙉', '🙈', '🙊', '🙉', '🙈', '🙊', '🙉', '🙈', '🙊', '🙉', '🙈', '🙊', '🙉', '🙈', '🙊', '🙉', '🙈', '🙊', '🙉', '🙈', '🙊', '🙉', '🙈', '🙊', '🙉', '🙈', '🙊', '🙉', '🙈', '🙊', '🙉', '🙈', '🙊', '🙉', '🙈', '🙊', '🙉', '🙈', '🙊', '🙉', '🙈', '🙊', '🙉', '🙈', '🙊', '🙉', '🙈', '🙊', '🙉', '🙈', '🙊', '🙉', '🙈', '🙊', '🙉', '🙈', '🙊', '🙉', '🙈', '🙊', '🙉', '🙈', '🙊', '🙉', '🙈', '🙊', '🙉', '🙈', '🙊', '🙉', '🙈', '🙊', '🙉', '🙈', '🙊', '🙉', '🙈', '🙊', '🙉', '🙈', '🙊', '🙉', '🙈', '🙊', '🙉', '🙈', '🙊', '🙉', '🙈', '🙊', '🙉', '🙈', '🙊', '🙉', '🙈', '🙊', '🙉', '🙈', '🙊', '🙉', '🙈', '🙊', '🙉', '🙈', '🙊', '🙉', '🙈', '🙊', '🙉', '🙈', '🙊', '🙉', '🙈', '🙊', '🙉', '🙈', '🙊', '🙉', '🙈', '🙊', '🙉', '🙈', '🙊', '🙉', '🙈', '🙊', '🙉', '🙈', '🙊', '🙉', '🙈', '🙊', '🙉', '🙈', '🙊', '🙉', '🙈', '🙊', '🙉', '🙈', '🙊', '🙉', '🙈', '🙊', '🙉', '🙈', '🙊', '🙉', '🙈', '🙊', '🙉', '🙈', '🙊', '🙉', '🙈', '🙊', '🙉', '🙈', '🙊', '🙉', '🙈', '🙊', '🙉', '🙈', '🙊', '🙉', '🙈', '🙊', '🙉', '🙈', '🙊', '🙉', '🙈', '🙊', '🙉', '🙈', '🙊', '🙉', '🙈', '🙊', '🙉', '🙈', '🙊', '🙉', '🙈', '🙊', '🙉', '🙈', '🙊', '🙉', '🙈', '🙊', '🙉', '🙈', '🙊', '🙉', '🙈', '🙊', '🙉', '🙈', '🙊', '🙉', '🙈', '🙊', '🙉', '🙈', '🙊', '🙉', '🙈', '🙊', '🙉', '🙈', '🙊', '🙉', '🙈', '🙊', '🙉', '🙈', '🙊', '🙉', '🙈', '🙊', '🙉', '🙈', '🙊', '🙉', '🙈', '🙊', '🙉', '🙈', '🙊', '🙉', '🙈', '🙊', '🙉', '🙈', '🙊', '🙉', '🙈', '🙊', '🙉', '🙈', '🙊', '🙉', '🙈', '🙊', '🙉', '🙈', '🙊', '🙉', '🙈', '🙊', '🙉', '🙈', '🙊', '🙉', '🙈', '🙊', '🙉', '🙈', '🙊', '🙉', '🙈', '🙊', '🙉', '🙈', '🙊', '🙉', '🙈', '🙊', '🙉', '🙈', '🙊', '🙉', '🙈', '🙊', '🙉', '🙈', '🙊', '🙉', '🙈', '🙊', '🙉', '🙈', '🙊', '🙉', '🙈', '🙊', '🙉', '🙈', '🙊', '🙉', '🙈', '🙊', '🙉', '🙈', '🙊', '🙉')\n",
      "<class 'tuple'>\n"
     ]
    }
   ],
   "source": [
    "Multiple('🙈','🙊','🙉')"
   ]
  },
  {
   "cell_type": "code",
   "execution_count": 32,
   "id": "d47eb2cc-adff-423c-aaec-fe0b3de7644b",
   "metadata": {},
   "outputs": [
    {
     "name": "stdout",
     "output_type": "stream",
     "text": [
      "x->  🎶\n",
      "y->  😶‍🌫️\n",
      "🎶 + 😶‍🌫️ =  🎶😶‍🌫️\n"
     ]
    }
   ],
   "source": [
    "DoubleDhamaka('🎶','😶‍🌫️')"
   ]
  },
  {
   "cell_type": "code",
   "execution_count": 33,
   "id": "282182c0-c793-44c3-8d1f-754bc46507c0",
   "metadata": {},
   "outputs": [
    {
     "name": "stdout",
     "output_type": "stream",
     "text": [
      "('🙈', '🙈', '🙈', '🙈', '🙈', '🙈', '🙈', '🙈', '🙈', '🙈', '🙈', '🙈', '🙈', '🙈', '🙈', '🙈', '🙈', '🙈', '🙈', '🙈', '🙈', '🙈', '🙈', '🙈', '🙈', '🙈', '🙈', '🙈', '🙈', '🙈', '🙈', '🙈', '🙈', '🙈', '🙈', '🙈', '🙈', '🙈', '🙈', '🙈', '🙈', '🙈', '🙈', '🙈', '🙈', '🙈', '🙈', '🙈', '🙈', '🙈', '🙈', '🙈', '🙈', '🙈', '🙈', '🙈', '🙈', '🙈', '🙈', '🙈', '🙈', '🙈', '🙈', '🙈', '🙈', '🙈', '🙈', '🙈', '🙈', '🙈', '🙈', '🙈', '🙈', '🙈', '🙈', '🙈', '🙈', '🙈', '🙈', '🙈', '🙈', '🙈', '🙈', '🙈', '🙈', '🙈', '🙈', '🙈', '🙈', '🙈', '🙈', '🙈', '🙈', '🙈', '🙈', '🙈', '🙈', '🙈', '🙈', '🙈', '🙈', '🙈', '🙈', '🙈', '🙈', '🙈', '🙈', '🙈', '🙈', '🙈', '🙈', '🙈', '🙈', '🙈', '🙈', '🙈', '🙈', '🙈', '🙈', '🙈', '🙈', '🙈', '🙈', '🙈', '🙈', '🙈', '🙈', '🙈', '🙈', '🙈', '🙈', '🙈', '🙈', '🙈', '🙈', '🙈', '🙈', '🙈', '🙈', '🙈', '🙈', '🙈', '🙈', '🙈', '🙈', '🙈', '🙈', '🙈', '🙈', '🙈', '🙈', '🙈', '🙈', '🙈', '🙈', '🙈', '🙈', '🙈', '🙈', '🙈', '🙈', '🙈', '🙈', '🙈', '🙈', '🙈', '🙈', '🙈', '🙈', '🙈', '🙈', '🙈', '🙈', '🙈', '🙈', '🙈', '🙈', '🙈', '🙈', '🙈', '🙈', '🙈', '🙈', '🙈', '🙈', '🙈', '🙈', '🙈', '🙈', '🙈', '🙈', '🙈', '🙈', '🙈', '🙈', '🙈', '🙈', '🙈', '🙈', '🙈', '🙈', '🙈', '🙈', '🙈', '🙈', '🙈', '🙈', '🙈', '🙈', '🙈', '🙈', '🙈', '🙈', '🙈', '🙈', '🙈', '🙈', '🙈', '🙈', '🙈', '🙈', '🙈', '🙈', '🙈', '🙈', '🙈', '🙈', '🙈', '🙈', '🙈', '🙈', '🙈', '🙈', '🙈', '🙈', '🙈', '🙈', '🙈', '🙈', '🙈', '🙈', '🙈', '🙈', '🙈', '🙈', '🙈', '🙈', '🙈', '🙈', '🙈', '🙈', '🙈', '🙈', '🙈', '🙈', '🙈', '🙈', '🙈', '🙈', '🙈', '🙈', '🙈', '🙈', '🙈', '🙈', '🙈', '🙈', '🙈', '🙈', '🙈', '🙈', '🙈', '🙈', '🙈', '🙈', '🙈', '🙈', '🙈', '🙈', '🙈', '🙈', '🙈', '🙈', '🙈', '🙈', '🙈', '🙈', '🙈', '🙈', '🙈', '🙈', '🙈', '🙈', '🙈', '🙈', '🙈', '🙈', '🙈', '🙈', '🙈')\n",
      "<class 'tuple'>\n"
     ]
    }
   ],
   "source": [
    "Multiple('🙈')"
   ]
  },
  {
   "cell_type": "code",
   "execution_count": 34,
   "id": "20f2bba0-a7d7-46b5-92a8-194715a52637",
   "metadata": {},
   "outputs": [],
   "source": [
    "def sumall(*args):\n",
    "    print(sum(args))"
   ]
  },
  {
   "cell_type": "code",
   "execution_count": 35,
   "id": "d932bef0-3ab3-4705-8690-e7fcee095961",
   "metadata": {},
   "outputs": [
    {
     "name": "stdout",
     "output_type": "stream",
     "text": [
      "54142821045\n"
     ]
    }
   ],
   "source": [
    "sumall(1,2,3,4,5,55,56,1423,5,5,42343,44,54142352534,424233,332)"
   ]
  },
  {
   "cell_type": "markdown",
   "id": "241f3267-969f-4c72-9f68-987ccedcb78d",
   "metadata": {},
   "source": [
    "## DEFAULT ARGUMENTS:\n",
    "\n",
    "     We gve default values in case we miss out giving arguments it takes the default value\n",
    "     But if we write only 1 argument then it takes the 1st value as input \n",
    "     If we want to specify the value we can write argument as (y=20)"
   ]
  },
  {
   "cell_type": "code",
   "execution_count": 36,
   "id": "23572587-8b61-4cc3-b9e2-a4fc9e5b9eb5",
   "metadata": {},
   "outputs": [],
   "source": [
    "#Default Arguments:\n",
    "def Default(x=1,y=1):\n",
    "    print('x-> ',x)\n",
    "    print('y-> ',y)\n",
    "    print(x ,'X', y ,'= ',x*y)"
   ]
  },
  {
   "cell_type": "code",
   "execution_count": 37,
   "id": "30064e91-173a-4d78-8c62-78d6f3c0ccc6",
   "metadata": {},
   "outputs": [
    {
     "name": "stdout",
     "output_type": "stream",
     "text": [
      "x->  1\n",
      "y->  1\n",
      "1 X 1 =  1\n"
     ]
    }
   ],
   "source": [
    "Default()"
   ]
  },
  {
   "cell_type": "code",
   "execution_count": 38,
   "id": "21e42dca-8d6d-42e0-8e7b-86d9a693a3d4",
   "metadata": {},
   "outputs": [
    {
     "name": "stdout",
     "output_type": "stream",
     "text": [
      "x->  12\n",
      "y->  7\n",
      "12 X 7 =  84\n"
     ]
    }
   ],
   "source": [
    "Default(12,7)"
   ]
  },
  {
   "cell_type": "code",
   "execution_count": 39,
   "id": "021282bb-3d54-440b-9427-066353a6122f",
   "metadata": {},
   "outputs": [
    {
     "name": "stdout",
     "output_type": "stream",
     "text": [
      "x->  18\n",
      "y->  1\n",
      "18 X 1 =  18\n"
     ]
    }
   ],
   "source": [
    "Default(18)"
   ]
  },
  {
   "cell_type": "code",
   "execution_count": 40,
   "id": "0aa7dbc9-a19b-4bba-ad5f-93ba6fc2b88b",
   "metadata": {},
   "outputs": [
    {
     "name": "stdout",
     "output_type": "stream",
     "text": [
      "x->  1\n",
      "y->  18\n",
      "1 X 18 =  18\n"
     ]
    }
   ],
   "source": [
    "Default(y=18)"
   ]
  },
  {
   "cell_type": "markdown",
   "id": "e3b119aa-7151-4aa3-9b1a-18436632e606",
   "metadata": {},
   "source": [
    "_**Q.WAP python function to calculate area of the circle if its radius is given**_"
   ]
  },
  {
   "cell_type": "code",
   "execution_count": 44,
   "id": "5b3c28f9-e649-49b0-954a-66becaaf12c6",
   "metadata": {},
   "outputs": [],
   "source": [
    "def area():\n",
    "    r=float(input('Enter the radius : '))\n",
    "    print(\"Area of the circle = \",3.14*r*r)"
   ]
  },
  {
   "cell_type": "code",
   "execution_count": 45,
   "id": "d004c784-7587-4737-8c63-a72c0785a066",
   "metadata": {},
   "outputs": [
    {
     "name": "stdin",
     "output_type": "stream",
     "text": [
      "Enter the radius :  23\n"
     ]
    },
    {
     "name": "stdout",
     "output_type": "stream",
     "text": [
      "Area of the circle =  1661.06\n"
     ]
    }
   ],
   "source": [
    "area()"
   ]
  },
  {
   "cell_type": "code",
   "execution_count": 53,
   "id": "e4b99d3f-f298-45f9-8ddf-9e9a844153d9",
   "metadata": {},
   "outputs": [
    {
     "name": "stdout",
     "output_type": "stream",
     "text": [
      "Area of the circle is:  1520.244\n"
     ]
    }
   ],
   "source": [
    "def area(r,pi=3.141):\n",
    "    print('Area of the circle is: ',pi*r**2)\n",
    "area(22)\n",
    "     "
   ]
  },
  {
   "cell_type": "code",
   "execution_count": 54,
   "id": "c505592d-5bab-4643-8f8d-36beb1516056",
   "metadata": {},
   "outputs": [
    {
     "name": "stdin",
     "output_type": "stream",
     "text": [
      "Enter the radius :  23\n"
     ]
    },
    {
     "name": "stdout",
     "output_type": "stream",
     "text": [
      "Area of the circle is:  1661.589\n"
     ]
    }
   ],
   "source": [
    "r=float(input('Enter the radius : '))\n",
    "area(r)"
   ]
  },
  {
   "cell_type": "markdown",
   "id": "34b33658-c55b-4eef-912b-b5d0faec2f6d",
   "metadata": {},
   "source": [
    "----"
   ]
  },
  {
   "cell_type": "code",
   "execution_count": null,
   "id": "ffd25038-bfae-4deb-8f59-f3cb6315ecea",
   "metadata": {},
   "outputs": [],
   "source": []
  }
 ],
 "metadata": {
  "kernelspec": {
   "display_name": "Python [conda env:base] *",
   "language": "python",
   "name": "conda-base-py"
  },
  "language_info": {
   "codemirror_mode": {
    "name": "ipython",
    "version": 3
   },
   "file_extension": ".py",
   "mimetype": "text/x-python",
   "name": "python",
   "nbconvert_exporter": "python",
   "pygments_lexer": "ipython3",
   "version": "3.12.7"
  }
 },
 "nbformat": 4,
 "nbformat_minor": 5
}
