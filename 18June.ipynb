{
 "cells": [
  {
   "cell_type": "markdown",
   "id": "f9fd136d-69a3-475b-9088-7f04a70d5ba9",
   "metadata": {},
   "source": [
    "![MyImage](a1.jpg)\n",
    "\n",
    "![MyImage](a2.jpg)\n",
    "\n",
    "![MyImage](a3.jpg)\n",
    "\n",
    "![MyImage](a4.jpg)"
   ]
  },
  {
   "cell_type": "code",
   "execution_count": null,
   "id": "1bc41cbd-b00b-4d8b-a4de-1400277ae88b",
   "metadata": {},
   "outputs": [],
   "source": []
  }
 ],
 "metadata": {
  "kernelspec": {
   "display_name": "Python [conda env:base] *",
   "language": "python",
   "name": "conda-base-py"
  },
  "language_info": {
   "codemirror_mode": {
    "name": "ipython",
    "version": 3
   },
   "file_extension": ".py",
   "mimetype": "text/x-python",
   "name": "python",
   "nbconvert_exporter": "python",
   "pygments_lexer": "ipython3",
   "version": "3.12.7"
  }
 },
 "nbformat": 4,
 "nbformat_minor": 5
}
