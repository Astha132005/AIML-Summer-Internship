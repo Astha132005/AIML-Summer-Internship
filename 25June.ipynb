{
 "cells": [
  {
   "cell_type": "markdown",
   "id": "95325034-487d-4789-b03c-dda66c4a8c44",
   "metadata": {},
   "source": [
    "# <font color = #14f72e>MATHEMATICAL OPERATIONS:\n",
    "\n",
    "     "
   ]
  },
  {
   "cell_type": "code",
   "execution_count": 2,
   "id": "245e97e8-ca58-46f4-b4f3-367adcf94cb6",
   "metadata": {},
   "outputs": [],
   "source": [
    "import numpy as np"
   ]
  },
  {
   "cell_type": "code",
   "execution_count": 3,
   "id": "bd918178-0459-4798-a4ac-1c55d93effa3",
   "metadata": {},
   "outputs": [
    {
     "name": "stdout",
     "output_type": "stream",
     "text": [
      "[30 65 55 79 25]\n",
      "[4 8 5 9 2]\n"
     ]
    }
   ],
   "source": [
    "a=np.array ([30,65,55,79,25])\n",
    "b=np.array ([4,8,5,9,2])\n",
    "print(a)\n",
    "print(b)\n"
   ]
  },
  {
   "cell_type": "code",
   "execution_count": 4,
   "id": "864c8b4b-f066-4c83-814a-dffbec246e97",
   "metadata": {},
   "outputs": [
    {
     "data": {
      "text/plain": [
       "array([34, 73, 60, 88, 27])"
      ]
     },
     "execution_count": 4,
     "metadata": {},
     "output_type": "execute_result"
    }
   ],
   "source": [
    "np.add(a,b)"
   ]
  },
  {
   "cell_type": "code",
   "execution_count": 5,
   "id": "26d15402-c8a1-4fbe-b3b3-5e1db9383ad5",
   "metadata": {},
   "outputs": [
    {
     "name": "stdout",
     "output_type": "stream",
     "text": [
      "[ 4  8 52]\n"
     ]
    }
   ],
   "source": [
    "c=np.array ([4,8,52])\n",
    "print(c)"
   ]
  },
  {
   "cell_type": "code",
   "execution_count": 6,
   "id": "894de510-0291-4bd1-a5b5-85c1411a19f1",
   "metadata": {},
   "outputs": [
    {
     "ename": "ValueError",
     "evalue": "operands could not be broadcast together with shapes (5,) (3,) ",
     "output_type": "error",
     "traceback": [
      "\u001b[1;31m---------------------------------------------------------------------------\u001b[0m",
      "\u001b[1;31mValueError\u001b[0m                                Traceback (most recent call last)",
      "Cell \u001b[1;32mIn[6], line 1\u001b[0m\n\u001b[1;32m----> 1\u001b[0m np\u001b[38;5;241m.\u001b[39madd(a,c)\n",
      "\u001b[1;31mValueError\u001b[0m: operands could not be broadcast together with shapes (5,) (3,) "
     ]
    }
   ],
   "source": [
    "np.add(a,c)"
   ]
  },
  {
   "cell_type": "code",
   "execution_count": 7,
   "id": "9c856751-9c3c-4f29-874f-dc1a4cf4799e",
   "metadata": {},
   "outputs": [],
   "source": [
    "# The oerands should have same dimension and size in order to add"
   ]
  },
  {
   "cell_type": "code",
   "execution_count": 9,
   "id": "a5e488e4-595a-46c8-bca5-b57b29a435cf",
   "metadata": {},
   "outputs": [
    {
     "data": {
      "text/plain": [
       "array([26, 57, 50, 70, 23])"
      ]
     },
     "execution_count": 9,
     "metadata": {},
     "output_type": "execute_result"
    }
   ],
   "source": [
    "np.subtract(a,b)"
   ]
  },
  {
   "cell_type": "code",
   "execution_count": 10,
   "id": "79ac8a78-40e3-462c-8645-cb16470913d0",
   "metadata": {},
   "outputs": [
    {
     "data": {
      "text/plain": [
       "array([120, 520, 275, 711,  50])"
      ]
     },
     "execution_count": 10,
     "metadata": {},
     "output_type": "execute_result"
    }
   ],
   "source": [
    "np.multiply(a,b)"
   ]
  },
  {
   "cell_type": "code",
   "execution_count": 11,
   "id": "dbaee97d-ce67-48e3-8514-edcb148e3527",
   "metadata": {},
   "outputs": [
    {
     "data": {
      "text/plain": [
       "array([ 7.5       ,  8.125     , 11.        ,  8.77777778, 12.5       ])"
      ]
     },
     "execution_count": 11,
     "metadata": {},
     "output_type": "execute_result"
    }
   ],
   "source": [
    "np.divide(a,b)"
   ]
  },
  {
   "cell_type": "code",
   "execution_count": 15,
   "id": "066c0989-a202-40d5-ba23-394b31d9e00d",
   "metadata": {},
   "outputs": [
    {
     "data": {
      "text/plain": [
       "array([ 7,  8, 11,  8, 12])"
      ]
     },
     "execution_count": 15,
     "metadata": {},
     "output_type": "execute_result"
    }
   ],
   "source": [
    "np.floor_divide(a,b)#floor division"
   ]
  },
  {
   "cell_type": "code",
   "execution_count": 16,
   "id": "fc84b673-ee2f-4871-9ebb-7cbb9d7cc94c",
   "metadata": {},
   "outputs": [
    {
     "data": {
      "text/plain": [
       "array([2, 1, 0, 7, 1])"
      ]
     },
     "execution_count": 16,
     "metadata": {},
     "output_type": "execute_result"
    }
   ],
   "source": [
    "np.mod(a,b)# returns remainder"
   ]
  },
  {
   "cell_type": "code",
   "execution_count": 18,
   "id": "b5854118-3698-40dd-9660-5169e5a1eb50",
   "metadata": {},
   "outputs": [
    {
     "data": {
      "text/plain": [
       "(array([ 7,  8, 11,  8, 12]), array([2, 1, 0, 7, 1]))"
      ]
     },
     "execution_count": 18,
     "metadata": {},
     "output_type": "execute_result"
    }
   ],
   "source": [
    "np.divmod(a,b)# gives floor division value + remainder values deta hai"
   ]
  },
  {
   "cell_type": "code",
   "execution_count": 20,
   "id": "9b4a5959-58c7-4ba2-96aa-1dcba583736b",
   "metadata": {},
   "outputs": [
    {
     "data": {
      "text/plain": [
       "array([3.40119738, 4.17438727, 4.00733319, 4.36944785, 3.21887582])"
      ]
     },
     "execution_count": 20,
     "metadata": {},
     "output_type": "execute_result"
    }
   ],
   "source": [
    "np.log(a)# if base isnt mentioned then its base e"
   ]
  },
  {
   "cell_type": "code",
   "execution_count": 21,
   "id": "73f8d3fe-18b9-442d-a6f5-2799aaaf1c2f",
   "metadata": {},
   "outputs": [
    {
     "data": {
      "text/plain": [
       "array([0.60205999, 0.90308999, 0.69897   , 0.95424251, 0.30103   ])"
      ]
     },
     "execution_count": 21,
     "metadata": {},
     "output_type": "execute_result"
    }
   ],
   "source": [
    "np.log10(b)# gives log values with base 10"
   ]
  },
  {
   "cell_type": "code",
   "execution_count": 23,
   "id": "996186ab-76af-4705-b200-508d14063fbf",
   "metadata": {},
   "outputs": [
    {
     "name": "stdout",
     "output_type": "stream",
     "text": [
      "[30 65 55 79 25]\n"
     ]
    },
    {
     "data": {
      "text/plain": [
       "array([5.47722558, 8.06225775, 7.41619849, 8.88819442, 5.        ])"
      ]
     },
     "execution_count": 23,
     "metadata": {},
     "output_type": "execute_result"
    }
   ],
   "source": [
    "print(a)\n",
    "np.sqrt(a)"
   ]
  },
  {
   "cell_type": "code",
   "execution_count": 24,
   "id": "b06b7a90-7d2b-4261-aeec-589e05fe17fa",
   "metadata": {},
   "outputs": [
    {
     "name": "stdout",
     "output_type": "stream",
     "text": [
      "[30 65 55 79 25]\n"
     ]
    },
    {
     "data": {
      "text/plain": [
       "array([-1029996288,  1189200385,  -744512191,  1806907777, -2030932031],\n",
       "      dtype=int32)"
      ]
     },
     "execution_count": 24,
     "metadata": {},
     "output_type": "execute_result"
    }
   ],
   "source": [
    "print(a)\n",
    "np.power(a,8)"
   ]
  },
  {
   "cell_type": "code",
   "execution_count": 28,
   "id": "49fa433f-a99d-4e4c-9535-90b909b515d2",
   "metadata": {},
   "outputs": [
    {
     "name": "stdout",
     "output_type": "stream",
     "text": [
      "[30 65 55 79 25]\n"
     ]
    },
    {
     "data": {
      "text/plain": [
       "array([ 27000, 274625, 166375, 493039,  15625], dtype=int32)"
      ]
     },
     "execution_count": 28,
     "metadata": {},
     "output_type": "execute_result"
    }
   ],
   "source": [
    "print(a)\n",
    "np.power(a,3)"
   ]
  },
  {
   "cell_type": "code",
   "execution_count": 25,
   "id": "76ed6b8b-d38f-473e-9964-bd6ad41f5d73",
   "metadata": {},
   "outputs": [
    {
     "name": "stdout",
     "output_type": "stream",
     "text": [
      "[30 65 55 79 25]\n"
     ]
    },
    {
     "data": {
      "text/plain": [
       "array([    810000, 1189200385,  503284375, 1011793615,        625])"
      ]
     },
     "execution_count": 25,
     "metadata": {},
     "output_type": "execute_result"
    }
   ],
   "source": [
    "print(a)\n",
    "np.power(a,b)"
   ]
  },
  {
   "cell_type": "code",
   "execution_count": 26,
   "id": "4e8efa5a-93d2-4bd4-8251-6b00c84bc006",
   "metadata": {},
   "outputs": [
    {
     "data": {
      "text/plain": [
       "array([-0.98803162,  0.82682868, -0.99975517, -0.44411267, -0.13235175])"
      ]
     },
     "execution_count": 26,
     "metadata": {},
     "output_type": "execute_result"
    }
   ],
   "source": [
    "np.sin(a)"
   ]
  },
  {
   "cell_type": "code",
   "execution_count": 27,
   "id": "2f58db21-e052-4b0c-9649-70b49e80a794",
   "metadata": {},
   "outputs": [
    {
     "data": {
      "text/plain": [
       "array([ 0.15425145, -0.56245385,  0.02212676, -0.89597095,  0.99120281])"
      ]
     },
     "execution_count": 27,
     "metadata": {},
     "output_type": "execute_result"
    }
   ],
   "source": [
    "np.cos(a)"
   ]
  },
  {
   "cell_type": "code",
   "execution_count": 34,
   "id": "69205e50-3e51-4d1c-9f19-0b801c99e898",
   "metadata": {},
   "outputs": [
    {
     "data": {
      "text/plain": [
       "array([ -6.4053312 ,  -1.47003826, -45.18308791,   0.49567753,\n",
       "        -0.13352641])"
      ]
     },
     "execution_count": 34,
     "metadata": {},
     "output_type": "execute_result"
    }
   ],
   "source": [
    "np.tan(a)"
   ]
  },
  {
   "cell_type": "code",
   "execution_count": 30,
   "id": "e867bdc1-7f2f-459a-9029-b7a1bc9aacf7",
   "metadata": {},
   "outputs": [
    {
     "data": {
      "text/plain": [
       "array([-0.15611995, -0.6802544 , -0.02213217,  2.01744064, -7.48915531])"
      ]
     },
     "execution_count": 30,
     "metadata": {},
     "output_type": "execute_result"
    }
   ],
   "source": [
    "1/np.tan(a)#cot(a) is non executable hence we use 1/tan()"
   ]
  },
  {
   "cell_type": "code",
   "execution_count": 35,
   "id": "7dbd5822-65f4-4b35-a7b5-4bda882e0833",
   "metadata": {},
   "outputs": [
    {
     "data": {
      "text/plain": [
       "array([-1.01211335,  1.20944039, -1.00024489, -2.25168087, -7.55562355])"
      ]
     },
     "execution_count": 35,
     "metadata": {},
     "output_type": "execute_result"
    }
   ],
   "source": [
    "1/np.sin(a)#cosec()"
   ]
  },
  {
   "cell_type": "code",
   "execution_count": 36,
   "id": "940a6d6a-a68f-4552-b35b-fabf7c883127",
   "metadata": {},
   "outputs": [
    {
     "data": {
      "text/plain": [
       "array([ 6.48292123, -1.77792364, 45.19415264, -1.11610762,  1.00887527])"
      ]
     },
     "execution_count": 36,
     "metadata": {},
     "output_type": "execute_result"
    }
   ],
   "source": [
    "1/np.cos(a)#sec()"
   ]
  },
  {
   "cell_type": "markdown",
   "id": "04417099-c64a-463d-a6a3-1101c5730dbe",
   "metadata": {},
   "source": [
    "## <font color=#f7ec14>STATISTICAL FUNCTION:"
   ]
  },
  {
   "cell_type": "code",
   "execution_count": 37,
   "id": "490a4a9a-332c-4a25-9812-bd4fd7a55181",
   "metadata": {},
   "outputs": [
    {
     "data": {
      "text/plain": [
       "array([30, 65, 55, 79, 25])"
      ]
     },
     "execution_count": 37,
     "metadata": {},
     "output_type": "execute_result"
    }
   ],
   "source": [
    "a"
   ]
  },
  {
   "cell_type": "code",
   "execution_count": 46,
   "id": "128291fd-e5d0-4d23-ab91-23d55e321034",
   "metadata": {},
   "outputs": [],
   "source": [
    "# min, max ,median , mean, st deviation, varience"
   ]
  },
  {
   "cell_type": "code",
   "execution_count": 39,
   "id": "738b72a6-b62f-492a-a10b-d9ce149f43d0",
   "metadata": {},
   "outputs": [
    {
     "data": {
      "text/plain": [
       "79"
      ]
     },
     "execution_count": 39,
     "metadata": {},
     "output_type": "execute_result"
    }
   ],
   "source": [
    "np.max(a)"
   ]
  },
  {
   "cell_type": "code",
   "execution_count": 40,
   "id": "37271037-4d62-4a1d-a38e-97f76da2f604",
   "metadata": {},
   "outputs": [
    {
     "data": {
      "text/plain": [
       "25"
      ]
     },
     "execution_count": 40,
     "metadata": {},
     "output_type": "execute_result"
    }
   ],
   "source": [
    "np.min(a)"
   ]
  },
  {
   "cell_type": "code",
   "execution_count": 41,
   "id": "0e8675d3-0384-483f-a785-ac8107583273",
   "metadata": {},
   "outputs": [
    {
     "data": {
      "text/plain": [
       "50.8"
      ]
     },
     "execution_count": 41,
     "metadata": {},
     "output_type": "execute_result"
    }
   ],
   "source": [
    "np.mean(a)"
   ]
  },
  {
   "cell_type": "code",
   "execution_count": 42,
   "id": "cc90db0c-0f27-42fc-8033-46e36914d667",
   "metadata": {},
   "outputs": [
    {
     "data": {
      "text/plain": [
       "55.0"
      ]
     },
     "execution_count": 42,
     "metadata": {},
     "output_type": "execute_result"
    }
   ],
   "source": [
    "np.median(a)"
   ]
  },
  {
   "cell_type": "code",
   "execution_count": 53,
   "id": "b0eeb464-0dae-4d9a-86a4-953ae91eeec4",
   "metadata": {},
   "outputs": [
    {
     "ename": "AttributeError",
     "evalue": "module 'numpy' has no attribute 'mode'",
     "output_type": "error",
     "traceback": [
      "\u001b[1;31m---------------------------------------------------------------------------\u001b[0m",
      "\u001b[1;31mAttributeError\u001b[0m                            Traceback (most recent call last)",
      "Cell \u001b[1;32mIn[53], line 2\u001b[0m\n\u001b[0;32m      1\u001b[0m \u001b[38;5;66;03m#  MODE = 3(MEDIAN)-2(MEAN)\u001b[39;00m\n\u001b[1;32m----> 2\u001b[0m np\u001b[38;5;241m.\u001b[39mmode(a)\n",
      "File \u001b[1;32m~\\anaconda3\\Lib\\site-packages\\numpy\\__init__.py:333\u001b[0m, in \u001b[0;36m__getattr__\u001b[1;34m(attr)\u001b[0m\n\u001b[0;32m    330\u001b[0m     \u001b[38;5;124m\"\u001b[39m\u001b[38;5;124mRemoved in NumPy 1.25.0\u001b[39m\u001b[38;5;124m\"\u001b[39m\n\u001b[0;32m    331\u001b[0m     \u001b[38;5;28;01mraise\u001b[39;00m \u001b[38;5;167;01mRuntimeError\u001b[39;00m(\u001b[38;5;124m\"\u001b[39m\u001b[38;5;124mTester was removed in NumPy 1.25.\u001b[39m\u001b[38;5;124m\"\u001b[39m)\n\u001b[1;32m--> 333\u001b[0m \u001b[38;5;28;01mraise\u001b[39;00m \u001b[38;5;167;01mAttributeError\u001b[39;00m(\u001b[38;5;124m\"\u001b[39m\u001b[38;5;124mmodule \u001b[39m\u001b[38;5;132;01m{!r}\u001b[39;00m\u001b[38;5;124m has no attribute \u001b[39m\u001b[38;5;124m\"\u001b[39m\n\u001b[0;32m    334\u001b[0m                      \u001b[38;5;124m\"\u001b[39m\u001b[38;5;132;01m{!r}\u001b[39;00m\u001b[38;5;124m\"\u001b[39m\u001b[38;5;241m.\u001b[39mformat(\u001b[38;5;18m__name__\u001b[39m, attr))\n",
      "\u001b[1;31mAttributeError\u001b[0m: module 'numpy' has no attribute 'mode'"
     ]
    }
   ],
   "source": [
    "#  MODE = 3(MEDIAN)-2(MEAN)\n",
    "np.mode(a)# mode cant be calculated"
   ]
  },
  {
   "cell_type": "code",
   "execution_count": 47,
   "id": "90a483f0-c740-4144-8458-9845f608c951",
   "metadata": {},
   "outputs": [
    {
     "data": {
      "text/plain": [
       "20.556264252047356"
      ]
     },
     "execution_count": 47,
     "metadata": {},
     "output_type": "execute_result"
    }
   ],
   "source": [
    "np.std(a)#root(varience)"
   ]
  },
  {
   "cell_type": "code",
   "execution_count": 45,
   "id": "1045f076-71c0-4f00-82fd-4e91c29952b9",
   "metadata": {},
   "outputs": [
    {
     "data": {
      "text/plain": [
       "422.56000000000006"
      ]
     },
     "execution_count": 45,
     "metadata": {},
     "output_type": "execute_result"
    }
   ],
   "source": [
    "np.var(a)"
   ]
  },
  {
   "cell_type": "code",
   "execution_count": 48,
   "id": "584f42bc-43d5-47df-bd70-f83f301a80f3",
   "metadata": {},
   "outputs": [
    {
     "data": {
      "text/plain": [
       "array([4, 8, 5, 9, 2])"
      ]
     },
     "execution_count": 48,
     "metadata": {},
     "output_type": "execute_result"
    }
   ],
   "source": [
    "#cumsum-cumulative summation\n",
    "b"
   ]
  },
  {
   "cell_type": "code",
   "execution_count": 49,
   "id": "ee693449-1ee3-45b4-96c3-4c75bae597f4",
   "metadata": {},
   "outputs": [
    {
     "data": {
      "text/plain": [
       "array([ 4, 12, 17, 26, 28])"
      ]
     },
     "execution_count": 49,
     "metadata": {},
     "output_type": "execute_result"
    }
   ],
   "source": [
    "np.cumsum(b)"
   ]
  },
  {
   "cell_type": "code",
   "execution_count": 52,
   "id": "b1ab7e9b-906b-4a2b-90c5-d760316cabe1",
   "metadata": {},
   "outputs": [
    {
     "data": {
      "text/plain": [
       "array([1, 1, 1, 1, 2, 2, 2, 2, 3, 3, 3, 3, 4, 4, 4, 4])"
      ]
     },
     "execution_count": 52,
     "metadata": {},
     "output_type": "execute_result"
    }
   ],
   "source": [
    "#repeat\n",
    "a=np.array([1,2,3,4])\n",
    "np.repeat(a,4)#each element is repeated 4 tyms"
   ]
  },
  {
   "cell_type": "code",
   "execution_count": 55,
   "id": "ad288161-8bf6-410d-9d21-e0bde2afc14f",
   "metadata": {},
   "outputs": [
    {
     "data": {
      "text/plain": [
       "array([1, 2, 3, 4, 1, 2, 3, 4, 1, 2, 3, 4, 1, 2, 3, 4])"
      ]
     },
     "execution_count": 55,
     "metadata": {},
     "output_type": "execute_result"
    }
   ],
   "source": [
    "#tile\n",
    "a=np.array([1,2,3,4])\n",
    "np.tile(a,4)"
   ]
  },
  {
   "cell_type": "code",
   "execution_count": 58,
   "id": "a4048a4a-f4c3-415d-89ef-a0666276c704",
   "metadata": {},
   "outputs": [
    {
     "data": {
      "text/plain": [
       "(array([2, 4, 6, 7, 9], dtype=int64),)"
      ]
     },
     "execution_count": 58,
     "metadata": {},
     "output_type": "execute_result"
    }
   ],
   "source": [
    "#where\n",
    "a=np.array([1,2,4,5,4,6,4,4,7,4])\n",
    "np.where(a==4)#gives all the index posn where it finds 4"
   ]
  },
  {
   "cell_type": "code",
   "execution_count": 59,
   "id": "1d2a07dc-4b0f-4b1e-a1e2-c2d711580698",
   "metadata": {},
   "outputs": [
    {
     "data": {
      "text/plain": [
       "array([30, 58, 67, 40, 99, 87, 34])"
      ]
     },
     "execution_count": 59,
     "metadata": {},
     "output_type": "execute_result"
    }
   ],
   "source": [
    "a=np.array([30,58,67,40,99,87,34])\n",
    "a"
   ]
  },
  {
   "cell_type": "code",
   "execution_count": 60,
   "id": "9c684b1c-42c1-47c5-a8dd-4d770028d951",
   "metadata": {},
   "outputs": [
    {
     "data": {
      "text/plain": [
       "4"
      ]
     },
     "execution_count": 60,
     "metadata": {},
     "output_type": "execute_result"
    }
   ],
   "source": [
    "#argmax= array ka max value ka index posn\n",
    "np.argmax(a)"
   ]
  },
  {
   "cell_type": "code",
   "execution_count": 62,
   "id": "5a17767a-fa28-498d-a2d9-9c541583e6ca",
   "metadata": {},
   "outputs": [
    {
     "data": {
      "text/plain": [
       "0"
      ]
     },
     "execution_count": 62,
     "metadata": {},
     "output_type": "execute_result"
    }
   ],
   "source": [
    "#argmin= array a min value ka index posn\n",
    "np.argmin(a)"
   ]
  },
  {
   "cell_type": "markdown",
   "id": "580a4370-e392-4391-8309-8cfab3d9a152",
   "metadata": {},
   "source": [
    "## VECTOR MATHS"
   ]
  },
  {
   "cell_type": "code",
   "execution_count": 65,
   "id": "c357711d-db07-4513-9dbe-76c952c4e48e",
   "metadata": {},
   "outputs": [
    {
     "name": "stdout",
     "output_type": "stream",
     "text": [
      "[[1 3]\n",
      " [2 4]]\n",
      "[[5 7]\n",
      " [9 8]]\n"
     ]
    }
   ],
   "source": [
    "#Vector maths\n",
    "a=np.array([[1,3],[2,4]])\n",
    "b=np.array([[5,7],[9,8]])\n",
    "print(a)\n",
    "print(b)"
   ]
  },
  {
   "cell_type": "code",
   "execution_count": 67,
   "id": "e0533d3a-8336-4ed8-9fcf-d52d873d3193",
   "metadata": {},
   "outputs": [
    {
     "data": {
      "text/plain": [
       "array([[32, 31],\n",
       "       [46, 46]])"
      ]
     },
     "execution_count": 67,
     "metadata": {},
     "output_type": "execute_result"
    }
   ],
   "source": [
    "np.dot(a,b)"
   ]
  },
  {
   "cell_type": "code",
   "execution_count": 68,
   "id": "b345e474-1598-4687-973a-7ef07990c464",
   "metadata": {},
   "outputs": [
    {
     "data": {
      "text/plain": [
       "array([ -8, -20])"
      ]
     },
     "execution_count": 68,
     "metadata": {},
     "output_type": "execute_result"
    }
   ],
   "source": [
    "np.cross(a,b)"
   ]
  },
  {
   "cell_type": "markdown",
   "id": "1531bb65-e4e1-400e-96f5-14b1e21fc9db",
   "metadata": {},
   "source": [
    "![MyImage](cp1.jpg)\n",
    "\n",
    "![MyImage](cp2.jpg)\n",
    "\n",
    "![MyImage](cp.4.jpg)"
   ]
  },
  {
   "cell_type": "code",
   "execution_count": 69,
   "id": "89b2b6ed-cd8d-407e-9b1e-f263175fc014",
   "metadata": {},
   "outputs": [
    {
     "data": {
      "text/plain": [
       "array([[1, 2],\n",
       "       [3, 4]])"
      ]
     },
     "execution_count": 69,
     "metadata": {},
     "output_type": "execute_result"
    }
   ],
   "source": [
    "#transpose\n",
    "np.transpose(a)"
   ]
  },
  {
   "cell_type": "code",
   "execution_count": 70,
   "id": "e5bd41ca-045f-4162-a13f-2868234fdec1",
   "metadata": {},
   "outputs": [
    {
     "data": {
      "text/plain": [
       "array([[1, 2],\n",
       "       [3, 4]])"
      ]
     },
     "execution_count": 70,
     "metadata": {},
     "output_type": "execute_result"
    }
   ],
   "source": [
    "a.T"
   ]
  },
  {
   "cell_type": "markdown",
   "id": "7d246d93-43cb-4841-b945-a4b0f4a01e04",
   "metadata": {},
   "source": [
    " ### Indexing & slicing in 1-D array"
   ]
  },
  {
   "cell_type": "code",
   "execution_count": 71,
   "id": "7a7b90d5-b88b-4915-9733-043824f91440",
   "metadata": {},
   "outputs": [
    {
     "data": {
      "text/plain": [
       "array([20, 60, 79, 45, 88,  4])"
      ]
     },
     "execution_count": 71,
     "metadata": {},
     "output_type": "execute_result"
    }
   ],
   "source": [
    " #Indexing & slicing in 1-D array\n",
    "a= np.array([20,60,79,45,88,4])\n",
    "a"
   ]
  },
  {
   "cell_type": "markdown",
   "id": "db8bcf13-c986-430b-83c3-43638ce0c888",
   "metadata": {},
   "source": [
    "#### Indexing"
   ]
  },
  {
   "cell_type": "code",
   "execution_count": 74,
   "id": "c11119b5-cb83-4fdf-b5b7-f839c398d611",
   "metadata": {},
   "outputs": [
    {
     "data": {
      "text/plain": [
       "79"
      ]
     },
     "execution_count": 74,
     "metadata": {},
     "output_type": "execute_result"
    }
   ],
   "source": [
    "a[2]"
   ]
  },
  {
   "cell_type": "code",
   "execution_count": 75,
   "id": "b3d6f374-1809-43a2-94ff-7aaf9ec7a1f9",
   "metadata": {},
   "outputs": [
    {
     "data": {
      "text/plain": [
       "45"
      ]
     },
     "execution_count": 75,
     "metadata": {},
     "output_type": "execute_result"
    }
   ],
   "source": [
    "a[-3]"
   ]
  },
  {
   "cell_type": "markdown",
   "id": "a316ea09-ecea-4d3f-830d-fba44813450e",
   "metadata": {},
   "source": [
    "#### Slicing:"
   ]
  },
  {
   "cell_type": "code",
   "execution_count": 76,
   "id": "b4863927-6741-47a7-9e41-af0b56a16c4b",
   "metadata": {},
   "outputs": [
    {
     "name": "stdout",
     "output_type": "stream",
     "text": [
      "[20 60 79 45 88  4]\n"
     ]
    },
    {
     "data": {
      "text/plain": [
       "array([60, 45,  4])"
      ]
     },
     "execution_count": 76,
     "metadata": {},
     "output_type": "execute_result"
    }
   ],
   "source": [
    "print(a)\n",
    "a[1::2]"
   ]
  },
  {
   "cell_type": "code",
   "execution_count": 77,
   "id": "481c0c35-d56f-494a-9ef2-108cbb70d4f1",
   "metadata": {},
   "outputs": [
    {
     "data": {
      "text/plain": [
       "array([ 4, 88, 45, 79, 60, 20])"
      ]
     },
     "execution_count": 77,
     "metadata": {},
     "output_type": "execute_result"
    }
   ],
   "source": [
    "#reverse\n",
    "a[::-1]"
   ]
  },
  {
   "cell_type": "markdown",
   "id": "6f115912-716c-4fbd-8531-b65705c028b3",
   "metadata": {},
   "source": [
    "### Indexing & slicing in 2-D array"
   ]
  },
  {
   "cell_type": "code",
   "execution_count": 79,
   "id": "a7c5f816-99ac-452a-8d88-36de451c07fc",
   "metadata": {},
   "outputs": [
    {
     "data": {
      "text/plain": [
       "array([[ 1,  2,  6,  7, 13],\n",
       "       [ 6, 13, 17,  2, 19],\n",
       "       [10,  7,  9, 16,  6],\n",
       "       [ 7, 14, 11, 14, 19],\n",
       "       [10,  1, 11,  5, 13]])"
      ]
     },
     "execution_count": 79,
     "metadata": {},
     "output_type": "execute_result"
    }
   ],
   "source": [
    "b=np.random.randint(1,20,(5,5))\n",
    "b"
   ]
  },
  {
   "cell_type": "markdown",
   "id": "89e2482f-c049-489c-9bae-d0b59edb04a7",
   "metadata": {},
   "source": [
    "#### Indexing:"
   ]
  },
  {
   "cell_type": "code",
   "execution_count": 84,
   "id": "192862a1-4ea3-433c-94a7-f6fd6f39a9d9",
   "metadata": {},
   "outputs": [
    {
     "data": {
      "text/plain": [
       "16"
      ]
     },
     "execution_count": 84,
     "metadata": {},
     "output_type": "execute_result"
    }
   ],
   "source": [
    "b[2,3] # [row index , coln index]"
   ]
  },
  {
   "cell_type": "code",
   "execution_count": 85,
   "id": "4704fe33-b6c7-4ee4-86b2-fc2468f66955",
   "metadata": {},
   "outputs": [
    {
     "data": {
      "text/plain": [
       "16"
      ]
     },
     "execution_count": 85,
     "metadata": {},
     "output_type": "execute_result"
    }
   ],
   "source": [
    "b[2][3]"
   ]
  },
  {
   "cell_type": "code",
   "execution_count": 86,
   "id": "a213c553-9989-47b0-b9e4-a88ef0ddba47",
   "metadata": {},
   "outputs": [
    {
     "data": {
      "text/plain": [
       "11"
      ]
     },
     "execution_count": 86,
     "metadata": {},
     "output_type": "execute_result"
    }
   ],
   "source": [
    "b[-1][2]"
   ]
  },
  {
   "cell_type": "code",
   "execution_count": 94,
   "id": "413bbf93-a9cb-429a-994d-fb48d85215ba",
   "metadata": {},
   "outputs": [],
   "source": [
    "# There matrix posn are from 0 index i.e a[0,0], a[0,1],.....so on"
   ]
  },
  {
   "cell_type": "code",
   "execution_count": 95,
   "id": "ab463968-15cc-4dbb-8706-aaf1417ce182",
   "metadata": {},
   "outputs": [
    {
     "name": "stdout",
     "output_type": "stream",
     "text": [
      "[[ 1  2  6  7 13]\n",
      " [ 6 13 17  2 19]\n",
      " [10  7  9 16  6]\n",
      " [ 7 14 11 14 19]\n",
      " [10  1 11  5 13]]\n"
     ]
    },
    {
     "data": {
      "text/plain": [
       "11"
      ]
     },
     "execution_count": 95,
     "metadata": {},
     "output_type": "execute_result"
    }
   ],
   "source": [
    "#Indexing:\n",
    "# syntax: var[row-index,column_index]✅\n",
    "print(b)\n",
    "b[3,2]"
   ]
  },
  {
   "cell_type": "markdown",
   "id": "1237c495-3edb-452a-8bc2-5029488bbb8d",
   "metadata": {},
   "source": [
    "#### Slicing:"
   ]
  },
  {
   "cell_type": "markdown",
   "id": "cb17de8d-5b67-4546-9233-5c173e2be686",
   "metadata": {},
   "source": [
    "**row slicing**= [start:stop+1:step]\n",
    "**column slicing**=[start:stop+1:step]\n",
    "\n",
    "\n",
    "**Syntax:** var[row_slicing,column_slicing]"
   ]
  },
  {
   "cell_type": "code",
   "execution_count": 98,
   "id": "7428659a-835b-480d-bc4e-f5a44f94eb73",
   "metadata": {},
   "outputs": [
    {
     "name": "stdout",
     "output_type": "stream",
     "text": [
      "[[ 1  2  6  7 13]\n",
      " [ 6 13 17  2 19]\n",
      " [10  7  9 16  6]\n",
      " [ 7 14 11 14 19]\n",
      " [10  1 11  5 13]]\n"
     ]
    },
    {
     "data": {
      "text/plain": [
       "array([[13, 17,  2],\n",
       "       [ 7,  9, 16],\n",
       "       [14, 11, 14]])"
      ]
     },
     "execution_count": 98,
     "metadata": {},
     "output_type": "execute_result"
    }
   ],
   "source": [
    "print(b)\n",
    "b[1:4:1,1:4:1]"
   ]
  },
  {
   "cell_type": "code",
   "execution_count": 99,
   "id": "971c8d3c-3be0-4840-b623-1435e28ecdc8",
   "metadata": {},
   "outputs": [
    {
     "name": "stdout",
     "output_type": "stream",
     "text": [
      "[[ 1  2  6  7 13]\n",
      " [ 6 13 17  2 19]\n",
      " [10  7  9 16  6]\n",
      " [ 7 14 11 14 19]\n",
      " [10  1 11  5 13]]\n"
     ]
    },
    {
     "data": {
      "text/plain": [
       "array([[ 2,  6,  7],\n",
       "       [ 7,  9, 16],\n",
       "       [ 1, 11,  5]])"
      ]
     },
     "execution_count": 99,
     "metadata": {},
     "output_type": "execute_result"
    }
   ],
   "source": [
    "print(b)\n",
    "b[::2,1:4:1]"
   ]
  },
  {
   "cell_type": "code",
   "execution_count": 100,
   "id": "71b46c59-4da9-4a3d-b752-27504f1a7e71",
   "metadata": {},
   "outputs": [
    {
     "data": {
      "text/plain": [
       "array([[13,  2],\n",
       "       [14, 14]])"
      ]
     },
     "execution_count": 100,
     "metadata": {},
     "output_type": "execute_result"
    }
   ],
   "source": [
    "b[1::2,1::2]"
   ]
  },
  {
   "cell_type": "code",
   "execution_count": 90,
   "id": "9849c4ec-3967-4082-9c5e-c28037ad18b3",
   "metadata": {},
   "outputs": [
    {
     "data": {
      "text/plain": [
       "array([10,  7,  9, 16,  6])"
      ]
     },
     "execution_count": 90,
     "metadata": {},
     "output_type": "execute_result"
    }
   ],
   "source": [
    "b[2,::]\n",
    "#prints row at index 2"
   ]
  },
  {
   "cell_type": "code",
   "execution_count": 91,
   "id": "19ab3639-b6e5-4563-a6dc-acc884fcc1de",
   "metadata": {},
   "outputs": [
    {
     "data": {
      "text/plain": [
       "array([ 2, 13,  7, 14,  1])"
      ]
     },
     "execution_count": 91,
     "metadata": {},
     "output_type": "execute_result"
    }
   ],
   "source": [
    "b[::,1] #prints column at index 1"
   ]
  },
  {
   "cell_type": "code",
   "execution_count": 92,
   "id": "ed80290c-6976-4048-be3a-9216c03621cb",
   "metadata": {},
   "outputs": [
    {
     "data": {
      "text/plain": [
       "array([[ 6,  7],\n",
       "       [ 9, 16]])"
      ]
     },
     "execution_count": 92,
     "metadata": {},
     "output_type": "execute_result"
    }
   ],
   "source": [
    "b[:3:2,2:4:1]"
   ]
  },
  {
   "cell_type": "code",
   "execution_count": 93,
   "id": "b48e7424-f606-4b1e-b3c8-f68b5f5662cc",
   "metadata": {},
   "outputs": [],
   "source": [
    "# row starts from beginning , goes till the 3rd row and the step is 2\n",
    "# column starts from 2nd column , till 4 as it stops at 3rd column"
   ]
  },
  {
   "cell_type": "code",
   "execution_count": 96,
   "id": "5c49fec1-2783-45e8-9b8c-3cd7657d7ad4",
   "metadata": {},
   "outputs": [
    {
     "data": {
      "text/plain": [
       "array([ 7, 14, 11, 14, 19])"
      ]
     },
     "execution_count": 96,
     "metadata": {},
     "output_type": "execute_result"
    }
   ],
   "source": [
    "b[3] # bydefault row\n",
    "# jo index posn doge by default row lega us row ke sare elements print krdega "
   ]
  },
  {
   "cell_type": "code",
   "execution_count": 97,
   "id": "ee6b89ad-cd64-480f-b6f1-015c071e394d",
   "metadata": {},
   "outputs": [
    {
     "data": {
      "text/plain": [
       "array([ 2, 13,  7, 14,  1])"
      ]
     },
     "execution_count": 97,
     "metadata": {},
     "output_type": "execute_result"
    }
   ],
   "source": [
    "# to print column\n",
    "b[::,1]"
   ]
  },
  {
   "cell_type": "markdown",
   "id": "29c26dd8-8adc-448a-83bd-6ae8ac05afed",
   "metadata": {},
   "source": [
    "### CONCATENATION: Joining 2 Matrices"
   ]
  },
  {
   "cell_type": "markdown",
   "id": "8e2b4c32-5cff-4ad7-9fe7-ebfc861116d0",
   "metadata": {},
   "source": [
    "![MyImage](c1.jpg)"
   ]
  },
  {
   "cell_type": "code",
   "execution_count": 103,
   "id": "83b4001a-dec0-4bf4-b0c4-5f67a6379751",
   "metadata": {},
   "outputs": [
    {
     "data": {
      "text/plain": [
       "array([[10,  5],\n",
       "       [14, 18]])"
      ]
     },
     "execution_count": 103,
     "metadata": {},
     "output_type": "execute_result"
    }
   ],
   "source": [
    "a=np.random.randint(1,20,(2,2))\n",
    "a"
   ]
  },
  {
   "cell_type": "code",
   "execution_count": 104,
   "id": "4bcdd9be-3b79-4031-b6d0-7ed1c13afd20",
   "metadata": {},
   "outputs": [
    {
     "data": {
      "text/plain": [
       "array([[ 3, 14,  4, 18],\n",
       "       [15,  4, 12, 15]])"
      ]
     },
     "execution_count": 104,
     "metadata": {},
     "output_type": "execute_result"
    }
   ],
   "source": [
    "b=np.random.randint(1,20,(2,4))\n",
    "b"
   ]
  },
  {
   "cell_type": "code",
   "execution_count": 105,
   "id": "240f4b38-28ea-4686-8461-64fe5439170f",
   "metadata": {},
   "outputs": [
    {
     "data": {
      "text/plain": [
       "array([[ 6,  8,  4,  6],\n",
       "       [ 5,  3,  6,  9],\n",
       "       [ 7,  7, 14, 10],\n",
       "       [ 2, 18, 14,  9]])"
      ]
     },
     "execution_count": 105,
     "metadata": {},
     "output_type": "execute_result"
    }
   ],
   "source": [
    "c=np.random.randint(1,20,(4,4))\n",
    "c"
   ]
  },
  {
   "cell_type": "markdown",
   "id": "5475a28b-02ef-42a4-bd14-5b1400fdc44d",
   "metadata": {},
   "source": [
    "![MyImage](c2.jpg)"
   ]
  },
  {
   "cell_type": "code",
   "execution_count": 107,
   "id": "f37ebb13-7b37-436f-9079-d7cc631630f7",
   "metadata": {},
   "outputs": [
    {
     "ename": "ValueError",
     "evalue": "all the input array dimensions except for the concatenation axis must match exactly, but along dimension 1, the array at index 0 has size 2 and the array at index 1 has size 4",
     "output_type": "error",
     "traceback": [
      "\u001b[1;31m---------------------------------------------------------------------------\u001b[0m",
      "\u001b[1;31mValueError\u001b[0m                                Traceback (most recent call last)",
      "Cell \u001b[1;32mIn[107], line 1\u001b[0m\n\u001b[1;32m----> 1\u001b[0m np\u001b[38;5;241m.\u001b[39mconcatenate((a,b))\n",
      "\u001b[1;31mValueError\u001b[0m: all the input array dimensions except for the concatenation axis must match exactly, but along dimension 1, the array at index 0 has size 2 and the array at index 1 has size 4"
     ]
    }
   ],
   "source": [
    "np.concatenate((a,b))"
   ]
  },
  {
   "cell_type": "code",
   "execution_count": 108,
   "id": "7193dbb0-2f95-4b57-ac3e-1fb79b86bd0b",
   "metadata": {},
   "outputs": [
    {
     "data": {
      "text/plain": [
       "array([[10,  5,  3, 14,  4, 18],\n",
       "       [14, 18, 15,  4, 12, 15]])"
      ]
     },
     "execution_count": 108,
     "metadata": {},
     "output_type": "execute_result"
    }
   ],
   "source": [
    "np.concatenate((a,b),axis = 1)"
   ]
  },
  {
   "cell_type": "code",
   "execution_count": 109,
   "id": "5d5a5d26-39da-4d33-9277-205577e4e423",
   "metadata": {},
   "outputs": [
    {
     "data": {
      "text/plain": [
       "array([[ 3, 14,  4, 18],\n",
       "       [15,  4, 12, 15],\n",
       "       [ 6,  8,  4,  6],\n",
       "       [ 5,  3,  6,  9],\n",
       "       [ 7,  7, 14, 10],\n",
       "       [ 2, 18, 14,  9]])"
      ]
     },
     "execution_count": 109,
     "metadata": {},
     "output_type": "execute_result"
    }
   ],
   "source": [
    "np.concatenate((b,c))"
   ]
  },
  {
   "cell_type": "markdown",
   "id": "495ad253-53b7-4979-8af4-02612c755bd6",
   "metadata": {},
   "source": [
    "# STACK:\n",
    "\n",
    "> hstack: horizontal stacking\n",
    "> \n",
    "> vstack: vertical stacking"
   ]
  },
  {
   "cell_type": "markdown",
   "id": "34608bcc-6b5c-4cf3-a674-b9bbe4452ac4",
   "metadata": {},
   "source": [
    "![MyImage](c3.jpg)"
   ]
  },
  {
   "cell_type": "code",
   "execution_count": 110,
   "id": "42102f70-9dcc-41bc-bf80-6b51fe3a17c3",
   "metadata": {},
   "outputs": [
    {
     "data": {
      "text/plain": [
       "array([[10,  5,  3, 14,  4, 18],\n",
       "       [14, 18, 15,  4, 12, 15]])"
      ]
     },
     "execution_count": 110,
     "metadata": {},
     "output_type": "execute_result"
    }
   ],
   "source": [
    "np.hstack((a,b))"
   ]
  },
  {
   "cell_type": "code",
   "execution_count": 111,
   "id": "f81cbd71-f7ed-4a04-bcbb-19ad4897577d",
   "metadata": {},
   "outputs": [
    {
     "data": {
      "text/plain": [
       "array([[ 3, 14,  4, 18],\n",
       "       [15,  4, 12, 15],\n",
       "       [ 6,  8,  4,  6],\n",
       "       [ 5,  3,  6,  9],\n",
       "       [ 7,  7, 14, 10],\n",
       "       [ 2, 18, 14,  9]])"
      ]
     },
     "execution_count": 111,
     "metadata": {},
     "output_type": "execute_result"
    }
   ],
   "source": [
    "np.vstack((b,c))"
   ]
  },
  {
   "cell_type": "markdown",
   "id": "b978c657-713a-457b-92af-4c96ee67ebcb",
   "metadata": {},
   "source": [
    "---"
   ]
  },
  {
   "cell_type": "markdown",
   "id": "0a8041e6-c3c2-42c2-be7e-2085b949c7ab",
   "metadata": {},
   "source": [
    "# <font color=#3af714> PANDAS: 🐼\n",
    "\n",
    "    Pandas is an open-source python library designed for data manipulation and analysis . It provides powerful and flexible data structures , in the formof Series and Data Frame ."
   ]
  },
  {
   "cell_type": "markdown",
   "id": "d09256e8-ef61-469b-a94e-c9c4fd915ec7",
   "metadata": {},
   "source": [
    "Data id of 2 types:\n",
    ">**1.Series**: Single column only\n",
    ">\n",
    ">**2.DataFrame:** Consists of many / multiple columns"
   ]
  },
  {
   "cell_type": "code",
   "execution_count": 113,
   "id": "a0977d09-7da0-4663-ac9f-dadef374ffa6",
   "metadata": {},
   "outputs": [],
   "source": [
    "import pandas as pd\n",
    "import numpy as np"
   ]
  },
  {
   "cell_type": "code",
   "execution_count": 115,
   "id": "c3a2cb5c-cff6-4419-86d1-0bf17ac569dd",
   "metadata": {},
   "outputs": [
    {
     "data": {
      "text/plain": [
       "0    a\n",
       "1    b\n",
       "2    d\n",
       "3    f\n",
       "4    e\n",
       "dtype: object"
      ]
     },
     "execution_count": 115,
     "metadata": {},
     "output_type": "execute_result"
    }
   ],
   "source": [
    "# Creating a series:\n",
    "# pd.Series converts sequential data into series\n",
    "s= pd.Series(['a','b','d','f','e'])\n",
    "s"
   ]
  },
  {
   "cell_type": "code",
   "execution_count": 116,
   "id": "45dcb5e1-a75f-4cc0-9a06-ac50d2a5c54d",
   "metadata": {},
   "outputs": [],
   "source": [
    "# here the 2nd column is for index position"
   ]
  },
  {
   "cell_type": "code",
   "execution_count": 117,
   "id": "4db7ed29-931e-45b9-a86a-2a64458e1641",
   "metadata": {},
   "outputs": [
    {
     "data": {
      "text/plain": [
       "10    a\n",
       "20    b\n",
       "30    d\n",
       "40    f\n",
       "50    e\n",
       "dtype: object"
      ]
     },
     "execution_count": 117,
     "metadata": {},
     "output_type": "execute_result"
    }
   ],
   "source": [
    "# we can change the index no. according to our need :\n",
    "# to update index we have to pass the series into index\n",
    "s= pd.Series(['a','b','d','f','e'],index=[10,20,30,40,50])\n",
    "s"
   ]
  },
  {
   "cell_type": "code",
   "execution_count": 120,
   "id": "3492c4ec-89ef-48cf-a224-a1fa559b59cd",
   "metadata": {},
   "outputs": [
    {
     "ename": "KeyError",
     "evalue": "3",
     "output_type": "error",
     "traceback": [
      "\u001b[1;31m---------------------------------------------------------------------------\u001b[0m",
      "\u001b[1;31mKeyError\u001b[0m                                  Traceback (most recent call last)",
      "File \u001b[1;32m~\\anaconda3\\Lib\\site-packages\\pandas\\core\\indexes\\base.py:3805\u001b[0m, in \u001b[0;36mIndex.get_loc\u001b[1;34m(self, key)\u001b[0m\n\u001b[0;32m   3804\u001b[0m \u001b[38;5;28;01mtry\u001b[39;00m:\n\u001b[1;32m-> 3805\u001b[0m     \u001b[38;5;28;01mreturn\u001b[39;00m \u001b[38;5;28mself\u001b[39m\u001b[38;5;241m.\u001b[39m_engine\u001b[38;5;241m.\u001b[39mget_loc(casted_key)\n\u001b[0;32m   3806\u001b[0m \u001b[38;5;28;01mexcept\u001b[39;00m \u001b[38;5;167;01mKeyError\u001b[39;00m \u001b[38;5;28;01mas\u001b[39;00m err:\n",
      "File \u001b[1;32mindex.pyx:167\u001b[0m, in \u001b[0;36mpandas._libs.index.IndexEngine.get_loc\u001b[1;34m()\u001b[0m\n",
      "File \u001b[1;32mindex.pyx:196\u001b[0m, in \u001b[0;36mpandas._libs.index.IndexEngine.get_loc\u001b[1;34m()\u001b[0m\n",
      "File \u001b[1;32mpandas\\\\_libs\\\\hashtable_class_helper.pxi:2606\u001b[0m, in \u001b[0;36mpandas._libs.hashtable.Int64HashTable.get_item\u001b[1;34m()\u001b[0m\n",
      "File \u001b[1;32mpandas\\\\_libs\\\\hashtable_class_helper.pxi:2630\u001b[0m, in \u001b[0;36mpandas._libs.hashtable.Int64HashTable.get_item\u001b[1;34m()\u001b[0m\n",
      "\u001b[1;31mKeyError\u001b[0m: 3",
      "\nThe above exception was the direct cause of the following exception:\n",
      "\u001b[1;31mKeyError\u001b[0m                                  Traceback (most recent call last)",
      "Cell \u001b[1;32mIn[120], line 1\u001b[0m\n\u001b[1;32m----> 1\u001b[0m s[\u001b[38;5;241m3\u001b[39m]\n",
      "File \u001b[1;32m~\\anaconda3\\Lib\\site-packages\\pandas\\core\\series.py:1121\u001b[0m, in \u001b[0;36mSeries.__getitem__\u001b[1;34m(self, key)\u001b[0m\n\u001b[0;32m   1118\u001b[0m     \u001b[38;5;28;01mreturn\u001b[39;00m \u001b[38;5;28mself\u001b[39m\u001b[38;5;241m.\u001b[39m_values[key]\n\u001b[0;32m   1120\u001b[0m \u001b[38;5;28;01melif\u001b[39;00m key_is_scalar:\n\u001b[1;32m-> 1121\u001b[0m     \u001b[38;5;28;01mreturn\u001b[39;00m \u001b[38;5;28mself\u001b[39m\u001b[38;5;241m.\u001b[39m_get_value(key)\n\u001b[0;32m   1123\u001b[0m \u001b[38;5;66;03m# Convert generator to list before going through hashable part\u001b[39;00m\n\u001b[0;32m   1124\u001b[0m \u001b[38;5;66;03m# (We will iterate through the generator there to check for slices)\u001b[39;00m\n\u001b[0;32m   1125\u001b[0m \u001b[38;5;28;01mif\u001b[39;00m is_iterator(key):\n",
      "File \u001b[1;32m~\\anaconda3\\Lib\\site-packages\\pandas\\core\\series.py:1237\u001b[0m, in \u001b[0;36mSeries._get_value\u001b[1;34m(self, label, takeable)\u001b[0m\n\u001b[0;32m   1234\u001b[0m     \u001b[38;5;28;01mreturn\u001b[39;00m \u001b[38;5;28mself\u001b[39m\u001b[38;5;241m.\u001b[39m_values[label]\n\u001b[0;32m   1236\u001b[0m \u001b[38;5;66;03m# Similar to Index.get_value, but we do not fall back to positional\u001b[39;00m\n\u001b[1;32m-> 1237\u001b[0m loc \u001b[38;5;241m=\u001b[39m \u001b[38;5;28mself\u001b[39m\u001b[38;5;241m.\u001b[39mindex\u001b[38;5;241m.\u001b[39mget_loc(label)\n\u001b[0;32m   1239\u001b[0m \u001b[38;5;28;01mif\u001b[39;00m is_integer(loc):\n\u001b[0;32m   1240\u001b[0m     \u001b[38;5;28;01mreturn\u001b[39;00m \u001b[38;5;28mself\u001b[39m\u001b[38;5;241m.\u001b[39m_values[loc]\n",
      "File \u001b[1;32m~\\anaconda3\\Lib\\site-packages\\pandas\\core\\indexes\\base.py:3812\u001b[0m, in \u001b[0;36mIndex.get_loc\u001b[1;34m(self, key)\u001b[0m\n\u001b[0;32m   3807\u001b[0m     \u001b[38;5;28;01mif\u001b[39;00m \u001b[38;5;28misinstance\u001b[39m(casted_key, \u001b[38;5;28mslice\u001b[39m) \u001b[38;5;129;01mor\u001b[39;00m (\n\u001b[0;32m   3808\u001b[0m         \u001b[38;5;28misinstance\u001b[39m(casted_key, abc\u001b[38;5;241m.\u001b[39mIterable)\n\u001b[0;32m   3809\u001b[0m         \u001b[38;5;129;01mand\u001b[39;00m \u001b[38;5;28many\u001b[39m(\u001b[38;5;28misinstance\u001b[39m(x, \u001b[38;5;28mslice\u001b[39m) \u001b[38;5;28;01mfor\u001b[39;00m x \u001b[38;5;129;01min\u001b[39;00m casted_key)\n\u001b[0;32m   3810\u001b[0m     ):\n\u001b[0;32m   3811\u001b[0m         \u001b[38;5;28;01mraise\u001b[39;00m InvalidIndexError(key)\n\u001b[1;32m-> 3812\u001b[0m     \u001b[38;5;28;01mraise\u001b[39;00m \u001b[38;5;167;01mKeyError\u001b[39;00m(key) \u001b[38;5;28;01mfrom\u001b[39;00m \u001b[38;5;21;01merr\u001b[39;00m\n\u001b[0;32m   3813\u001b[0m \u001b[38;5;28;01mexcept\u001b[39;00m \u001b[38;5;167;01mTypeError\u001b[39;00m:\n\u001b[0;32m   3814\u001b[0m     \u001b[38;5;66;03m# If we have a listlike key, _check_indexing_error will raise\u001b[39;00m\n\u001b[0;32m   3815\u001b[0m     \u001b[38;5;66;03m#  InvalidIndexError. Otherwise we fall through and re-raise\u001b[39;00m\n\u001b[0;32m   3816\u001b[0m     \u001b[38;5;66;03m#  the TypeError.\u001b[39;00m\n\u001b[0;32m   3817\u001b[0m     \u001b[38;5;28mself\u001b[39m\u001b[38;5;241m.\u001b[39m_check_indexing_error(key)\n",
      "\u001b[1;31mKeyError\u001b[0m: 3"
     ]
    }
   ],
   "source": [
    "s[3] # error dega as index values change krdiya hai humne"
   ]
  },
  {
   "cell_type": "code",
   "execution_count": 119,
   "id": "e83223d7-4945-40e8-82a0-ad28ceacab77",
   "metadata": {},
   "outputs": [
    {
     "data": {
      "text/plain": [
       "'d'"
      ]
     },
     "execution_count": 119,
     "metadata": {},
     "output_type": "execute_result"
    }
   ],
   "source": [
    "s[30]"
   ]
  },
  {
   "cell_type": "code",
   "execution_count": 123,
   "id": "0cc3bce9-dfbb-4d30-a919-06038f3ac005",
   "metadata": {},
   "outputs": [
    {
     "data": {
      "text/plain": [
       "20    b\n",
       "30    d\n",
       "dtype: object"
      ]
     },
     "execution_count": 123,
     "metadata": {},
     "output_type": "execute_result"
    }
   ],
   "source": [
    "s[1:3:1] # while slicing weuse index values as in relity its not completely chnged , its just changed for showcasing the index values \n",
    "# We can also perform slicing using the updated index values"
   ]
  },
  {
   "cell_type": "markdown",
   "id": "9b6c4011-4071-4bae-892f-eebfb38173d6",
   "metadata": {},
   "source": [
    "#### TUPLE to SERIES:\n"
   ]
  },
  {
   "cell_type": "code",
   "execution_count": 124,
   "id": "bc57ee14-9c0f-4f76-8e92-d0c654b01d52",
   "metadata": {},
   "outputs": [
    {
     "data": {
      "text/plain": [
       "0    10\n",
       "1    20\n",
       "2    30\n",
       "3    50\n",
       "4    90\n",
       "dtype: int64"
      ]
     },
     "execution_count": 124,
     "metadata": {},
     "output_type": "execute_result"
    }
   ],
   "source": [
    "t= pd.Series((10,20,30,50,90))\n",
    "t"
   ]
  },
  {
   "cell_type": "code",
   "execution_count": 125,
   "id": "0ec667af-ecd3-4ba2-b37b-5d6cf71e8a6d",
   "metadata": {},
   "outputs": [
    {
     "data": {
      "text/plain": [
       "1    20\n",
       "2    30\n",
       "dtype: int64"
      ]
     },
     "execution_count": 125,
     "metadata": {},
     "output_type": "execute_result"
    }
   ],
   "source": [
    "t[1:3:1]"
   ]
  },
  {
   "cell_type": "code",
   "execution_count": 127,
   "id": "84325640-b659-4f52-8027-32a2f192dd63",
   "metadata": {},
   "outputs": [
    {
     "data": {
      "text/plain": [
       "20    b\n",
       "30    d\n",
       "40    f\n",
       "dtype: object"
      ]
     },
     "execution_count": 127,
     "metadata": {},
     "output_type": "execute_result"
    }
   ],
   "source": [
    "s[1:4:1] # Series"
   ]
  },
  {
   "cell_type": "markdown",
   "id": "9b00d0f1-e202-4f4e-90cd-4f53333fc4a3",
   "metadata": {},
   "source": [
    "#### ARRAY to SERIES\n",
    "\n",
    "Array ke lie numpy chie jo pehele add krdiya tha"
   ]
  },
  {
   "cell_type": "code",
   "execution_count": 128,
   "id": "f635fa3d-851c-4c1c-bf6e-f6caeff4df85",
   "metadata": {},
   "outputs": [
    {
     "data": {
      "text/plain": [
       "array([20, 30, 38, 90, 80, 18])"
      ]
     },
     "execution_count": 128,
     "metadata": {},
     "output_type": "execute_result"
    }
   ],
   "source": [
    "a=np.array([20,30,38,90,80,18])\n",
    "s=pd.Series(a)\n",
    "a"
   ]
  },
  {
   "cell_type": "code",
   "execution_count": 129,
   "id": "b10ff4f2-2139-405d-b2d3-b819b7db98b0",
   "metadata": {},
   "outputs": [
    {
     "data": {
      "text/plain": [
       "0    20\n",
       "1    30\n",
       "2    38\n",
       "3    90\n",
       "4    80\n",
       "5    18\n",
       "dtype: int32"
      ]
     },
     "execution_count": 129,
     "metadata": {},
     "output_type": "execute_result"
    }
   ],
   "source": [
    "s"
   ]
  },
  {
   "cell_type": "markdown",
   "id": "093e9253-123b-4afa-8366-f30c0cbe7084",
   "metadata": {},
   "source": [
    "### SET to SERIES:"
   ]
  },
  {
   "cell_type": "code",
   "execution_count": 130,
   "id": "baf17a2d-5739-4acc-84ce-be69710aeb47",
   "metadata": {},
   "outputs": [
    {
     "ename": "TypeError",
     "evalue": "'set' type is unordered",
     "output_type": "error",
     "traceback": [
      "\u001b[1;31m---------------------------------------------------------------------------\u001b[0m",
      "\u001b[1;31mTypeError\u001b[0m                                 Traceback (most recent call last)",
      "Cell \u001b[1;32mIn[130], line 1\u001b[0m\n\u001b[1;32m----> 1\u001b[0m a\u001b[38;5;241m=\u001b[39mpd\u001b[38;5;241m.\u001b[39mSeries({\u001b[38;5;241m10\u001b[39m,\u001b[38;5;241m20\u001b[39m,\u001b[38;5;241m40\u001b[39m,\u001b[38;5;241m50\u001b[39m,\u001b[38;5;241m80\u001b[39m})\n\u001b[0;32m      2\u001b[0m a\n",
      "File \u001b[1;32m~\\anaconda3\\Lib\\site-packages\\pandas\\core\\series.py:584\u001b[0m, in \u001b[0;36mSeries.__init__\u001b[1;34m(self, data, index, dtype, name, copy, fastpath)\u001b[0m\n\u001b[0;32m    582\u001b[0m         data \u001b[38;5;241m=\u001b[39m data\u001b[38;5;241m.\u001b[39mcopy()\n\u001b[0;32m    583\u001b[0m \u001b[38;5;28;01melse\u001b[39;00m:\n\u001b[1;32m--> 584\u001b[0m     data \u001b[38;5;241m=\u001b[39m sanitize_array(data, index, dtype, copy)\n\u001b[0;32m    586\u001b[0m     manager \u001b[38;5;241m=\u001b[39m _get_option(\u001b[38;5;124m\"\u001b[39m\u001b[38;5;124mmode.data_manager\u001b[39m\u001b[38;5;124m\"\u001b[39m, silent\u001b[38;5;241m=\u001b[39m\u001b[38;5;28;01mTrue\u001b[39;00m)\n\u001b[0;32m    587\u001b[0m     \u001b[38;5;28;01mif\u001b[39;00m manager \u001b[38;5;241m==\u001b[39m \u001b[38;5;124m\"\u001b[39m\u001b[38;5;124mblock\u001b[39m\u001b[38;5;124m\"\u001b[39m:\n",
      "File \u001b[1;32m~\\anaconda3\\Lib\\site-packages\\pandas\\core\\construction.py:642\u001b[0m, in \u001b[0;36msanitize_array\u001b[1;34m(data, index, dtype, copy, allow_2d)\u001b[0m\n\u001b[0;32m    633\u001b[0m     \u001b[38;5;28;01mreturn\u001b[39;00m sanitize_array(\n\u001b[0;32m    634\u001b[0m         data,\n\u001b[0;32m    635\u001b[0m         index\u001b[38;5;241m=\u001b[39mindex,\n\u001b[1;32m   (...)\u001b[0m\n\u001b[0;32m    638\u001b[0m         allow_2d\u001b[38;5;241m=\u001b[39mallow_2d,\n\u001b[0;32m    639\u001b[0m     )\n\u001b[0;32m    641\u001b[0m \u001b[38;5;28;01melse\u001b[39;00m:\n\u001b[1;32m--> 642\u001b[0m     _sanitize_non_ordered(data)\n\u001b[0;32m    643\u001b[0m     \u001b[38;5;66;03m# materialize e.g. generators, convert e.g. tuples, abc.ValueView\u001b[39;00m\n\u001b[0;32m    644\u001b[0m     data \u001b[38;5;241m=\u001b[39m \u001b[38;5;28mlist\u001b[39m(data)\n",
      "File \u001b[1;32m~\\anaconda3\\Lib\\site-packages\\pandas\\core\\construction.py:693\u001b[0m, in \u001b[0;36m_sanitize_non_ordered\u001b[1;34m(data)\u001b[0m\n\u001b[0;32m    689\u001b[0m \u001b[38;5;250m\u001b[39m\u001b[38;5;124;03m\"\"\"\u001b[39;00m\n\u001b[0;32m    690\u001b[0m \u001b[38;5;124;03mRaise only for unordered sets, e.g., not for dict_keys\u001b[39;00m\n\u001b[0;32m    691\u001b[0m \u001b[38;5;124;03m\"\"\"\u001b[39;00m\n\u001b[0;32m    692\u001b[0m \u001b[38;5;28;01mif\u001b[39;00m \u001b[38;5;28misinstance\u001b[39m(data, (\u001b[38;5;28mset\u001b[39m, \u001b[38;5;28mfrozenset\u001b[39m)):\n\u001b[1;32m--> 693\u001b[0m     \u001b[38;5;28;01mraise\u001b[39;00m \u001b[38;5;167;01mTypeError\u001b[39;00m(\u001b[38;5;124mf\u001b[39m\u001b[38;5;124m\"\u001b[39m\u001b[38;5;124m'\u001b[39m\u001b[38;5;132;01m{\u001b[39;00m\u001b[38;5;28mtype\u001b[39m(data)\u001b[38;5;241m.\u001b[39m\u001b[38;5;18m__name__\u001b[39m\u001b[38;5;132;01m}\u001b[39;00m\u001b[38;5;124m'\u001b[39m\u001b[38;5;124m type is unordered\u001b[39m\u001b[38;5;124m\"\u001b[39m)\n",
      "\u001b[1;31mTypeError\u001b[0m: 'set' type is unordered"
     ]
    }
   ],
   "source": [
    "a=pd.Series({10,20,40,50,80})\n",
    "a"
   ]
  },
  {
   "cell_type": "code",
   "execution_count": 131,
   "id": "9d462f34-760b-4871-9f1d-2e33f90557a0",
   "metadata": {},
   "outputs": [],
   "source": [
    "# AS set is unordered it shows error"
   ]
  },
  {
   "cell_type": "markdown",
   "id": "c724406e-1d91-45af-83a2-c3240a460752",
   "metadata": {},
   "source": [
    "#### DICTIONARY to SERIES:\n",
    "\n",
    "    Dictionary ka key uske index mei likha jata hai aur uska value series ke value mei set hojata hai"
   ]
  },
  {
   "cell_type": "code",
   "execution_count": 133,
   "id": "e07d94bc-5fb0-4384-9d55-88d363f60155",
   "metadata": {},
   "outputs": [
    {
     "data": {
      "text/plain": [
       "a    1\n",
       "b    2\n",
       "c    3\n",
       "d    4\n",
       "dtype: int64"
      ]
     },
     "execution_count": 133,
     "metadata": {},
     "output_type": "execute_result"
    }
   ],
   "source": [
    "d=pd.Series({'a':1,'b':2,'c':3,'d':4})\n",
    "d"
   ]
  },
  {
   "cell_type": "code",
   "execution_count": 134,
   "id": "d1526c84-a681-46c3-b69d-e6b79cc85c0f",
   "metadata": {},
   "outputs": [
    {
     "data": {
      "text/plain": [
       "e    NaN\n",
       "a    1.0\n",
       "f    NaN\n",
       "b    2.0\n",
       "dtype: float64"
      ]
     },
     "execution_count": 134,
     "metadata": {},
     "output_type": "execute_result"
    }
   ],
   "source": [
    "d1=pd.Series({'a':1,'b':2,'c':3,'d':4},index=['e','a','f','b'])\n",
    "d1"
   ]
  },
  {
   "cell_type": "markdown",
   "id": "b165cca7-58c1-404f-ae92-edd0c6439f96",
   "metadata": {},
   "source": [
    "    jo key ka value define nhi kiya tha waha NaN aya \n",
    "\n",
    "    NaN : Not A NUMBER\n"
   ]
  },
  {
   "cell_type": "markdown",
   "id": "efe3045f-f16f-4ce7-a485-c2f427e9a5da",
   "metadata": {},
   "source": [
    "##### _INDEXING :_"
   ]
  },
  {
   "cell_type": "code",
   "execution_count": 135,
   "id": "fe1ac04d-d620-4c2a-95a9-1a084b18207e",
   "metadata": {},
   "outputs": [
    {
     "data": {
      "text/plain": [
       "nan"
      ]
     },
     "execution_count": 135,
     "metadata": {},
     "output_type": "execute_result"
    }
   ],
   "source": [
    "d1['f']"
   ]
  },
  {
   "cell_type": "code",
   "execution_count": 136,
   "id": "183c62e1-371e-4236-88a9-3cb8d8f3c8f3",
   "metadata": {},
   "outputs": [
    {
     "data": {
      "text/plain": [
       "1.0"
      ]
     },
     "execution_count": 136,
     "metadata": {},
     "output_type": "execute_result"
    }
   ],
   "source": [
    "d1['a']"
   ]
  },
  {
   "cell_type": "code",
   "execution_count": 137,
   "id": "d566403c-7149-4a42-9c73-50340556a4d2",
   "metadata": {},
   "outputs": [
    {
     "data": {
      "text/plain": [
       "2.0"
      ]
     },
     "execution_count": 137,
     "metadata": {},
     "output_type": "execute_result"
    }
   ],
   "source": [
    "d1['b']"
   ]
  },
  {
   "cell_type": "code",
   "execution_count": 138,
   "id": "336a2839-d9f9-4cf7-ab46-bcfdef917b3c",
   "metadata": {},
   "outputs": [
    {
     "data": {
      "text/plain": [
       "1"
      ]
     },
     "execution_count": 138,
     "metadata": {},
     "output_type": "execute_result"
    }
   ],
   "source": [
    "d['a']"
   ]
  },
  {
   "cell_type": "code",
   "execution_count": 139,
   "id": "dec52dea-255f-4bd1-8911-dda6a36a74f0",
   "metadata": {},
   "outputs": [
    {
     "name": "stderr",
     "output_type": "stream",
     "text": [
      "C:\\Users\\LENOVO\\AppData\\Local\\Temp\\ipykernel_10824\\464593666.py:1: FutureWarning: Series.__getitem__ treating keys as positions is deprecated. In a future version, integer keys will always be treated as labels (consistent with DataFrame behavior). To access a value by position, use `ser.iloc[pos]`\n",
      "  d[2]\n"
     ]
    },
    {
     "data": {
      "text/plain": [
       "3"
      ]
     },
     "execution_count": 139,
     "metadata": {},
     "output_type": "execute_result"
    }
   ],
   "source": [
    "d[2]"
   ]
  },
  {
   "cell_type": "code",
   "execution_count": 140,
   "id": "0a949fe2-33f8-485a-adee-119b8e94ce2f",
   "metadata": {},
   "outputs": [
    {
     "name": "stdout",
     "output_type": "stream",
     "text": [
      "a    1\n",
      "b    2\n",
      "c    3\n",
      "d    4\n",
      "dtype: int64\n"
     ]
    }
   ],
   "source": [
    "print(d)"
   ]
  },
  {
   "cell_type": "markdown",
   "id": "07516caf-e541-4d1d-af0f-44a516128123",
   "metadata": {},
   "source": [
    "##### _SLICING:_"
   ]
  },
  {
   "cell_type": "code",
   "execution_count": 141,
   "id": "2df63ee8-beb6-4952-834d-80369d4c050d",
   "metadata": {},
   "outputs": [
    {
     "data": {
      "text/plain": [
       "b    2\n",
       "d    4\n",
       "dtype: int64"
      ]
     },
     "execution_count": 141,
     "metadata": {},
     "output_type": "execute_result"
    }
   ],
   "source": [
    "d[1:5:2]"
   ]
  },
  {
   "cell_type": "code",
   "execution_count": 142,
   "id": "dd2c8e52-59c7-499a-a6d8-1465105aa118",
   "metadata": {},
   "outputs": [
    {
     "data": {
      "text/plain": [
       "b    2\n",
       "d    4\n",
       "dtype: int64"
      ]
     },
     "execution_count": 142,
     "metadata": {},
     "output_type": "execute_result"
    }
   ],
   "source": [
    "d['b':'d':2]"
   ]
  },
  {
   "cell_type": "markdown",
   "id": "6ea2e994-bff1-4a74-b471-b8f74b867593",
   "metadata": {},
   "source": [
    "## DATA FRAME"
   ]
  },
  {
   "cell_type": "code",
   "execution_count": 158,
   "id": "a89d190d-3366-405e-a1c3-6f2c20f060d3",
   "metadata": {},
   "outputs": [],
   "source": [
    "d= {'Name':['Vishnu','Ram','Sita','Gita','Hari','Krishna','Radhe'],'Roll':[21,22,23,24,25,26,27],'Age':[23,21,25,24,23,19,20],'Marks':['🎶','🙌','✅','🙊','❤️','🤩','🙈']}"
   ]
  },
  {
   "cell_type": "code",
   "execution_count": 159,
   "id": "d72bcb95-e0b3-471a-8000-8711e30bc5f7",
   "metadata": {},
   "outputs": [
    {
     "data": {
      "text/plain": [
       "{'Name': ['Vishnu', 'Ram', 'Sita', 'Gita', 'Hari', 'Krishna', 'Radhe'],\n",
       " 'Roll': [21, 22, 23, 24, 25, 26, 27],\n",
       " 'Age': [23, 21, 25, 24, 23, 19, 20],\n",
       " 'Marks': ['🎶', '🙌', '✅', '🙊', '❤️', '🤩', '🙈']}"
      ]
     },
     "execution_count": 159,
     "metadata": {},
     "output_type": "execute_result"
    }
   ],
   "source": [
    "d"
   ]
  },
  {
   "cell_type": "code",
   "execution_count": 160,
   "id": "6124605b-1875-4ece-bed7-c8e29fddb4f4",
   "metadata": {},
   "outputs": [
    {
     "data": {
      "text/plain": [
       "dict"
      ]
     },
     "execution_count": 160,
     "metadata": {},
     "output_type": "execute_result"
    }
   ],
   "source": [
    "type(d)"
   ]
  },
  {
   "cell_type": "markdown",
   "id": "33a3c75a-be3b-4bd8-a1cd-a23be1e63233",
   "metadata": {},
   "source": [
    "#### Dictionary to DataFrame:"
   ]
  },
  {
   "cell_type": "code",
   "execution_count": 161,
   "id": "764cbea1-46d5-47e3-a8f0-95e40b7a31fd",
   "metadata": {},
   "outputs": [
    {
     "data": {
      "text/html": [
       "<div>\n",
       "<style scoped>\n",
       "    .dataframe tbody tr th:only-of-type {\n",
       "        vertical-align: middle;\n",
       "    }\n",
       "\n",
       "    .dataframe tbody tr th {\n",
       "        vertical-align: top;\n",
       "    }\n",
       "\n",
       "    .dataframe thead th {\n",
       "        text-align: right;\n",
       "    }\n",
       "</style>\n",
       "<table border=\"1\" class=\"dataframe\">\n",
       "  <thead>\n",
       "    <tr style=\"text-align: right;\">\n",
       "      <th></th>\n",
       "      <th>Name</th>\n",
       "      <th>Roll</th>\n",
       "      <th>Age</th>\n",
       "      <th>Marks</th>\n",
       "    </tr>\n",
       "  </thead>\n",
       "  <tbody>\n",
       "    <tr>\n",
       "      <th>0</th>\n",
       "      <td>Vishnu</td>\n",
       "      <td>21</td>\n",
       "      <td>23</td>\n",
       "      <td>🎶</td>\n",
       "    </tr>\n",
       "    <tr>\n",
       "      <th>1</th>\n",
       "      <td>Ram</td>\n",
       "      <td>22</td>\n",
       "      <td>21</td>\n",
       "      <td>🙌</td>\n",
       "    </tr>\n",
       "    <tr>\n",
       "      <th>2</th>\n",
       "      <td>Sita</td>\n",
       "      <td>23</td>\n",
       "      <td>25</td>\n",
       "      <td>✅</td>\n",
       "    </tr>\n",
       "    <tr>\n",
       "      <th>3</th>\n",
       "      <td>Gita</td>\n",
       "      <td>24</td>\n",
       "      <td>24</td>\n",
       "      <td>🙊</td>\n",
       "    </tr>\n",
       "    <tr>\n",
       "      <th>4</th>\n",
       "      <td>Hari</td>\n",
       "      <td>25</td>\n",
       "      <td>23</td>\n",
       "      <td>❤️</td>\n",
       "    </tr>\n",
       "    <tr>\n",
       "      <th>5</th>\n",
       "      <td>Krishna</td>\n",
       "      <td>26</td>\n",
       "      <td>19</td>\n",
       "      <td>🤩</td>\n",
       "    </tr>\n",
       "    <tr>\n",
       "      <th>6</th>\n",
       "      <td>Radhe</td>\n",
       "      <td>27</td>\n",
       "      <td>20</td>\n",
       "      <td>🙈</td>\n",
       "    </tr>\n",
       "  </tbody>\n",
       "</table>\n",
       "</div>"
      ],
      "text/plain": [
       "      Name  Roll  Age Marks\n",
       "0   Vishnu    21   23     🎶\n",
       "1      Ram    22   21     🙌\n",
       "2     Sita    23   25     ✅\n",
       "3     Gita    24   24     🙊\n",
       "4     Hari    25   23    ❤️\n",
       "5  Krishna    26   19     🤩\n",
       "6    Radhe    27   20     🙈"
      ]
     },
     "execution_count": 161,
     "metadata": {},
     "output_type": "execute_result"
    }
   ],
   "source": [
    "s=pd.DataFrame(d)\n",
    "s"
   ]
  },
  {
   "cell_type": "code",
   "execution_count": 162,
   "id": "503cbf0d-5538-4d85-afa7-b7886bc50655",
   "metadata": {},
   "outputs": [
    {
     "data": {
      "text/plain": [
       "pandas.core.frame.DataFrame"
      ]
     },
     "execution_count": 162,
     "metadata": {},
     "output_type": "execute_result"
    }
   ],
   "source": [
    "type(s)"
   ]
  },
  {
   "cell_type": "code",
   "execution_count": null,
   "id": "32ea33f5-bb3b-4a97-96b1-37a9088fe1f2",
   "metadata": {},
   "outputs": [],
   "source": []
  }
 ],
 "metadata": {
  "kernelspec": {
   "display_name": "Python [conda env:base] *",
   "language": "python",
   "name": "conda-base-py"
  },
  "language_info": {
   "codemirror_mode": {
    "name": "ipython",
    "version": 3
   },
   "file_extension": ".py",
   "mimetype": "text/x-python",
   "name": "python",
   "nbconvert_exporter": "python",
   "pygments_lexer": "ipython3",
   "version": "3.12.7"
  }
 },
 "nbformat": 4,
 "nbformat_minor": 5
}
