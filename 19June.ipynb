{
 "cells": [
  {
   "cell_type": "markdown",
   "id": "dd98931f-da16-4a5e-9212-ddf44ca8595c",
   "metadata": {},
   "source": [
    "# BASIC PYTHON"
   ]
  },
  {
   "cell_type": "markdown",
   "id": "e41271d7-d774-452a-ac22-417e13f64dd1",
   "metadata": {},
   "source": [
    "## BASIC COMPONENTS OF PYTHON\n",
    "#### 1. COMMENT LINES:\n",
    "    Non- executable code line.\n",
    "    Written for user understanding.\n",
    "    "
   ]
  },
  {
   "cell_type": "code",
   "execution_count": 4,
   "id": "2524ba1a-918b-478e-8b19-4b98b6a83904",
   "metadata": {},
   "outputs": [],
   "source": [
    "#comment line"
   ]
  },
  {
   "cell_type": "markdown",
   "id": "7fc3ca31-b7be-4ec7-ad72-a3ec523bd86d",
   "metadata": {},
   "source": [
    "#### 2.KEYWORDS:\n",
    "     They are pre-defined words.\n",
    "     Reserved words with special meaning that cant be used as variable name or function name. \n",
    "     There are 33 + keywords in python(currently 35)"
   ]
  },
  {
   "cell_type": "code",
   "execution_count": 5,
   "id": "9f852e46-c875-4335-8eaa-262c163b9058",
   "metadata": {},
   "outputs": [
    {
     "name": "stdout",
     "output_type": "stream",
     "text": [
      "\n",
      "Here is a list of the Python keywords.  Enter any keyword to get more help.\n",
      "\n",
      "False               class               from                or\n",
      "None                continue            global              pass\n",
      "True                def                 if                  raise\n",
      "and                 del                 import              return\n",
      "as                  elif                in                  try\n",
      "assert              else                is                  while\n",
      "async               except              lambda              with\n",
      "await               finally             nonlocal            yield\n",
      "break               for                 not                 \n",
      "\n"
     ]
    }
   ],
   "source": [
    "help('keywords')"
   ]
  },
  {
   "cell_type": "markdown",
   "id": "e2330376-acae-48f4-abb4-5f0584422d3b",
   "metadata": {},
   "source": [
    "#### 3.IDENTIFIERS:\n",
    "     These are the names user gives to identify a function , class , module or variables, etc.\n",
    "     "
   ]
  },
  {
   "cell_type": "markdown",
   "id": "481ed236-2443-4a0d-a325-bc6f34715b7e",
   "metadata": {},
   "source": [
    "#### 4.VARIABLE:\n",
    "     It stores value in it.\n",
    "     "
   ]
  },
  {
   "cell_type": "markdown",
   "id": "d5e3a912-47db-461f-b68b-8975203bc920",
   "metadata": {},
   "source": [
    "**VARIABLE/IDENTIFIER Naming RULES:**\n",
    "#### (Not to use)\n",
    "    1.We cannot use keywords as variable names.\n",
    "    2.We cannot use special symbols in a variable name. Except (_)\n",
    "    3.We cannot use space in between variable name. Instead we can use _ (underscores).\n",
    "    4. We cannot start with a digit/s(0-9).\n",
    "    5.PYTHON is case sensitive."
   ]
  },
  {
   "cell_type": "markdown",
   "id": "39c187f2-2e54-40e0-be87-d082903ddd55",
   "metadata": {},
   "source": [
    "EXAMPLES:"
   ]
  },
  {
   "cell_type": "code",
   "execution_count": 6,
   "id": "5dd7188c-1791-4d15-bbdf-8535e01ca8d7",
   "metadata": {},
   "outputs": [
    {
     "ename": "SyntaxError",
     "evalue": "invalid syntax (978001013.py, line 1)",
     "output_type": "error",
     "traceback": [
      "\u001b[1;36m  Cell \u001b[1;32mIn[6], line 1\u001b[1;36m\u001b[0m\n\u001b[1;33m    else = 21\u001b[0m\n\u001b[1;37m    ^\u001b[0m\n\u001b[1;31mSyntaxError\u001b[0m\u001b[1;31m:\u001b[0m invalid syntax\n"
     ]
    }
   ],
   "source": [
    "else = 21"
   ]
  },
  {
   "cell_type": "code",
   "execution_count": 7,
   "id": "0a679b0d-d4c0-44fa-bd4d-7797966496fa",
   "metadata": {},
   "outputs": [
    {
     "ename": "SyntaxError",
     "evalue": "invalid syntax (745183995.py, line 1)",
     "output_type": "error",
     "traceback": [
      "\u001b[1;36m  Cell \u001b[1;32mIn[7], line 1\u001b[1;36m\u001b[0m\n\u001b[1;33m    var@ = 19\u001b[0m\n\u001b[1;37m         ^\u001b[0m\n\u001b[1;31mSyntaxError\u001b[0m\u001b[1;31m:\u001b[0m invalid syntax\n"
     ]
    }
   ],
   "source": [
    "var@ = 19"
   ]
  },
  {
   "cell_type": "code",
   "execution_count": 9,
   "id": "2ca5a9c7-652a-45e1-ace5-fc6bb29981ef",
   "metadata": {},
   "outputs": [
    {
     "ename": "SyntaxError",
     "evalue": "invalid syntax (1086024967.py, line 1)",
     "output_type": "error",
     "traceback": [
      "\u001b[1;36m  Cell \u001b[1;32mIn[9], line 1\u001b[1;36m\u001b[0m\n\u001b[1;33m    var one =56\u001b[0m\n\u001b[1;37m        ^\u001b[0m\n\u001b[1;31mSyntaxError\u001b[0m\u001b[1;31m:\u001b[0m invalid syntax\n"
     ]
    }
   ],
   "source": [
    "var one =56\n"
   ]
  },
  {
   "cell_type": "code",
   "execution_count": 10,
   "id": "ce810100-11b4-4d3f-960e-a244e0de2449",
   "metadata": {},
   "outputs": [],
   "source": [
    "var_one = 56"
   ]
  },
  {
   "cell_type": "code",
   "execution_count": 11,
   "id": "bed68fc2-9b17-4d82-a88e-2e905efba211",
   "metadata": {},
   "outputs": [
    {
     "ename": "SyntaxError",
     "evalue": "invalid decimal literal (1321612655.py, line 1)",
     "output_type": "error",
     "traceback": [
      "\u001b[1;36m  Cell \u001b[1;32mIn[11], line 1\u001b[1;36m\u001b[0m\n\u001b[1;33m    1st var = 78\u001b[0m\n\u001b[1;37m    ^\u001b[0m\n\u001b[1;31mSyntaxError\u001b[0m\u001b[1;31m:\u001b[0m invalid decimal literal\n"
     ]
    }
   ],
   "source": [
    "1st var = 78"
   ]
  },
  {
   "cell_type": "code",
   "execution_count": 12,
   "id": "10b61f58-f380-4c6e-a535-781363803596",
   "metadata": {},
   "outputs": [],
   "source": [
    "var_1st = 78"
   ]
  },
  {
   "cell_type": "code",
   "execution_count": 13,
   "id": "d30ce05e-96db-4bff-81a7-94543d93b62e",
   "metadata": {},
   "outputs": [
    {
     "ename": "NameError",
     "evalue": "name 'Var_one' is not defined",
     "output_type": "error",
     "traceback": [
      "\u001b[1;31m---------------------------------------------------------------------------\u001b[0m",
      "\u001b[1;31mNameError\u001b[0m                                 Traceback (most recent call last)",
      "Cell \u001b[1;32mIn[13], line 1\u001b[0m\n\u001b[1;32m----> 1\u001b[0m Var_one\n",
      "\u001b[1;31mNameError\u001b[0m: name 'Var_one' is not defined"
     ]
    }
   ],
   "source": [
    "Var_one\n"
   ]
  },
  {
   "cell_type": "code",
   "execution_count": 14,
   "id": "6d219b1c-255e-423d-bf7c-8f1b3509616b",
   "metadata": {},
   "outputs": [
    {
     "data": {
      "text/plain": [
       "56"
      ]
     },
     "execution_count": 14,
     "metadata": {},
     "output_type": "execute_result"
    }
   ],
   "source": [
    "var_one"
   ]
  },
  {
   "cell_type": "raw",
   "id": "2421e448-1078-4ccd-9bb1-26a64da0acb3",
   "metadata": {},
   "source": []
  },
  {
   "cell_type": "markdown",
   "id": "b6f4999f-eeb6-459d-ba31-69ac037fffbf",
   "metadata": {},
   "source": [
    "#### 5.DATATYPES:\n",
    "![MyImage](datatypes.jpg)\n",
    "     Type of data a variable can store \n",
    "##### In python its of 2 types:\n",
    "**1. Primary Datatype :**\n",
    "##### - Numeric:\n",
    "    a. Integer (int)\n",
    "    b. Float (float)\n",
    "    c. Complex (complex)\n",
    "##### - Boolean:\n",
    "    a. True\n",
    "    b. False\n",
    "**2. Sequential Datatype :**\n",
    "\n",
    "\n",
    "***- String (str):***\n",
    "\n",
    "     Its a sequence of character elements stored inside ' ' / \" \".\n",
    "     For single line striing we can use '' or \"\".\n",
    "     For multiline string we use ''' ''' or \"\"\" \"\"\"\n",
    "     \n",
    "***- List (list):***\n",
    "\n",
    "     Its a sequenc of elemnts or items denoted within [] & separated with ',' (commas).\n",
    "     It can be homogenous / heterogenous .\n",
    "     It is ordered & mutable (jinsa change kriparibu/sabu operations{add/remove} use krihaba).\n",
    "\n",
    "***- Tuple (tuple):***\n",
    "\n",
    "     Its a sequence of elements / items , stored / denoted within '()' .\n",
    "     It can be homogenous/heterogenous.\n",
    "     It can ordered/ immutable (changes nhi kr saktein hain) .\n",
    "\n",
    "***- Set (set):***\n",
    "\n",
    "     Its a sequence of elements denoted within '{}' and separated with ','(comma).\n",
    "     Its unordered and mutable .\n",
    "     It can be homogenous/ heterogenous.\n",
    "     It gives unique values as output(no repetation) .\n",
    "     set ka index posn nhi hota hai .\n",
    "     \n",
    "***- Dictionary (dict):***\n",
    "\n",
    "    Its a sequence of keys and value pairs stored/denoted within '{}' and separated with ',' (comma) , the key and value of a pair is  separated by ':'.\n",
    "    Each key and value is represented as 1 item / 1 element .\n",
    "    Your key must be unique. value can be same.\n"
   ]
  },
  {
   "cell_type": "code",
   "execution_count": 15,
   "id": "d3353d0f-996b-4fd7-bccf-71cdcec54bf3",
   "metadata": {},
   "outputs": [
    {
     "data": {
      "text/plain": [
       "26"
      ]
     },
     "execution_count": 15,
     "metadata": {},
     "output_type": "execute_result"
    }
   ],
   "source": [
    "#datatype\n",
    "a = 26\n",
    "a"
   ]
  },
  {
   "cell_type": "code",
   "execution_count": 16,
   "id": "586d692d-ae3a-47e5-855a-1930ced57ef5",
   "metadata": {},
   "outputs": [
    {
     "data": {
      "text/plain": [
       "int"
      ]
     },
     "execution_count": 16,
     "metadata": {},
     "output_type": "execute_result"
    }
   ],
   "source": [
    "type(a)"
   ]
  },
  {
   "cell_type": "code",
   "execution_count": 18,
   "id": "e323aac2-1918-4799-88f7-aac185d8e5ec",
   "metadata": {},
   "outputs": [
    {
     "data": {
      "text/plain": [
       "4.0"
      ]
     },
     "execution_count": 18,
     "metadata": {},
     "output_type": "execute_result"
    }
   ],
   "source": [
    "b = 4.0\n",
    "b"
   ]
  },
  {
   "cell_type": "code",
   "execution_count": 19,
   "id": "11d13caf-cece-43db-a9f7-46b2b054fa8e",
   "metadata": {},
   "outputs": [
    {
     "data": {
      "text/plain": [
       "float"
      ]
     },
     "execution_count": 19,
     "metadata": {},
     "output_type": "execute_result"
    }
   ],
   "source": [
    "type(b)"
   ]
  },
  {
   "cell_type": "code",
   "execution_count": 23,
   "id": "7a20f5e1-4deb-4924-a619-34ed13924ee7",
   "metadata": {},
   "outputs": [
    {
     "data": {
      "text/plain": [
       "(5+4j)"
      ]
     },
     "execution_count": 23,
     "metadata": {},
     "output_type": "execute_result"
    }
   ],
   "source": [
    "c = 5+4j\n",
    "c"
   ]
  },
  {
   "cell_type": "code",
   "execution_count": 24,
   "id": "ff5b01dd-6569-4ee6-8d45-8308755f64fe",
   "metadata": {},
   "outputs": [],
   "source": [
    "# In python imaginary no. is represented by 'j' not (i)"
   ]
  },
  {
   "cell_type": "code",
   "execution_count": 25,
   "id": "6152c3ea-1d24-4eb1-b0d0-96a054fcff4a",
   "metadata": {},
   "outputs": [
    {
     "data": {
      "text/plain": [
       "complex"
      ]
     },
     "execution_count": 25,
     "metadata": {},
     "output_type": "execute_result"
    }
   ],
   "source": [
    "type(c)"
   ]
  },
  {
   "cell_type": "code",
   "execution_count": 26,
   "id": "9eed86c7-18c8-47fd-9b3a-eda19edb1fa1",
   "metadata": {},
   "outputs": [
    {
     "data": {
      "text/plain": [
       "bool"
      ]
     },
     "execution_count": 26,
     "metadata": {},
     "output_type": "execute_result"
    }
   ],
   "source": [
    "d = True\n",
    "type(d)"
   ]
  },
  {
   "cell_type": "code",
   "execution_count": 30,
   "id": "8032fce6-36fa-4ec5-9c01-443c7d4a7682",
   "metadata": {},
   "outputs": [
    {
     "data": {
      "text/plain": [
       "'Astha'"
      ]
     },
     "execution_count": 30,
     "metadata": {},
     "output_type": "execute_result"
    }
   ],
   "source": [
    "e = 'Astha'\n",
    "e"
   ]
  },
  {
   "cell_type": "code",
   "execution_count": 31,
   "id": "90328c0d-b9d8-49dc-a6cf-ba8e99f2b76a",
   "metadata": {},
   "outputs": [
    {
     "data": {
      "text/plain": [
       "str"
      ]
     },
     "execution_count": 31,
     "metadata": {},
     "output_type": "execute_result"
    }
   ],
   "source": [
    "type(e)"
   ]
  },
  {
   "cell_type": "code",
   "execution_count": 34,
   "id": "75a6019d-9f2f-4347-8bf7-5e5b8eee6091",
   "metadata": {},
   "outputs": [
    {
     "data": {
      "text/plain": [
       "'Welcome to STALWART HOMES'"
      ]
     },
     "execution_count": 34,
     "metadata": {},
     "output_type": "execute_result"
    }
   ],
   "source": [
    "#for single line we can use '' or\"'\n",
    "s1 = 'Welcome to STALWART HOMES'\n",
    "s1"
   ]
  },
  {
   "cell_type": "code",
   "execution_count": 35,
   "id": "4f710170-9da2-4d13-a95d-a1d99ca27905",
   "metadata": {},
   "outputs": [
    {
     "data": {
      "text/plain": [
       "str"
      ]
     },
     "execution_count": 35,
     "metadata": {},
     "output_type": "execute_result"
    }
   ],
   "source": [
    "type(s1)"
   ]
  },
  {
   "cell_type": "code",
   "execution_count": 36,
   "id": "52ef4437-4efb-4994-8d16-1987fc735b47",
   "metadata": {},
   "outputs": [],
   "source": [
    "#for multiline string we use ''' ''' or \"\"\" \"\"\""
   ]
  },
  {
   "cell_type": "code",
   "execution_count": 38,
   "id": "f825a765-8d7e-482a-86d7-01c8b963133e",
   "metadata": {},
   "outputs": [
    {
     "name": "stdout",
     "output_type": "stream",
     "text": [
      " Welcome to CTTC \n",
      "for SUMMER INTERNSHIP\n"
     ]
    }
   ],
   "source": [
    "s2 = \"\"\" Welcome to CTTC \n",
    "for SUMMER INTERNSHIP\"\"\"\n",
    "print(s2)"
   ]
  },
  {
   "cell_type": "code",
   "execution_count": 39,
   "id": "12fb0c10-d384-4c30-9bc6-7b0654b072f3",
   "metadata": {},
   "outputs": [
    {
     "data": {
      "text/plain": [
       "str"
      ]
     },
     "execution_count": 39,
     "metadata": {},
     "output_type": "execute_result"
    }
   ],
   "source": [
    "type(s2)"
   ]
  },
  {
   "cell_type": "code",
   "execution_count": 40,
   "id": "33b19bbc-9014-46e8-9291-8efd53e20549",
   "metadata": {},
   "outputs": [
    {
     "data": {
      "text/plain": [
       "[28, 19.7, (7+3j), True, 'Cat']"
      ]
     },
     "execution_count": 40,
     "metadata": {},
     "output_type": "execute_result"
    }
   ],
   "source": [
    "#list\n",
    "l= [28,19.7,7+3j,True,'Cat']\n",
    "l"
   ]
  },
  {
   "cell_type": "code",
   "execution_count": 41,
   "id": "7e05111f-816b-496e-9f2c-c394c4059f25",
   "metadata": {},
   "outputs": [
    {
     "data": {
      "text/plain": [
       "list"
      ]
     },
     "execution_count": 41,
     "metadata": {},
     "output_type": "execute_result"
    }
   ],
   "source": [
    "type(l)"
   ]
  },
  {
   "cell_type": "code",
   "execution_count": 42,
   "id": "47af3852-1926-4468-b4ca-576e064a559a",
   "metadata": {},
   "outputs": [
    {
     "data": {
      "text/plain": [
       "(29, 85.9, (9+3j), False)"
      ]
     },
     "execution_count": 42,
     "metadata": {},
     "output_type": "execute_result"
    }
   ],
   "source": [
    "#tuple\n",
    "t= (29,85.9,9+3j,False)\n",
    "t"
   ]
  },
  {
   "cell_type": "code",
   "execution_count": 43,
   "id": "2470b880-e86c-4d5d-9d82-bf695ce615d6",
   "metadata": {},
   "outputs": [
    {
     "data": {
      "text/plain": [
       "tuple"
      ]
     },
     "execution_count": 43,
     "metadata": {},
     "output_type": "execute_result"
    }
   ],
   "source": [
    "type(t)"
   ]
  },
  {
   "cell_type": "code",
   "execution_count": 47,
   "id": "cb8fba16-4cbd-4dad-b703-d3ec8bb2658a",
   "metadata": {},
   "outputs": [
    {
     "data": {
      "text/plain": [
       "{(7+4j), 12, 35, 6.5, False}"
      ]
     },
     "execution_count": 47,
     "metadata": {},
     "output_type": "execute_result"
    }
   ],
   "source": [
    "#set\n",
    "set ={ 35,35,12,12,6.5,False,7+4j}\n",
    "set\n",
    "# apne hissab se print krke dega , kyunki iska index value fix nhi hota toh unordered aega "
   ]
  },
  {
   "cell_type": "code",
   "execution_count": 46,
   "id": "70121e0e-7990-4f55-bc15-56a0c0d7ae49",
   "metadata": {},
   "outputs": [
    {
     "data": {
      "text/plain": [
       "set"
      ]
     },
     "execution_count": 46,
     "metadata": {},
     "output_type": "execute_result"
    }
   ],
   "source": [
    "type(set)"
   ]
  },
  {
   "cell_type": "code",
   "execution_count": 50,
   "id": "3801a17b-85fb-4780-a282-edec0e2afb23",
   "metadata": {},
   "outputs": [
    {
     "data": {
      "text/plain": [
       "{'a': 5, 4: 3, 'c': 8}"
      ]
     },
     "execution_count": 50,
     "metadata": {},
     "output_type": "execute_result"
    }
   ],
   "source": [
    "#dictionary\n",
    "di = {'a':3,4:3,'c':8, 'a':5} #agar sem key lia toh jo last mei hoga uska value update hoga\n",
    "di"
   ]
  },
  {
   "cell_type": "code",
   "execution_count": 51,
   "id": "268ba971-8280-4a7b-a7aa-c7c771f1d12c",
   "metadata": {},
   "outputs": [
    {
     "data": {
      "text/plain": [
       "dict"
      ]
     },
     "execution_count": 51,
     "metadata": {},
     "output_type": "execute_result"
    }
   ],
   "source": [
    "type(di)"
   ]
  }
 ],
 "metadata": {
  "kernelspec": {
   "display_name": "Python [conda env:base] *",
   "language": "python",
   "name": "conda-base-py"
  },
  "language_info": {
   "codemirror_mode": {
    "name": "ipython",
    "version": 3
   },
   "file_extension": ".py",
   "mimetype": "text/x-python",
   "name": "python",
   "nbconvert_exporter": "python",
   "pygments_lexer": "ipython3",
   "version": "3.12.7"
  }
 },
 "nbformat": 4,
 "nbformat_minor": 5
}
