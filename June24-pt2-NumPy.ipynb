{
 "cells": [
  {
   "cell_type": "markdown",
   "id": "24d463e1-742d-47ce-ba28-b09363db604a",
   "metadata": {},
   "source": [
    "# <font color=#30fc03>NumPy: NUMERICAL PYTHON:\n",
    "\n",
    "    NumPy is a Python library which is used to perform different mathematical operations on arrays.\n",
    "    Array is denoted with '[]' . \n",
    "    \n",
    "    Its:\n",
    "- ordered (index position is fixed)\n",
    "- mutable (items can be modified) \n",
    "- homogenous (items of similar datatype ) collection of items."
   ]
  },
  {
   "cell_type": "code",
   "execution_count": 1,
   "id": "da1fcaf7-97aa-499b-a738-29469073b4be",
   "metadata": {},
   "outputs": [],
   "source": [
    "import numpy as np"
   ]
  },
  {
   "cell_type": "code",
   "execution_count": 2,
   "id": "21252eb3-4e1e-4a81-aa68-33e094f5990e",
   "metadata": {},
   "outputs": [
    {
     "data": {
      "text/plain": [
       "array([1, 2, 3, 4, 5])"
      ]
     },
     "execution_count": 2,
     "metadata": {},
     "output_type": "execute_result"
    }
   ],
   "source": [
    "# Creating 1-D Array:\n",
    "a=np.array([1,2,3,4,5])\n",
    "a"
   ]
  },
  {
   "cell_type": "code",
   "execution_count": 4,
   "id": "1c29d389-800d-423e-85d6-c87b273f0874",
   "metadata": {},
   "outputs": [
    {
     "data": {
      "text/plain": [
       "numpy.ndarray"
      ]
     },
     "execution_count": 4,
     "metadata": {},
     "output_type": "execute_result"
    }
   ],
   "source": [
    "type(a) # ndarray : n-dimensional array"
   ]
  },
  {
   "cell_type": "code",
   "execution_count": 7,
   "id": "6497f1f0-d48e-432e-ae69-ef1bc6a9f70c",
   "metadata": {},
   "outputs": [
    {
     "data": {
      "text/plain": [
       "array(['20', '40', 'cat', '3.5', 'True'], dtype='<U32')"
      ]
     },
     "execution_count": 7,
     "metadata": {},
     "output_type": "execute_result"
    }
   ],
   "source": [
    "b= np.array([20,40,'cat',3.5,True])\n",
    "b# string bana diya sara data type : so ek naya data type name diya gya temporarily i.e '<U32'"
   ]
  },
  {
   "cell_type": "code",
   "execution_count": 8,
   "id": "288853e5-455c-4c9e-bc61-5281c5582482",
   "metadata": {},
   "outputs": [
    {
     "data": {
      "text/plain": [
       "numpy.ndarray"
      ]
     },
     "execution_count": 8,
     "metadata": {},
     "output_type": "execute_result"
    }
   ],
   "source": [
    "type(b)"
   ]
  },
  {
   "cell_type": "code",
   "execution_count": 12,
   "id": "897b94ac-70c6-41e7-b589-c07fcf7b21a9",
   "metadata": {},
   "outputs": [
    {
     "data": {
      "text/plain": [
       "array([20. , 40. ,  3.5,  1. ])"
      ]
     },
     "execution_count": 12,
     "metadata": {},
     "output_type": "execute_result"
    }
   ],
   "source": [
    "b=np.array([20,40,3.5,True])\n",
    "b\n",
    "# all datatypes converted to float\n",
    "#True in numeric can be 1 as ) is False\n",
    "#20. , 40. , is generated from int values 20 nd 40"
   ]
  },
  {
   "cell_type": "code",
   "execution_count": 13,
   "id": "de7f27ef-1c04-4871-bf74-765692068ba6",
   "metadata": {},
   "outputs": [
    {
     "data": {
      "text/plain": [
       "numpy.ndarray"
      ]
     },
     "execution_count": 13,
     "metadata": {},
     "output_type": "execute_result"
    }
   ],
   "source": [
    "type(b)"
   ]
  },
  {
   "cell_type": "markdown",
   "id": "da6c033e-84e1-43b8-bac0-f2f0bfabcbbe",
   "metadata": {},
   "source": [
    "**- This implies that all datat types are homogenous.**\n",
    "\n",
    "**- STRING>FLOAT>INTEGER-- its the priority.**"
   ]
  },
  {
   "cell_type": "code",
   "execution_count": 14,
   "id": "021684f6-086c-4b78-9b1c-bdf671cd4437",
   "metadata": {},
   "outputs": [
    {
     "data": {
      "text/plain": [
       "array([1, 2, 3, 4, 4])"
      ]
     },
     "execution_count": 14,
     "metadata": {},
     "output_type": "execute_result"
    }
   ],
   "source": [
    "# Tuple to Array:\n",
    "t= np.array((1,2,3,4,4))\n",
    "t"
   ]
  },
  {
   "cell_type": "code",
   "execution_count": 15,
   "id": "6e2f07dc-310e-4006-8576-5298b265a48f",
   "metadata": {},
   "outputs": [
    {
     "data": {
      "text/plain": [
       "array({1, 2, 3, 4}, dtype=object)"
      ]
     },
     "execution_count": 15,
     "metadata": {},
     "output_type": "execute_result"
    }
   ],
   "source": [
    "#set to array:\n",
    "s=np.array({1,2,3,4,4})\n",
    "s"
   ]
  },
  {
   "cell_type": "code",
   "execution_count": 16,
   "id": "a23a62a9-400f-4599-b4aa-10a7dd137a0b",
   "metadata": {},
   "outputs": [],
   "source": [
    "#there assigned datatype is object (neither its a string nor any other primitive datatype)\n",
    "# Set is unordered and hence it cannot be properly converted to a numpy array"
   ]
  },
  {
   "cell_type": "code",
   "execution_count": 18,
   "id": "144b88ad-7f6c-4119-9167-12c697f63c2e",
   "metadata": {},
   "outputs": [
    {
     "data": {
      "text/plain": [
       "array({'a': 1, 'b': 2, 'c': 3}, dtype=object)"
      ]
     },
     "execution_count": 18,
     "metadata": {},
     "output_type": "execute_result"
    }
   ],
   "source": [
    "# Dictionary to array\n",
    "d=np.array({'a':1,'b':2,'c':3})\n",
    "d"
   ]
  },
  {
   "cell_type": "code",
   "execution_count": 19,
   "id": "e3172816-c49b-4828-884c-04d207b05bbf",
   "metadata": {},
   "outputs": [],
   "source": [
    "#each element is assigned as object datatype as its neither a string nor a float or integer"
   ]
  },
  {
   "cell_type": "code",
   "execution_count": 20,
   "id": "6f024aac-63b6-47c4-8624-cb9b22107a02",
   "metadata": {},
   "outputs": [
    {
     "data": {
      "text/plain": [
       "array([[1, 2, 3],\n",
       "       [4, 5, 6]])"
      ]
     },
     "execution_count": 20,
     "metadata": {},
     "output_type": "execute_result"
    }
   ],
   "source": [
    "# Creating a 2-D Array:\n",
    "a= np.array([[1,2,3],[4,5,6]])\n",
    "a"
   ]
  },
  {
   "cell_type": "code",
   "execution_count": 46,
   "id": "0c1bae27-0086-4104-b5c7-ad73e0fb5380",
   "metadata": {},
   "outputs": [],
   "source": [
    "#[...] implies one dimension\n",
    "#1-D Array:a= np.array([[1,2,3])\n",
    "# 2-D Array:a= np.array([[1,2,3],[4,5,6]]])"
   ]
  },
  {
   "cell_type": "code",
   "execution_count": 22,
   "id": "c3f1823a-defd-45b4-984c-5e54d7fc8397",
   "metadata": {},
   "outputs": [
    {
     "ename": "ValueError",
     "evalue": "setting an array element with a sequence. The requested array has an inhomogeneous shape after 1 dimensions. The detected shape was (2,) + inhomogeneous part.",
     "output_type": "error",
     "traceback": [
      "\u001b[1;31m---------------------------------------------------------------------------\u001b[0m",
      "\u001b[1;31mValueError\u001b[0m                                Traceback (most recent call last)",
      "Cell \u001b[1;32mIn[22], line 1\u001b[0m\n\u001b[1;32m----> 1\u001b[0m a\u001b[38;5;241m=\u001b[39m np\u001b[38;5;241m.\u001b[39marray([[\u001b[38;5;241m1\u001b[39m,\u001b[38;5;241m2\u001b[39m,\u001b[38;5;241m3\u001b[39m],{\u001b[38;5;241m4\u001b[39m,\u001b[38;5;241m5\u001b[39m,\u001b[38;5;241m6\u001b[39m}])\n\u001b[0;32m      2\u001b[0m a\n",
      "\u001b[1;31mValueError\u001b[0m: setting an array element with a sequence. The requested array has an inhomogeneous shape after 1 dimensions. The detected shape was (2,) + inhomogeneous part."
     ]
    }
   ],
   "source": [
    "a= np.array([[1,2,3],{4,5,6}])\n",
    "a\n",
    "# becoz 2nd 1 is set so it shows error"
   ]
  },
  {
   "cell_type": "code",
   "execution_count": 23,
   "id": "6ac6d873-a1ee-44c3-8b94-8bcd77e417cf",
   "metadata": {},
   "outputs": [
    {
     "data": {
      "text/plain": [
       "array([[1, 2, 3],\n",
       "       [4, 5, 6],\n",
       "       [7, 8, 9]])"
      ]
     },
     "execution_count": 23,
     "metadata": {},
     "output_type": "execute_result"
    }
   ],
   "source": [
    "b= np.array([[1,2,3],[4,5,6],[7,8,9]])\n",
    "b"
   ]
  },
  {
   "cell_type": "markdown",
   "id": "2cb388e7-adc5-4e42-9ad9-18383c9cf07a",
   "metadata": {},
   "source": [
    "# ARRAY ATTRIBUTES"
   ]
  },
  {
   "cell_type": "code",
   "execution_count": 25,
   "id": "7eca73e8-a98d-4cbe-a7f0-fabb62264470",
   "metadata": {},
   "outputs": [
    {
     "data": {
      "text/plain": [
       "(3, 3)"
      ]
     },
     "execution_count": 25,
     "metadata": {},
     "output_type": "execute_result"
    }
   ],
   "source": [
    "b.shape\n",
    "#shows dimensions: that is (row,column)"
   ]
  },
  {
   "cell_type": "code",
   "execution_count": 26,
   "id": "0a28d683-2802-423f-9ad3-18152df8f741",
   "metadata": {},
   "outputs": [
    {
     "data": {
      "text/plain": [
       "9"
      ]
     },
     "execution_count": 26,
     "metadata": {},
     "output_type": "execute_result"
    }
   ],
   "source": [
    "b.size#to check total no. of elements in an array"
   ]
  },
  {
   "cell_type": "code",
   "execution_count": 27,
   "id": "4dcda6f4-83ce-4860-8feb-14ba6552cfe2",
   "metadata": {},
   "outputs": [
    {
     "data": {
      "text/plain": [
       "2"
      ]
     },
     "execution_count": 27,
     "metadata": {},
     "output_type": "execute_result"
    }
   ],
   "source": [
    "b.ndim\n",
    "#To chechk the no. of dimensions of the array"
   ]
  },
  {
   "cell_type": "code",
   "execution_count": 38,
   "id": "0c311675-bcce-45c1-a203-6a2344721c75",
   "metadata": {
    "scrolled": true
   },
   "outputs": [
    {
     "data": {
      "text/plain": [
       "array([1, 2, 3, 4, 5, 6, 7])"
      ]
     },
     "execution_count": 38,
     "metadata": {},
     "output_type": "execute_result"
    }
   ],
   "source": [
    "# Arrange - returns a 1-D array of the givem range / sequence \n",
    "# only 1 - d can be arranged \n",
    "np.arange(1,8)\n"
   ]
  },
  {
   "cell_type": "code",
   "execution_count": 35,
   "id": "69dcbb29-af77-4e90-a9cf-7cd7480b4443",
   "metadata": {},
   "outputs": [
    {
     "data": {
      "text/plain": [
       "array([1, 3, 5, 7])"
      ]
     },
     "execution_count": 35,
     "metadata": {},
     "output_type": "execute_result"
    }
   ],
   "source": [
    "\n",
    "np.arange(1,8,2)"
   ]
  },
  {
   "cell_type": "code",
   "execution_count": 39,
   "id": "a794fdff-e921-4943-ab58-00f390c030ad",
   "metadata": {},
   "outputs": [
    {
     "data": {
      "text/plain": [
       "array([0., 0., 0., 0., 0.])"
      ]
     },
     "execution_count": 39,
     "metadata": {},
     "output_type": "execute_result"
    }
   ],
   "source": [
    "np.zeros(5) # null array / null matrix is created"
   ]
  },
  {
   "cell_type": "code",
   "execution_count": 45,
   "id": "5626330c-19dc-4fea-aab5-e30cefb089ed",
   "metadata": {},
   "outputs": [
    {
     "data": {
      "text/plain": [
       "array([[0., 0., 0., 0., 0.],\n",
       "       [0., 0., 0., 0., 0.],\n",
       "       [0., 0., 0., 0., 0.]])"
      ]
     },
     "execution_count": 45,
     "metadata": {},
     "output_type": "execute_result"
    }
   ],
   "source": [
    "np.zeros((3,5))\n",
    "# 2-d = 2 brackets are used"
   ]
  },
  {
   "cell_type": "code",
   "execution_count": 48,
   "id": "103949da-7e98-450d-b082-1880192c04f7",
   "metadata": {},
   "outputs": [
    {
     "data": {
      "text/plain": [
       "array([[[   1,    2,    3,    4],\n",
       "        [   1,   11,  111, 1111]],\n",
       "\n",
       "       [[   2,    7,    8,    9],\n",
       "        [   0,    8,    6,    5]]])"
      ]
     },
     "execution_count": 48,
     "metadata": {},
     "output_type": "execute_result"
    }
   ],
   "source": [
    "# Creating a 3-d array\n",
    "d=np.array([[[1,2,3,4],[1,11,111,1111]],[[2,7,8,9],[0,8,6,5]]])\n",
    "d"
   ]
  },
  {
   "cell_type": "code",
   "execution_count": 51,
   "id": "7588989d-6234-464c-8511-e6caa7d20bb2",
   "metadata": {},
   "outputs": [
    {
     "data": {
      "text/plain": [
       "(2, 2, 4)"
      ]
     },
     "execution_count": 51,
     "metadata": {},
     "output_type": "execute_result"
    }
   ],
   "source": [
    "d.shape"
   ]
  },
  {
   "cell_type": "code",
   "execution_count": 52,
   "id": "c0d3d538-957f-4c82-be2a-d0ebfb93c6af",
   "metadata": {},
   "outputs": [
    {
     "data": {
      "text/plain": [
       "16"
      ]
     },
     "execution_count": 52,
     "metadata": {},
     "output_type": "execute_result"
    }
   ],
   "source": [
    "d.size"
   ]
  },
  {
   "cell_type": "code",
   "execution_count": 53,
   "id": "2a1e3018-92e5-456d-bf8e-ecedb975b75e",
   "metadata": {},
   "outputs": [
    {
     "data": {
      "text/plain": [
       "3"
      ]
     },
     "execution_count": 53,
     "metadata": {},
     "output_type": "execute_result"
    }
   ],
   "source": [
    "d.ndim"
   ]
  },
  {
   "cell_type": "code",
   "execution_count": 56,
   "id": "5eab0071-d37f-4799-a290-8933c578a8d6",
   "metadata": {},
   "outputs": [
    {
     "ename": "AttributeError",
     "evalue": "'numpy.ndarray' object has no attribute 'arange'",
     "output_type": "error",
     "traceback": [
      "\u001b[1;31m---------------------------------------------------------------------------\u001b[0m",
      "\u001b[1;31mAttributeError\u001b[0m                            Traceback (most recent call last)",
      "Cell \u001b[1;32mIn[56], line 1\u001b[0m\n\u001b[1;32m----> 1\u001b[0m d\u001b[38;5;241m.\u001b[39marange(\u001b[38;5;241m1\u001b[39m,\u001b[38;5;241m15\u001b[39m)\n",
      "\u001b[1;31mAttributeError\u001b[0m: 'numpy.ndarray' object has no attribute 'arange'"
     ]
    }
   ],
   "source": [
    "d.arange(1,15)# done only for 1d array"
   ]
  },
  {
   "cell_type": "code",
   "execution_count": 42,
   "id": "bb91c3b1-afff-4d04-9d21-1a57b5eccc07",
   "metadata": {},
   "outputs": [],
   "source": [
    "# use shift+ tab to get details"
   ]
  },
  {
   "cell_type": "markdown",
   "id": "6e3fd9d0-675b-4fc8-a0c5-b9cd5f6c03c6",
   "metadata": {},
   "source": [
    "#### ZEROS: used to creat null mtrix"
   ]
  },
  {
   "cell_type": "code",
   "execution_count": 43,
   "id": "61eb72aa-1695-4439-9ebc-4fba3a6db004",
   "metadata": {},
   "outputs": [
    {
     "data": {
      "text/plain": [
       "array([[0, 0, 0, 0, 0],\n",
       "       [0, 0, 0, 0, 0],\n",
       "       [0, 0, 0, 0, 0],\n",
       "       [0, 0, 0, 0, 0],\n",
       "       [0, 0, 0, 0, 0]])"
      ]
     },
     "execution_count": 43,
     "metadata": {},
     "output_type": "execute_result"
    }
   ],
   "source": [
    "np.zeros((5,5),int)"
   ]
  },
  {
   "cell_type": "code",
   "execution_count": 44,
   "id": "a8a6bb62-754f-4eed-bba8-a156485f72e0",
   "metadata": {},
   "outputs": [
    {
     "data": {
      "text/plain": [
       "array([[0, 0, 0, 0, 0],\n",
       "       [0, 0, 0, 0, 0],\n",
       "       [0, 0, 0, 0, 0],\n",
       "       [0, 0, 0, 0, 0],\n",
       "       [0, 0, 0, 0, 0]])"
      ]
     },
     "execution_count": 44,
     "metadata": {},
     "output_type": "execute_result"
    }
   ],
   "source": [
    "np.zeros((5,5),dtype=int)"
   ]
  },
  {
   "cell_type": "code",
   "execution_count": 59,
   "id": "b3d739bb-fc6b-4d51-8d36-cd059a7510db",
   "metadata": {},
   "outputs": [
    {
     "data": {
      "text/plain": [
       "array([[0, 0, 0, 0, 0],\n",
       "       [0, 0, 0, 0, 0],\n",
       "       [0, 0, 0, 0, 0],\n",
       "       [0, 0, 0, 0, 0],\n",
       "       [0, 0, 0, 0, 0]])"
      ]
     },
     "execution_count": 59,
     "metadata": {},
     "output_type": "execute_result"
    }
   ],
   "source": [
    "np.zeros((5,5)).astype('int') # koi ek data type hai jisse diff mei chnge krna hai \n",
    "#toh hum astype deke wo datatpe likhdenge toh matrix mei data wese represent hoga"
   ]
  },
  {
   "cell_type": "markdown",
   "id": "e0dadb32-cacb-4715-a18e-f5ede33b1907",
   "metadata": {},
   "source": [
    "#### ONES : 1 represent karega matrix mei "
   ]
  },
  {
   "cell_type": "code",
   "execution_count": 60,
   "id": "a552a625-be15-404a-9202-69319214a896",
   "metadata": {},
   "outputs": [
    {
     "data": {
      "text/plain": [
       "array([1., 1., 1., 1.])"
      ]
     },
     "execution_count": 60,
     "metadata": {},
     "output_type": "execute_result"
    }
   ],
   "source": [
    "np.ones(4)"
   ]
  },
  {
   "cell_type": "code",
   "execution_count": 61,
   "id": "d8de3cd6-0d26-448b-9f32-54a1b642e045",
   "metadata": {},
   "outputs": [
    {
     "data": {
      "text/plain": [
       "array([[1, 1, 1, 1, 1, 1, 1, 1, 1],\n",
       "       [1, 1, 1, 1, 1, 1, 1, 1, 1],\n",
       "       [1, 1, 1, 1, 1, 1, 1, 1, 1],\n",
       "       [1, 1, 1, 1, 1, 1, 1, 1, 1],\n",
       "       [1, 1, 1, 1, 1, 1, 1, 1, 1],\n",
       "       [1, 1, 1, 1, 1, 1, 1, 1, 1],\n",
       "       [1, 1, 1, 1, 1, 1, 1, 1, 1],\n",
       "       [1, 1, 1, 1, 1, 1, 1, 1, 1],\n",
       "       [1, 1, 1, 1, 1, 1, 1, 1, 1]])"
      ]
     },
     "execution_count": 61,
     "metadata": {},
     "output_type": "execute_result"
    }
   ],
   "source": [
    "np.ones((9,9),int)"
   ]
  },
  {
   "cell_type": "code",
   "execution_count": 62,
   "id": "0c48b9d3-f2d9-4591-8b3d-91efd670a2ec",
   "metadata": {},
   "outputs": [
    {
     "data": {
      "text/plain": [
       "array([[1, 1, 1, 1, 1],\n",
       "       [1, 1, 1, 1, 1],\n",
       "       [1, 1, 1, 1, 1],\n",
       "       [1, 1, 1, 1, 1],\n",
       "       [1, 1, 1, 1, 1]])"
      ]
     },
     "execution_count": 62,
     "metadata": {},
     "output_type": "execute_result"
    }
   ],
   "source": [
    "np.ones((5,5),dtype=int)"
   ]
  },
  {
   "cell_type": "code",
   "execution_count": 64,
   "id": "993fe677-3e10-48ab-8b8b-7c15a02a8681",
   "metadata": {},
   "outputs": [
    {
     "data": {
      "text/plain": [
       "array([['1.0', '1.0', '1.0', '1.0', '1.0'],\n",
       "       ['1.0', '1.0', '1.0', '1.0', '1.0'],\n",
       "       ['1.0', '1.0', '1.0', '1.0', '1.0'],\n",
       "       ['1.0', '1.0', '1.0', '1.0', '1.0'],\n",
       "       ['1.0', '1.0', '1.0', '1.0', '1.0'],\n",
       "       ['1.0', '1.0', '1.0', '1.0', '1.0'],\n",
       "       ['1.0', '1.0', '1.0', '1.0', '1.0'],\n",
       "       ['1.0', '1.0', '1.0', '1.0', '1.0']], dtype='<U32')"
      ]
     },
     "execution_count": 64,
     "metadata": {},
     "output_type": "execute_result"
    }
   ],
   "source": [
    "np.ones((8,5)).astype('str')"
   ]
  },
  {
   "cell_type": "code",
   "execution_count": 69,
   "id": "019e67d9-dfec-4191-a59d-52f70f806e28",
   "metadata": {},
   "outputs": [
    {
     "data": {
      "text/plain": [
       "array([[ True,  True,  True,  True,  True],\n",
       "       [ True,  True,  True,  True,  True],\n",
       "       [ True,  True,  True,  True,  True],\n",
       "       [ True,  True,  True,  True,  True],\n",
       "       [ True,  True,  True,  True,  True],\n",
       "       [ True,  True,  True,  True,  True],\n",
       "       [ True,  True,  True,  True,  True],\n",
       "       [ True,  True,  True,  True,  True]])"
      ]
     },
     "execution_count": 69,
     "metadata": {},
     "output_type": "execute_result"
    }
   ],
   "source": [
    "np.ones((8,5)).astype('bool')"
   ]
  },
  {
   "cell_type": "code",
   "execution_count": 67,
   "id": "8ff7be98-c353-4ff0-a1a3-cb6f4c6d2268",
   "metadata": {},
   "outputs": [
    {
     "data": {
      "text/plain": [
       "array([[3., 3., 3., 3., 3., 3., 3., 3., 3.],\n",
       "       [3., 3., 3., 3., 3., 3., 3., 3., 3.],\n",
       "       [3., 3., 3., 3., 3., 3., 3., 3., 3.],\n",
       "       [3., 3., 3., 3., 3., 3., 3., 3., 3.],\n",
       "       [3., 3., 3., 3., 3., 3., 3., 3., 3.],\n",
       "       [3., 3., 3., 3., 3., 3., 3., 3., 3.],\n",
       "       [3., 3., 3., 3., 3., 3., 3., 3., 3.],\n",
       "       [3., 3., 3., 3., 3., 3., 3., 3., 3.],\n",
       "       [3., 3., 3., 3., 3., 3., 3., 3., 3.]])"
      ]
     },
     "execution_count": 67,
     "metadata": {},
     "output_type": "execute_result"
    }
   ],
   "source": [
    "np.ones((9,9))*3"
   ]
  },
  {
   "cell_type": "markdown",
   "id": "7bc2aa27-f967-4139-8d0a-f78739753611",
   "metadata": {},
   "source": [
    "#### FULL: to fill up the given no. in entire matrix"
   ]
  },
  {
   "cell_type": "code",
   "execution_count": 65,
   "id": "943b12e5-2007-441a-b042-af5c01d6edbe",
   "metadata": {},
   "outputs": [
    {
     "data": {
      "text/plain": [
       "array([[4, 4, 4, 4, 4],\n",
       "       [4, 4, 4, 4, 4],\n",
       "       [4, 4, 4, 4, 4],\n",
       "       [4, 4, 4, 4, 4],\n",
       "       [4, 4, 4, 4, 4]])"
      ]
     },
     "execution_count": 65,
     "metadata": {},
     "output_type": "execute_result"
    }
   ],
   "source": [
    "np.full((5,5),4)"
   ]
  },
  {
   "cell_type": "code",
   "execution_count": 70,
   "id": "a237706e-f2f5-4383-b97e-31f35c7065a7",
   "metadata": {},
   "outputs": [
    {
     "data": {
      "text/plain": [
       "array([['❤️', '❤️', '❤️', '❤️', '❤️'],\n",
       "       ['❤️', '❤️', '❤️', '❤️', '❤️'],\n",
       "       ['❤️', '❤️', '❤️', '❤️', '❤️'],\n",
       "       ['❤️', '❤️', '❤️', '❤️', '❤️'],\n",
       "       ['❤️', '❤️', '❤️', '❤️', '❤️']], dtype='<U2')"
      ]
     },
     "execution_count": 70,
     "metadata": {},
     "output_type": "execute_result"
    }
   ],
   "source": [
    "np.full((5,5),\"❤️\")# emoji ka dt nhi hota toh usko ek variable dt dedia U2"
   ]
  },
  {
   "cell_type": "markdown",
   "id": "5a6ec827-1fa6-4bbb-9f91-980eb3b66482",
   "metadata": {},
   "source": [
    "#### EYE : Identity matrix solve ho sakta hai \n",
    "#### Diagonal matrix  is always a square matrix "
   ]
  },
  {
   "cell_type": "code",
   "execution_count": 72,
   "id": "2183433e-a870-44d9-8640-5adfccd2f536",
   "metadata": {},
   "outputs": [
    {
     "data": {
      "text/plain": [
       "array([[1, 0, 0, 0, 0],\n",
       "       [0, 1, 0, 0, 0],\n",
       "       [0, 0, 1, 0, 0],\n",
       "       [0, 0, 0, 1, 0],\n",
       "       [0, 0, 0, 0, 1]])"
      ]
     },
     "execution_count": 72,
     "metadata": {},
     "output_type": "execute_result"
    }
   ],
   "source": [
    "#eye\n",
    "np.eye(5,dtype='int')"
   ]
  },
  {
   "cell_type": "markdown",
   "id": "9b83931c-972a-4671-903c-829ca0b02507",
   "metadata": {},
   "source": [
    "#### LINSPACE: Linearly arranged spaces \n",
    "\n",
    "       st aur end ke beech ko ese divide krna hai ki given values equally separate krde"
   ]
  },
  {
   "cell_type": "code",
   "execution_count": 73,
   "id": "1619f54b-6eb5-43a7-8bec-94be93d9c07a",
   "metadata": {},
   "outputs": [
    {
     "data": {
      "text/plain": [
       "array([  1.,  12.,  23.,  34.,  45.,  56.,  67.,  78.,  89., 100.])"
      ]
     },
     "execution_count": 73,
     "metadata": {},
     "output_type": "execute_result"
    }
   ],
   "source": [
    "np.linspace(1,100,10)"
   ]
  },
  {
   "cell_type": "code",
   "execution_count": 74,
   "id": "16a55242-d5f4-448b-945d-b135d42b1a22",
   "metadata": {},
   "outputs": [
    {
     "data": {
      "text/plain": [
       "array([  1.        ,   6.21052632,  11.42105263,  16.63157895,\n",
       "        21.84210526,  27.05263158,  32.26315789,  37.47368421,\n",
       "        42.68421053,  47.89473684,  53.10526316,  58.31578947,\n",
       "        63.52631579,  68.73684211,  73.94736842,  79.15789474,\n",
       "        84.36842105,  89.57894737,  94.78947368, 100.        ])"
      ]
     },
     "execution_count": 74,
     "metadata": {},
     "output_type": "execute_result"
    }
   ],
   "source": [
    "np.linspace(1,100,20)"
   ]
  },
  {
   "cell_type": "code",
   "execution_count": 75,
   "id": "d13f4569-954f-479d-9b48-82f4662ea645",
   "metadata": {},
   "outputs": [
    {
     "data": {
      "text/plain": [
       "array([ 1.        ,  4.54545455,  8.09090909, 11.63636364, 15.18181818,\n",
       "       18.72727273, 22.27272727, 25.81818182, 29.36363636, 32.90909091,\n",
       "       36.45454545, 40.        ])"
      ]
     },
     "execution_count": 75,
     "metadata": {},
     "output_type": "execute_result"
    }
   ],
   "source": [
    "np.linspace(1,40,12)"
   ]
  },
  {
   "cell_type": "markdown",
   "id": "0cb0e9af-7b34-449e-a20d-03ff9196b426",
   "metadata": {},
   "source": [
    "#### RANDOM NUMBERS: random.rand() -> used to generate random data between 0 & 1"
   ]
  },
  {
   "cell_type": "code",
   "execution_count": 76,
   "id": "ca815822-bc3c-449d-bf2c-bd69432b8286",
   "metadata": {},
   "outputs": [
    {
     "data": {
      "text/plain": [
       "0.38659403093853906"
      ]
     },
     "execution_count": 76,
     "metadata": {},
     "output_type": "execute_result"
    }
   ],
   "source": [
    "np.random.rand()"
   ]
  },
  {
   "cell_type": "code",
   "execution_count": 77,
   "id": "276adbd9-b0f5-4f4f-9ef4-14814a579e40",
   "metadata": {},
   "outputs": [
    {
     "data": {
      "text/plain": [
       "array([0.06242835, 0.93728954, 0.60912831, 0.15301843, 0.19635653])"
      ]
     },
     "execution_count": 77,
     "metadata": {},
     "output_type": "execute_result"
    }
   ],
   "source": [
    "np.random.rand(5)"
   ]
  },
  {
   "cell_type": "code",
   "execution_count": 78,
   "id": "3a113ea7-bd57-4dfb-b93f-106810d0403d",
   "metadata": {},
   "outputs": [
    {
     "data": {
      "text/plain": [
       "array([[0.45250332, 0.23797881, 0.12591868, 0.26657492],\n",
       "       [0.47173513, 0.32557472, 0.94878529, 0.45845207],\n",
       "       [0.51213115, 0.12322786, 0.81592471, 0.54889339]])"
      ]
     },
     "execution_count": 78,
     "metadata": {},
     "output_type": "execute_result"
    }
   ],
   "source": [
    "np.random.rand(3,4)"
   ]
  },
  {
   "cell_type": "code",
   "execution_count": 79,
   "id": "329db1f5-495f-45cd-bef7-10e02f965c66",
   "metadata": {},
   "outputs": [],
   "source": [
    "#2-D array is made matrix size is 3X4"
   ]
  },
  {
   "cell_type": "code",
   "execution_count": 80,
   "id": "748afbcf-eff6-4e02-9e24-75bc2e9978d6",
   "metadata": {},
   "outputs": [
    {
     "data": {
      "text/plain": [
       "array([[77.20803254,  3.56920683, 11.90302855, 71.38425501],\n",
       "       [61.15370014, 62.02109835, 63.5569743 , 67.37396468],\n",
       "       [75.20060604, 10.86154271, 33.05029253, 37.2823982 ]])"
      ]
     },
     "execution_count": 80,
     "metadata": {},
     "output_type": "execute_result"
    }
   ],
   "source": [
    "np.random.rand(3,4)*100"
   ]
  },
  {
   "cell_type": "code",
   "execution_count": 81,
   "id": "5e11728d-6f67-4d6a-b8dd-8673d2dd7009",
   "metadata": {},
   "outputs": [],
   "source": [
    "#generates random value giving values greater than the decimal range"
   ]
  },
  {
   "cell_type": "code",
   "execution_count": 82,
   "id": "4e5fc5b9-9457-4494-97e2-f33d9ead53aa",
   "metadata": {},
   "outputs": [],
   "source": [
    "#matrix ke har element mei 100 multiply hogya"
   ]
  },
  {
   "cell_type": "code",
   "execution_count": 87,
   "id": "9445be39-5cba-4a65-ad36-40c4ee5c2ba9",
   "metadata": {},
   "outputs": [
    {
     "data": {
      "text/plain": [
       "1904"
      ]
     },
     "execution_count": 87,
     "metadata": {},
     "output_type": "execute_result"
    }
   ],
   "source": [
    "np.random.randint(3,5317) # gives random int betn 3 to 5317"
   ]
  },
  {
   "cell_type": "code",
   "execution_count": 88,
   "id": "dbf3f5af-2f08-49be-ab87-5a361d29b6a3",
   "metadata": {},
   "outputs": [
    {
     "data": {
      "text/plain": [
       "array([[21, 33, 12],\n",
       "       [16, 36, 11],\n",
       "       [21, 21, 14],\n",
       "       [30, 21, 15]])"
      ]
     },
     "execution_count": 88,
     "metadata": {},
     "output_type": "execute_result"
    }
   ],
   "source": [
    "np.random.randint(10,40,(4,3))"
   ]
  },
  {
   "cell_type": "code",
   "execution_count": null,
   "id": "71506815-b785-4c78-8c7f-27b9ef095d98",
   "metadata": {},
   "outputs": [],
   "source": []
  }
 ],
 "metadata": {
  "kernelspec": {
   "display_name": "Python [conda env:base] *",
   "language": "python",
   "name": "conda-base-py"
  },
  "language_info": {
   "codemirror_mode": {
    "name": "ipython",
    "version": 3
   },
   "file_extension": ".py",
   "mimetype": "text/x-python",
   "name": "python",
   "nbconvert_exporter": "python",
   "pygments_lexer": "ipython3",
   "version": "3.12.7"
  }
 },
 "nbformat": 4,
 "nbformat_minor": 5
}
