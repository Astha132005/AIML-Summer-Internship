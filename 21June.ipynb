{
 "cells": [
  {
   "cell_type": "markdown",
   "id": "aca1a486-d163-4c0e-8ca1-7b4c18dc0d07",
   "metadata": {},
   "source": [
    "# OPERATORS:\n",
    "    - Symbols/Keywords used to Combine the condition with elements(operands)\n",
    "    - To perform tasks using operators\n",
    "## Types Of OPERATORS:\n",
    "**1.Aritmatic Operators:**\n",
    "\n",
    "     -These are the operators used for mathematical operations \n",
    "     -Ex: + , - ,*  , / , //(Floor division) , **(exonential) , %\n",
    "     \n",
    "**2.Assignment Operators:**\n",
    "      \n",
    "    -These operators are used to assign data/values to a variable.\n",
    "    -Ex: = , += , -= , *= , /= , %= , //= , **=\n",
    "**3.Logical Operators**\n",
    "\n",
    "    -Ex: AND , OR , NOT \n",
    "#### --> AND : \n",
    "![MyImage](AND.png)      \n",
    "                    \n",
    "#### --> OR : \n",
    "![MyImage](OR.jpeg) \n",
    "\n",
    "#### --> NOT :\n",
    "![MyImage](NOT.png) \n",
    "\n",
    "**4.Relational/Comparisonal Operators:**\n",
    "\n",
    "    -Comapres two values.\n",
    "    -Ex: ++ , != , < , > ,<= ,>= \n",
    "    -Gives boolean values (True,False) as output\n",
    "\n",
    "### **5.Bitwise Operators:**\n",
    "\n",
    "    Python's bitwise operators perform operations directly on the binary representations of integers. These operators are useful for low-level data      manipulation, optimization, and specific algorithms. \n",
    "    The main bitwise operators in Python are:\n",
    "***Bitwise AND (&):***\n",
    "    \n",
    "    Performs a logical AND operation on each corresponding bit of two integers. If both bits are 1, the resulting bit is 1; otherwise, it's 0.\n",
    "***Bitwise OR (|):*** \n",
    "    \n",
    "    Performs a logical OR operation on each corresponding bit of two integers. If at least one bit is 1, the resulting bit is 1; otherwise, it's 0.\n",
    "***Bitwise XOR (^):***\n",
    "\n",
    "    Performs a logical Exclusive OR operation on each corresponding bit of two integers. If the bits are different (one 0 and one 1), the resulting bit  is 1; otherwise, it's 0.\n",
    "    \n",
    "***Bitwise NOT (~):***\n",
    "\n",
    "    Performs a one's complement operation on a single integer. It flips each bit (0 becomes 1, and 1 becomes 0). The result also accounts for the sign bit, leading to a negative result for positive inputs. \n",
    "***Left Shift (<<):***\n",
    "  \n",
    "    Shifts the bits of an integer to the left by a specified number of positions. This is equivalent to multiplying the number by 2 raised to the power of the shift amount.\n",
    "***Right Shift (>>):***\n",
    "\n",
    "    Shifts the bits of an integer to the right by a specified number of positions. This is equivalent to integer division by 2 raised to the power of the shift amount.\n",
    "\n",
    "**6.Identity Operators:**\n",
    "\n",
    "    -These are used to identify/ check the memory location\n",
    "    -If memory location of both variables are sem then it gives o/p as True or It gives False.\n",
    "    -We can check memory loactions using id().\n",
    "    -When id() is same then it gives True or else False.\n",
    "    -Ex: is , is not\n",
    "\n",
    "**7.Membership Operators:**\n",
    "\n",
    "    -checks the sequential values inside the sequences.\n",
    "    -Ex: in , not in\n",
    "\n",
    "\n",
    "    "
   ]
  },
  {
   "cell_type": "code",
   "execution_count": 27,
   "id": "930e4872-d475-47f8-98ea-5b5af7bbe9b3",
   "metadata": {},
   "outputs": [
    {
     "data": {
      "text/plain": [
       "14"
      ]
     },
     "execution_count": 27,
     "metadata": {},
     "output_type": "execute_result"
    }
   ],
   "source": [
    "#Arithmatic operators:\n",
    "a=11\n",
    "b=3\n",
    "a+b #Additio"
   ]
  },
  {
   "cell_type": "code",
   "execution_count": 28,
   "id": "55d84a9d-5d93-4b38-b1d8-3d8dc4ebbe81",
   "metadata": {},
   "outputs": [
    {
     "data": {
      "text/plain": [
       "8"
      ]
     },
     "execution_count": 28,
     "metadata": {},
     "output_type": "execute_result"
    }
   ],
   "source": [
    "a-b#substraction"
   ]
  },
  {
   "cell_type": "code",
   "execution_count": 29,
   "id": "145eef73-7547-41ce-b9a9-d290e95ae812",
   "metadata": {},
   "outputs": [
    {
     "data": {
      "text/plain": [
       "3.6666666666666665"
      ]
     },
     "execution_count": 29,
     "metadata": {},
     "output_type": "execute_result"
    }
   ],
   "source": [
    "a/b #Division"
   ]
  },
  {
   "cell_type": "code",
   "execution_count": 30,
   "id": "2774254b-84a8-44c0-bb76-8774cf1d5092",
   "metadata": {},
   "outputs": [
    {
     "data": {
      "text/plain": [
       "3"
      ]
     },
     "execution_count": 30,
     "metadata": {},
     "output_type": "execute_result"
    }
   ],
   "source": [
    "a//b # Floor Diviion-gives floor value"
   ]
  },
  {
   "cell_type": "code",
   "execution_count": 31,
   "id": "b9c865d9-8ec4-41ef-9522-e6f3f91d96a3",
   "metadata": {},
   "outputs": [
    {
     "data": {
      "text/plain": [
       "33"
      ]
     },
     "execution_count": 31,
     "metadata": {},
     "output_type": "execute_result"
    }
   ],
   "source": [
    "a*b# Multiplication"
   ]
  },
  {
   "cell_type": "code",
   "execution_count": 32,
   "id": "2d4a405d-7901-4e0b-afe7-950f31a90ab5",
   "metadata": {},
   "outputs": [
    {
     "data": {
      "text/plain": [
       "1331"
      ]
     },
     "execution_count": 32,
     "metadata": {},
     "output_type": "execute_result"
    }
   ],
   "source": [
    "a**b #Gives exponential value : 11^3=1331"
   ]
  },
  {
   "cell_type": "code",
   "execution_count": 33,
   "id": "30ff44ee-331f-43e9-9e35-5f0e0c2600f9",
   "metadata": {},
   "outputs": [
    {
     "data": {
      "text/plain": [
       "2"
      ]
     },
     "execution_count": 33,
     "metadata": {},
     "output_type": "execute_result"
    }
   ],
   "source": [
    "a%b #Modulo - Gives remainder"
   ]
  },
  {
   "cell_type": "code",
   "execution_count": 34,
   "id": "369cc10f-7233-43d8-be9e-bda81584cbc2",
   "metadata": {},
   "outputs": [
    {
     "data": {
      "text/plain": [
       "42535295865117307932921825928971026432"
      ]
     },
     "execution_count": 34,
     "metadata": {},
     "output_type": "execute_result"
    }
   ],
   "source": [
    "2**5**3 # ((2)^5)^3\n",
    "# first we calculate 5 to power 3 i.e 125 then we calculate 2 to power 125 "
   ]
  },
  {
   "cell_type": "code",
   "execution_count": 35,
   "id": "456b2897-0bc0-42b4-a64b-44aca91442a4",
   "metadata": {},
   "outputs": [
    {
     "data": {
      "text/plain": [
       "42535295865117307932921825928971026432"
      ]
     },
     "execution_count": 35,
     "metadata": {},
     "output_type": "execute_result"
    }
   ],
   "source": [
    "2**125"
   ]
  },
  {
   "cell_type": "code",
   "execution_count": 36,
   "id": "54d5d8eb-1e7e-4e4b-88a8-505b4eaf73f9",
   "metadata": {},
   "outputs": [],
   "source": [
    "#Assignment operators:\n",
    "a+=2\n",
    "# a mein 2 add krke usko a ko assign krdega"
   ]
  },
  {
   "cell_type": "code",
   "execution_count": 37,
   "id": "7fb8fe16-ef42-4b0e-bd1e-1f1ba430d5b7",
   "metadata": {},
   "outputs": [
    {
     "data": {
      "text/plain": [
       "13"
      ]
     },
     "execution_count": 37,
     "metadata": {},
     "output_type": "execute_result"
    }
   ],
   "source": [
    "a"
   ]
  },
  {
   "cell_type": "code",
   "execution_count": 38,
   "id": "b4aeb993-1555-434d-a610-52a43cb6dd71",
   "metadata": {},
   "outputs": [
    {
     "data": {
      "text/plain": [
       "11"
      ]
     },
     "execution_count": 38,
     "metadata": {},
     "output_type": "execute_result"
    }
   ],
   "source": [
    "a-=2\n",
    "a"
   ]
  },
  {
   "cell_type": "code",
   "execution_count": 39,
   "id": "c4f0294b-608a-4736-982b-9d0925611002",
   "metadata": {},
   "outputs": [
    {
     "data": {
      "text/plain": [
       "22"
      ]
     },
     "execution_count": 39,
     "metadata": {},
     "output_type": "execute_result"
    }
   ],
   "source": [
    "a*=2\n",
    "a"
   ]
  },
  {
   "cell_type": "code",
   "execution_count": 40,
   "id": "38975c0b-fd31-4337-aeac-ec4b28aac65e",
   "metadata": {},
   "outputs": [
    {
     "data": {
      "text/plain": [
       "7.333333333333333"
      ]
     },
     "execution_count": 40,
     "metadata": {},
     "output_type": "execute_result"
    }
   ],
   "source": [
    "a/=3\n",
    "a"
   ]
  },
  {
   "cell_type": "code",
   "execution_count": 41,
   "id": "a73bc002-e8e7-4a5f-b536-a8c8814efcc9",
   "metadata": {},
   "outputs": [
    {
     "data": {
      "text/plain": [
       "1.333333333333333"
      ]
     },
     "execution_count": 41,
     "metadata": {},
     "output_type": "execute_result"
    }
   ],
   "source": [
    "a%=2\n",
    "a"
   ]
  },
  {
   "cell_type": "code",
   "execution_count": 45,
   "id": "c97030b1-2389-458a-b7ce-bbfdbab53299",
   "metadata": {},
   "outputs": [],
   "source": [
    "c=36\n",
    "c//=2"
   ]
  },
  {
   "cell_type": "code",
   "execution_count": 46,
   "id": "b2ee3a65-3fff-41d5-ba8b-348fb7f253ba",
   "metadata": {},
   "outputs": [
    {
     "data": {
      "text/plain": [
       "18"
      ]
     },
     "execution_count": 46,
     "metadata": {},
     "output_type": "execute_result"
    }
   ],
   "source": [
    "c"
   ]
  },
  {
   "cell_type": "code",
   "execution_count": 49,
   "id": "5d665373-1c15-4400-a61b-77bc164ff884",
   "metadata": {},
   "outputs": [
    {
     "data": {
      "text/plain": [
       "True"
      ]
     },
     "execution_count": 49,
     "metadata": {},
     "output_type": "execute_result"
    }
   ],
   "source": [
    "#Relational operators:\n",
    "5==5"
   ]
  },
  {
   "cell_type": "code",
   "execution_count": 50,
   "id": "a5f12a93-7aef-4fd6-a2bc-4f92101d6af5",
   "metadata": {},
   "outputs": [
    {
     "data": {
      "text/plain": [
       "False"
      ]
     },
     "execution_count": 50,
     "metadata": {},
     "output_type": "execute_result"
    }
   ],
   "source": [
    "5!=5"
   ]
  },
  {
   "cell_type": "code",
   "execution_count": 51,
   "id": "f6719dce-1f39-4a9e-a3b2-4a4f525544f6",
   "metadata": {},
   "outputs": [
    {
     "data": {
      "text/plain": [
       "True"
      ]
     },
     "execution_count": 51,
     "metadata": {},
     "output_type": "execute_result"
    }
   ],
   "source": [
    "4<=10"
   ]
  },
  {
   "cell_type": "code",
   "execution_count": 52,
   "id": "724ecbda-a178-4f4c-a14b-4705e8251ab6",
   "metadata": {},
   "outputs": [
    {
     "data": {
      "text/plain": [
       "False"
      ]
     },
     "execution_count": 52,
     "metadata": {},
     "output_type": "execute_result"
    }
   ],
   "source": [
    "5<4"
   ]
  },
  {
   "cell_type": "code",
   "execution_count": 56,
   "id": "5c49e4d5-fa7c-4a46-b377-8281c7562da5",
   "metadata": {},
   "outputs": [
    {
     "data": {
      "text/plain": [
       "True"
      ]
     },
     "execution_count": 56,
     "metadata": {},
     "output_type": "execute_result"
    }
   ],
   "source": [
    "#Logical Operators:\n",
    "#AND\n",
    "\n",
    "10>5 and 5<8"
   ]
  },
  {
   "cell_type": "code",
   "execution_count": 57,
   "id": "1c7d7b73-71c5-4a76-8a20-da66ee893ab8",
   "metadata": {},
   "outputs": [
    {
     "data": {
      "text/plain": [
       "False"
      ]
     },
     "execution_count": 57,
     "metadata": {},
     "output_type": "execute_result"
    }
   ],
   "source": [
    "10<5 and 5<8"
   ]
  },
  {
   "cell_type": "code",
   "execution_count": 58,
   "id": "0c94413e-eef6-4e31-a70b-1724b8e7bbca",
   "metadata": {},
   "outputs": [
    {
     "data": {
      "text/plain": [
       "False"
      ]
     },
     "execution_count": 58,
     "metadata": {},
     "output_type": "execute_result"
    }
   ],
   "source": [
    "10<5 and 5>8 "
   ]
  },
  {
   "cell_type": "code",
   "execution_count": 59,
   "id": "ab8c935c-8fee-40ef-98a7-35b511a49330",
   "metadata": {},
   "outputs": [
    {
     "data": {
      "text/plain": [
       "True"
      ]
     },
     "execution_count": 59,
     "metadata": {},
     "output_type": "execute_result"
    }
   ],
   "source": [
    "#OR \n",
    "10>5 or 5<8"
   ]
  },
  {
   "cell_type": "code",
   "execution_count": 60,
   "id": "abff0c6e-ce4f-49aa-ac91-bb23935a2ee9",
   "metadata": {},
   "outputs": [
    {
     "data": {
      "text/plain": [
       "True"
      ]
     },
     "execution_count": 60,
     "metadata": {},
     "output_type": "execute_result"
    }
   ],
   "source": [
    "10>5 or 5==8 "
   ]
  },
  {
   "cell_type": "code",
   "execution_count": 61,
   "id": "88cc74b3-1785-4aae-b429-67df259a5546",
   "metadata": {},
   "outputs": [
    {
     "data": {
      "text/plain": [
       "True"
      ]
     },
     "execution_count": 61,
     "metadata": {},
     "output_type": "execute_result"
    }
   ],
   "source": [
    "10<5 or 5<8 "
   ]
  },
  {
   "cell_type": "code",
   "execution_count": 62,
   "id": "f007e105-8410-44f8-8137-8b3e4ff6a515",
   "metadata": {},
   "outputs": [
    {
     "data": {
      "text/plain": [
       "False"
      ]
     },
     "execution_count": 62,
     "metadata": {},
     "output_type": "execute_result"
    }
   ],
   "source": [
    "10<5 or 5 == 8"
   ]
  },
  {
   "cell_type": "code",
   "execution_count": 64,
   "id": "8780b824-a521-4613-aa3b-69a93d0bdadf",
   "metadata": {},
   "outputs": [
    {
     "data": {
      "text/plain": [
       "True"
      ]
     },
     "execution_count": 64,
     "metadata": {},
     "output_type": "execute_result"
    }
   ],
   "source": [
    "#NOT:\n",
    "not 10<5"
   ]
  },
  {
   "cell_type": "code",
   "execution_count": 65,
   "id": "96e73de1-ebbf-4e44-9e76-a52d73b5095c",
   "metadata": {},
   "outputs": [
    {
     "data": {
      "text/plain": [
       "False"
      ]
     },
     "execution_count": 65,
     "metadata": {},
     "output_type": "execute_result"
    }
   ],
   "source": [
    "not 5<10"
   ]
  },
  {
   "cell_type": "code",
   "execution_count": 69,
   "id": "cb85803f-1e57-4a8b-8615-3bbb5a855c3f",
   "metadata": {},
   "outputs": [
    {
     "data": {
      "text/plain": [
       "True"
      ]
     },
     "execution_count": 69,
     "metadata": {},
     "output_type": "execute_result"
    }
   ],
   "source": [
    "#Identity Operator:\n",
    "# only values till 256 are acceptable in integers \n",
    "# Any no. above 256 when compared will give the output as False\n",
    "a=50\n",
    "b=50\n",
    "a is b"
   ]
  },
  {
   "cell_type": "code",
   "execution_count": 70,
   "id": "48879901-c5e8-4810-aa10-84090ee822f1",
   "metadata": {},
   "outputs": [
    {
     "name": "stdout",
     "output_type": "stream",
     "text": [
      "140712051879896\n",
      "140712051879896\n"
     ]
    }
   ],
   "source": [
    "print(id(a))\n",
    "print(id(b))"
   ]
  },
  {
   "cell_type": "code",
   "execution_count": 73,
   "id": "d891979c-1d58-4e14-9a74-93c99ebc34ad",
   "metadata": {},
   "outputs": [
    {
     "data": {
      "text/plain": [
       "False"
      ]
     },
     "execution_count": 73,
     "metadata": {},
     "output_type": "execute_result"
    }
   ],
   "source": [
    "a1= 456\n",
    "a2=456\n",
    "a1 is a2"
   ]
  },
  {
   "cell_type": "code",
   "execution_count": 74,
   "id": "aae9b14c-353e-430c-9426-ac4b1bfb195a",
   "metadata": {},
   "outputs": [
    {
     "name": "stdout",
     "output_type": "stream",
     "text": [
      "1902409889744\n",
      "1902409888816\n"
     ]
    }
   ],
   "source": [
    "print(id(a1))\n",
    "print(id(a2))"
   ]
  },
  {
   "cell_type": "code",
   "execution_count": 76,
   "id": "ca6aace4-0912-477e-a64a-f16083a2f1cb",
   "metadata": {},
   "outputs": [],
   "source": [
    "# sequential data mei  Data diff locations me save hota hai "
   ]
  },
  {
   "cell_type": "code",
   "execution_count": 77,
   "id": "3c90186d-3c7a-4057-ba5a-aff8a64a1f36",
   "metadata": {},
   "outputs": [
    {
     "data": {
      "text/plain": [
       "False"
      ]
     },
     "execution_count": 77,
     "metadata": {},
     "output_type": "execute_result"
    }
   ],
   "source": [
    "c=[3,4]\n",
    "d=[3,4]\n",
    "c is d"
   ]
  },
  {
   "cell_type": "code",
   "execution_count": 78,
   "id": "a7affa34-6c4c-4a93-825b-4d329eb92049",
   "metadata": {},
   "outputs": [
    {
     "name": "stdout",
     "output_type": "stream",
     "text": [
      "1902428072576\n",
      "1902428069952\n"
     ]
    }
   ],
   "source": [
    "print(id(c))\n",
    "print(id(d))"
   ]
  },
  {
   "cell_type": "code",
   "execution_count": 79,
   "id": "3228f313-c998-4f50-bc40-d858bd45de98",
   "metadata": {},
   "outputs": [
    {
     "name": "stdout",
     "output_type": "stream",
     "text": [
      "1902407049424\n",
      "1902407049424\n"
     ]
    }
   ],
   "source": [
    "e='ASTHA'\n",
    "f='ASTHA'\n",
    "print(id(e))\n",
    "print(id(f))"
   ]
  },
  {
   "cell_type": "code",
   "execution_count": 80,
   "id": "ff1fa1ec-ef1f-40ba-814e-fe59c63abf4f",
   "metadata": {},
   "outputs": [
    {
     "data": {
      "text/plain": [
       "True"
      ]
     },
     "execution_count": 80,
     "metadata": {},
     "output_type": "execute_result"
    }
   ],
   "source": [
    "e is f"
   ]
  },
  {
   "cell_type": "code",
   "execution_count": 81,
   "id": "c0d3043d-c18c-4084-93ec-b7675c167746",
   "metadata": {},
   "outputs": [],
   "source": [
    "# String without any spl char like ' '(space) or @ or # or etc is an exception of sequential  data are at same memory location ."
   ]
  },
  {
   "cell_type": "code",
   "execution_count": 82,
   "id": "dc426f97-210c-4ab4-95c3-6018ecfcc267",
   "metadata": {},
   "outputs": [],
   "source": [
    "# but there might be cases where memory is overfilled that might change the memory locations."
   ]
  },
  {
   "cell_type": "code",
   "execution_count": 85,
   "id": "b50d6e60-4c5a-48b6-bbf2-fa00abfa7290",
   "metadata": {},
   "outputs": [
    {
     "name": "stdout",
     "output_type": "stream",
     "text": [
      "1902427976048\n",
      "1902427973872\n"
     ]
    }
   ],
   "source": [
    "e='ASTHA DRAY'\n",
    "f='ASTHA DRAY'\n",
    "print(id(e))\n",
    "print(id(f))"
   ]
  },
  {
   "cell_type": "code",
   "execution_count": 86,
   "id": "d96fff41-7165-4005-8dcb-f12388426aae",
   "metadata": {},
   "outputs": [
    {
     "data": {
      "text/plain": [
       "False"
      ]
     },
     "execution_count": 86,
     "metadata": {},
     "output_type": "execute_result"
    }
   ],
   "source": [
    "e is f "
   ]
  },
  {
   "cell_type": "code",
   "execution_count": 87,
   "id": "4ea52802-21a3-4096-a46d-c0c7e7ceb9df",
   "metadata": {},
   "outputs": [
    {
     "name": "stdout",
     "output_type": "stream",
     "text": [
      "1902427967856\n",
      "1902427967856\n"
     ]
    }
   ],
   "source": [
    "e='ASTHADRAY'\n",
    "f='ASTHADRAY'\n",
    "print(id(e))\n",
    "print(id(f))"
   ]
  },
  {
   "cell_type": "code",
   "execution_count": 88,
   "id": "a4d89dec-a6c2-4b84-a262-fe03a518abe9",
   "metadata": {},
   "outputs": [
    {
     "data": {
      "text/plain": [
       "True"
      ]
     },
     "execution_count": 88,
     "metadata": {},
     "output_type": "execute_result"
    }
   ],
   "source": [
    "e is f "
   ]
  },
  {
   "cell_type": "code",
   "execution_count": 90,
   "id": "89710246-87b7-4b9e-a839-aa1b432109c3",
   "metadata": {},
   "outputs": [
    {
     "data": {
      "text/plain": [
       "True"
      ]
     },
     "execution_count": 90,
     "metadata": {},
     "output_type": "execute_result"
    }
   ],
   "source": [
    "m = -5\n",
    "n = -5\n",
    "m is n "
   ]
  },
  {
   "cell_type": "code",
   "execution_count": 91,
   "id": "5787250c-5af1-4ffb-b5ce-b8895b40ee54",
   "metadata": {},
   "outputs": [
    {
     "data": {
      "text/plain": [
       "False"
      ]
     },
     "execution_count": 91,
     "metadata": {},
     "output_type": "execute_result"
    }
   ],
   "source": [
    "m = -5\n",
    "n = -6\n",
    "m is n "
   ]
  },
  {
   "cell_type": "code",
   "execution_count": 92,
   "id": "7b54cb7c-4599-46b9-a147-202b25b8bf8e",
   "metadata": {},
   "outputs": [
    {
     "data": {
      "text/plain": [
       "False"
      ]
     },
     "execution_count": 92,
     "metadata": {},
     "output_type": "execute_result"
    }
   ],
   "source": [
    "e is not f \n"
   ]
  },
  {
   "cell_type": "code",
   "execution_count": 93,
   "id": "80982bdf-93b1-47aa-9f88-0a9327067e2e",
   "metadata": {},
   "outputs": [
    {
     "data": {
      "text/plain": [
       "[2, 3, 5, 8, 9]"
      ]
     },
     "execution_count": 93,
     "metadata": {},
     "output_type": "execute_result"
    }
   ],
   "source": [
    "# Membership oerator:\n",
    "a=[2,3,5,8,9]\n",
    "a"
   ]
  },
  {
   "cell_type": "code",
   "execution_count": 94,
   "id": "10cd7fd9-bace-45e0-800f-e0478d1904ab",
   "metadata": {},
   "outputs": [
    {
     "data": {
      "text/plain": [
       "True"
      ]
     },
     "execution_count": 94,
     "metadata": {},
     "output_type": "execute_result"
    }
   ],
   "source": [
    "2 in a "
   ]
  },
  {
   "cell_type": "code",
   "execution_count": 97,
   "id": "71f47dbc-e708-4ace-a682-47e63fd5092d",
   "metadata": {},
   "outputs": [
    {
     "data": {
      "text/plain": [
       "True"
      ]
     },
     "execution_count": 97,
     "metadata": {},
     "output_type": "execute_result"
    }
   ],
   "source": [
    "7 not in a"
   ]
  },
  {
   "cell_type": "code",
   "execution_count": 98,
   "id": "4f3daccb-a90b-460a-b7c1-2b1636da0acd",
   "metadata": {},
   "outputs": [
    {
     "data": {
      "text/plain": [
       "False"
      ]
     },
     "execution_count": 98,
     "metadata": {},
     "output_type": "execute_result"
    }
   ],
   "source": [
    "7 in a "
   ]
  },
  {
   "cell_type": "code",
   "execution_count": 142,
   "id": "1f53d93a-a4f8-47e9-9ce1-8704cf0e5862",
   "metadata": {},
   "outputs": [
    {
     "name": "stdout",
     "output_type": "stream",
     "text": [
      "a & b: 0\n",
      "a | b: 14\n",
      "a ^ b: 14\n",
      "~a: -11\n",
      "a << 2: 40\n",
      "a >> 2: 2\n"
     ]
    }
   ],
   "source": [
    "#BITWISE OPERATORS\n",
    "a = 10  # Binary: 0b1010\n",
    "b = 4   # Binary: 0b0100\n",
    "\n",
    "print(f\"a & b: {a & b}\")   # Output: 0 (0b0000)\n",
    "print(f\"a | b: {a | b}\")   # Output: 14 (0b1110)\n",
    "print(f\"a ^ b: {a ^ b}\")   # Output: 14 (0b1110)\n",
    "print(f\"~a: {~a}\")         # Output: -11 (one's complement considering sign bit)\n",
    "print(f\"a << 2: {a << 2}\") # Output: 40 (0b101000)\n",
    "print(f\"a >> 2: {a >> 2}\") # Output: 2 (0b0010)"
   ]
  },
  {
   "cell_type": "markdown",
   "id": "0a996cdf-1ac9-4aa5-911b-541509343a64",
   "metadata": {},
   "source": [
    "# PRINT FUNCTION:\n"
   ]
  },
  {
   "cell_type": "code",
   "execution_count": 99,
   "id": "8a6dd9a0-6bad-4530-bbd1-ac8f6adbbed3",
   "metadata": {},
   "outputs": [
    {
     "name": "stdout",
     "output_type": "stream",
     "text": [
      "Fan\n"
     ]
    }
   ],
   "source": [
    "print ('Fan')"
   ]
  },
  {
   "cell_type": "code",
   "execution_count": 104,
   "id": "b03116f1-fc79-4337-810c-113541ade032",
   "metadata": {},
   "outputs": [
    {
     "name": "stdout",
     "output_type": "stream",
     "text": [
      "CTTC,BBSR\n"
     ]
    }
   ],
   "source": [
    "print ('CTTC,'+'BBSR')"
   ]
  },
  {
   "cell_type": "code",
   "execution_count": 101,
   "id": "17918d3f-c8d3-432e-a9e5-9c7b162583e8",
   "metadata": {},
   "outputs": [
    {
     "name": "stdout",
     "output_type": "stream",
     "text": [
      "Astha Dakhinray\n"
     ]
    }
   ],
   "source": [
    "print ('Astha'+' '+'Dakhinray')"
   ]
  },
  {
   "cell_type": "code",
   "execution_count": 107,
   "id": "45f42dae-ab59-48e5-bc37-ce75bafb1a8e",
   "metadata": {},
   "outputs": [
    {
     "name": "stdout",
     "output_type": "stream",
     "text": [
      "BBSR , BBSR , BBSR , BBSR , BBSR , \n"
     ]
    }
   ],
   "source": [
    "print('BBSR , '*5)# word / string is repeated"
   ]
  },
  {
   "cell_type": "code",
   "execution_count": 108,
   "id": "0e4b3cbb-4519-4fe5-848a-e64af7991c41",
   "metadata": {},
   "outputs": [
    {
     "name": "stdout",
     "output_type": "stream",
     "text": [
      "😁😁😁😁😁😁😁😁😁😁😁😁😁😁😁😁😁😁😁😁😁😁😁😁😁😁😁😁😁😁😁😁😁😁😁😁😁😁😁😁😁😁😁😁😁😁😁😁😁😁😁😁😁😁😁😁😁😁😁😁😁😁😁😁😁😁😁😁😁😁😁😁😁😁😁😁😁😁😁😁😁😁😁😁😁😁😁😁😁😁😁😁😁😁😁😁😁😁😁😁\n"
     ]
    }
   ],
   "source": [
    "print('😁'*100)"
   ]
  },
  {
   "cell_type": "markdown",
   "id": "563fc013-85fe-44d5-95d8-924c70b7de7e",
   "metadata": {},
   "source": [
    "# INPUT FUCNTION:"
   ]
  },
  {
   "cell_type": "code",
   "execution_count": 111,
   "id": "fe6a549f-4978-4956-ac37-186bd12a72f1",
   "metadata": {},
   "outputs": [
    {
     "name": "stdin",
     "output_type": "stream",
     "text": [
      " 5\n"
     ]
    },
    {
     "data": {
      "text/plain": [
       "'5'"
      ]
     },
     "execution_count": 111,
     "metadata": {},
     "output_type": "execute_result"
    }
   ],
   "source": [
    "input()# koi data type specify nhi kre toh hum kuchh bhi enter kr saktein hain"
   ]
  },
  {
   "cell_type": "code",
   "execution_count": 112,
   "id": "fb520ecb-e4ad-4195-881f-3f2297409d1b",
   "metadata": {},
   "outputs": [
    {
     "name": "stdin",
     "output_type": "stream",
     "text": [
      " cdihiwdfiwhfiwf\n"
     ]
    },
    {
     "data": {
      "text/plain": [
       "'cdihiwdfiwhfiwf'"
      ]
     },
     "execution_count": 112,
     "metadata": {},
     "output_type": "execute_result"
    }
   ],
   "source": [
    "input()\n"
   ]
  },
  {
   "cell_type": "code",
   "execution_count": 110,
   "id": "9aa9e12c-6f51-40be-af01-974c37f66cc9",
   "metadata": {},
   "outputs": [
    {
     "name": "stdin",
     "output_type": "stream",
     "text": [
      "Enter a number: 32\n"
     ]
    },
    {
     "data": {
      "text/plain": [
       "'32'"
      ]
     },
     "execution_count": 110,
     "metadata": {},
     "output_type": "execute_result"
    }
   ],
   "source": [
    "input('Enter a number:')"
   ]
  },
  {
   "cell_type": "code",
   "execution_count": 113,
   "id": "8cd941bf-7b06-4285-8583-945d9b61c965",
   "metadata": {},
   "outputs": [
    {
     "name": "stdin",
     "output_type": "stream",
     "text": [
      "Enter your name: Astha\n"
     ]
    },
    {
     "data": {
      "text/plain": [
       "'Astha'"
      ]
     },
     "execution_count": 113,
     "metadata": {},
     "output_type": "execute_result"
    }
   ],
   "source": [
    "input('Enter your name:')"
   ]
  },
  {
   "cell_type": "code",
   "execution_count": 114,
   "id": "6a72983f-e15b-4f62-92d5-2ed3ca2a43ac",
   "metadata": {},
   "outputs": [
    {
     "name": "stdin",
     "output_type": "stream",
     "text": [
      "Enter First Number: 13\n",
      "Enter First Number: 18\n"
     ]
    },
    {
     "name": "stdout",
     "output_type": "stream",
     "text": [
      "13\n",
      "18\n"
     ]
    }
   ],
   "source": [
    "a= input('Enter First Number:')\n",
    "b= input('Enter First Number:')\n",
    "print(a)\n",
    "print(b)"
   ]
  },
  {
   "cell_type": "code",
   "execution_count": 115,
   "id": "4c1a2cb3-78f6-480f-9605-a4c48dbc681b",
   "metadata": {},
   "outputs": [
    {
     "data": {
      "text/plain": [
       "'1318'"
      ]
     },
     "execution_count": 115,
     "metadata": {},
     "output_type": "execute_result"
    }
   ],
   "source": [
    "a+b "
   ]
  },
  {
   "cell_type": "markdown",
   "id": "a81a1539-0145-4b89-8d12-430b5ebbffe0",
   "metadata": {},
   "source": [
    "### TYPECASTING:\n",
    "Ek input ko ek data type se dusre datatype mei chnge krne ke process ko typecasting kehetein hain"
   ]
  },
  {
   "cell_type": "code",
   "execution_count": 117,
   "id": "d715a015-05f1-483d-bdab-71931462f3c7",
   "metadata": {},
   "outputs": [],
   "source": [
    "# isme default mei input() String value leta hai "
   ]
  },
  {
   "cell_type": "code",
   "execution_count": 118,
   "id": "d59ede91-f694-41fe-b33d-1fb766575e32",
   "metadata": {},
   "outputs": [
    {
     "data": {
      "text/plain": [
       "str"
      ]
     },
     "execution_count": 118,
     "metadata": {},
     "output_type": "execute_result"
    }
   ],
   "source": [
    "m='25'\n",
    "type(m)"
   ]
  },
  {
   "cell_type": "code",
   "execution_count": 119,
   "id": "f6f5ba7b-d681-4de9-a459-c2ac7f5c5637",
   "metadata": {},
   "outputs": [
    {
     "data": {
      "text/plain": [
       "76"
      ]
     },
     "execution_count": 119,
     "metadata": {},
     "output_type": "execute_result"
    }
   ],
   "source": [
    "#string ko int mein convert krna hai toh\":\n",
    "m = int('76')\n",
    "m"
   ]
  },
  {
   "cell_type": "code",
   "execution_count": 120,
   "id": "9f669059-8416-444c-8157-55959774c8a7",
   "metadata": {},
   "outputs": [
    {
     "data": {
      "text/plain": [
       "int"
      ]
     },
     "execution_count": 120,
     "metadata": {},
     "output_type": "execute_result"
    }
   ],
   "source": [
    "type(m)"
   ]
  },
  {
   "cell_type": "code",
   "execution_count": 122,
   "id": "1cca1cd8-ce97-4c45-99f0-fe8ec6091012",
   "metadata": {},
   "outputs": [
    {
     "data": {
      "text/plain": [
       "(76+0j)"
      ]
     },
     "execution_count": 122,
     "metadata": {},
     "output_type": "execute_result"
    }
   ],
   "source": [
    "n = complex(m)\n",
    "n"
   ]
  },
  {
   "cell_type": "code",
   "execution_count": 123,
   "id": "8033b494-d379-4f7d-b9ea-6d6107ad26a7",
   "metadata": {},
   "outputs": [
    {
     "name": "stdin",
     "output_type": "stream",
     "text": [
      "Enter 1st No.: 13\n",
      "Enter 2nd No.: 18\n"
     ]
    },
    {
     "name": "stdout",
     "output_type": "stream",
     "text": [
      "13\n",
      "18\n"
     ]
    }
   ],
   "source": [
    "a=int(input('Enter 1st No.:'))\n",
    "b=int(input('Enter 2nd No.:'))\n",
    "print(a)\n",
    "print(b)"
   ]
  },
  {
   "cell_type": "code",
   "execution_count": 124,
   "id": "0ab4d8ee-d0e1-4cdf-a44f-ffa4ef215c90",
   "metadata": {},
   "outputs": [
    {
     "data": {
      "text/plain": [
       "31"
      ]
     },
     "execution_count": 124,
     "metadata": {},
     "output_type": "execute_result"
    }
   ],
   "source": [
    "a+b"
   ]
  },
  {
   "cell_type": "code",
   "execution_count": 128,
   "id": "5efbe310-b2ed-423b-9d99-d3f68dcb9296",
   "metadata": {},
   "outputs": [
    {
     "name": "stdin",
     "output_type": "stream",
     "text": [
      "Enter 1st No.: 13\n",
      "Enter 2nd No.: 18\n"
     ]
    },
    {
     "name": "stdout",
     "output_type": "stream",
     "text": [
      "31 😁 -5 😒 234 💕 112455406951957393129 😍 0.7222222222222222 👌 0 🤣 13\n"
     ]
    }
   ],
   "source": [
    "a=int(input('Enter 1st No.:'))\n",
    "b=int(input('Enter 2nd No.:'))\n",
    "print(a+b ,'😁', a-b ,'😒',  a*b ,'💕' , a** b ,'😍',  a/b ,'👌',  a//b ,'🤣',  a%b)"
   ]
  },
  {
   "cell_type": "markdown",
   "id": "5d6fa64b-07bd-455c-af84-aaede3975da5",
   "metadata": {},
   "source": [
    "# INDENTATION:\n",
    "## It's one of the most important feature in PYTHON . It indicates a block of code.\n",
    "**(One TAB space)**"
   ]
  },
  {
   "cell_type": "code",
   "execution_count": 129,
   "id": "9e21ca87-b9c2-4df2-9b2f-dc10b0a72d7a",
   "metadata": {},
   "outputs": [
    {
     "name": "stdout",
     "output_type": "stream",
     "text": [
      "correct\n"
     ]
    }
   ],
   "source": [
    "if 5>2:\n",
    "    print('correct')"
   ]
  },
  {
   "cell_type": "code",
   "execution_count": 130,
   "id": "2d49a362-2398-4363-ba2d-030fd0b1a35c",
   "metadata": {},
   "outputs": [
    {
     "ename": "IndentationError",
     "evalue": "expected an indented block after 'if' statement on line 1 (2439628672.py, line 2)",
     "output_type": "error",
     "traceback": [
      "\u001b[1;36m  Cell \u001b[1;32mIn[130], line 2\u001b[1;36m\u001b[0m\n\u001b[1;33m    print('correct')\u001b[0m\n\u001b[1;37m    ^\u001b[0m\n\u001b[1;31mIndentationError\u001b[0m\u001b[1;31m:\u001b[0m expected an indented block after 'if' statement on line 1\n"
     ]
    }
   ],
   "source": [
    "if 5>2:\n",
    "print('correct')"
   ]
  },
  {
   "cell_type": "code",
   "execution_count": 131,
   "id": "26261a5d-62da-4868-82a3-3bed96ed686b",
   "metadata": {},
   "outputs": [],
   "source": [
    "# if block has condition but no output statement . hence without indentation the loops or blocks of code will show error"
   ]
  },
  {
   "cell_type": "markdown",
   "id": "c329a64f-c8eb-44e4-a444-6ae1736723e9",
   "metadata": {},
   "source": [
    "# CONDITIONAL STATEMENTS:\n",
    "### It's used to check the flow of control according to the given condition.\n",
    "*  Single/Simple if\n",
    "*  if-else\n",
    "*  Nested if\n",
    "*  if-elif-else"
   ]
  },
  {
   "cell_type": "markdown",
   "id": "862d42c5-c462-43c9-8c7e-213f8f3b3e09",
   "metadata": {},
   "source": [
    "#### IF BLOCK:\n",
    "-  Syntax:\n",
    "   \n",
    "           if condition:\n",
    "                 Statement\n",
    "                 #if_block\n",
    "\n",
    "![MyImage](ifblock.png)"
   ]
  },
  {
   "cell_type": "markdown",
   "id": "d37cb4fe-8489-4f87-8361-85f8d84ebb6f",
   "metadata": {},
   "source": [
    "##### if Statement :\n",
    "       The if statement is used to test a particular condition and if the condition is true , it executes a block of code known as if-block.\n",
    "-  syntax:\n",
    "\n",
    "       if expression:\n",
    "                      Statement\n",
    "                      Statement"
   ]
  },
  {
   "cell_type": "code",
   "execution_count": 133,
   "id": "73a5db3f-9096-475d-b430-d4e05c30e01c",
   "metadata": {},
   "outputs": [
    {
     "name": "stdin",
     "output_type": "stream",
     "text": [
      "Enter your AGE: 20\n"
     ]
    },
    {
     "name": "stdout",
     "output_type": "stream",
     "text": [
      "You are eligible to vote\n"
     ]
    }
   ],
   "source": [
    "age=int(input('Enter your AGE:'))\n",
    "if (age>=18):\n",
    "    print('You are eligible to vote')"
   ]
  },
  {
   "cell_type": "markdown",
   "id": "7349420e-3412-460b-a0ff-b7066cbca555",
   "metadata": {},
   "source": [
    "#### IF-ELSE BLOCK:\n",
    "\n",
    "![MyImage](ifelseblock.webp)\n",
    "#### if-else Statement:\n",
    "        If the condition is true , then teh if-block is executed . Otherwise, the else-block is executed.\n",
    "        \n",
    "    SYNTAX:\n",
    "           if condition:\n",
    "                #block of statements\n",
    "           else:\n",
    "                #another block of statements (else-block)"
   ]
  },
  {
   "cell_type": "code",
   "execution_count": 135,
   "id": "a4b3311c-f8f3-4d7e-bcef-b0f94f8b92de",
   "metadata": {},
   "outputs": [
    {
     "name": "stdin",
     "output_type": "stream",
     "text": [
      "Enter your AGE: 13\n"
     ]
    },
    {
     "name": "stdout",
     "output_type": "stream",
     "text": [
      "You are not eligible to vote 🤏\n"
     ]
    }
   ],
   "source": [
    "age=int(input('Enter your AGE:'))\n",
    "if (age>=18):\n",
    "    print('You are eligible to vote')\n",
    "else:\n",
    "    print('You are not eligible to vote 🤏')"
   ]
  },
  {
   "cell_type": "markdown",
   "id": "d57d0ce8-41d5-4d4f-a880-7a833db953b5",
   "metadata": {},
   "source": [
    "#### NESTED-IF:\n",
    "![MyImage](nestedif.jpg)\n",
    "    Syntax:\n",
    "            \n",
    "            if condition:\n",
    "                #block of statements\n",
    "\n",
    "                 if condition:\n",
    "                     #block of statements\n",
    "     \n",
    "                 else:\n",
    "                     #another block of statements (else-block)\n",
    "\n",
    "            else:\n",
    "                #another block of statements (else-block)"
   ]
  },
  {
   "cell_type": "code",
   "execution_count": 137,
   "id": "55470031-39fc-4510-b700-2ff36feb9cf2",
   "metadata": {},
   "outputs": [
    {
     "name": "stdin",
     "output_type": "stream",
     "text": [
      "Enter Your 10th %:  97\n",
      "Enter Your 12th %:  93\n",
      "Enter Your B.Tech %:  94\n"
     ]
    },
    {
     "name": "stdout",
     "output_type": "stream",
     "text": [
      "You are eligible for scholarship.\n"
     ]
    }
   ],
   "source": [
    "tenth = int(input('Enter Your 10th %: '))\n",
    "twelth = int(input('Enter Your 12th %: '))\n",
    "btech = int(input('Enter Your B.Tech %: '))\n",
    "if tenth>60:\n",
    "    if twelth>60:\n",
    "        if btech>70:\n",
    "            print('You are eligible for scholarship.')\n",
    "else:\n",
    "    print('You are not eligible for scholarship.')"
   ]
  },
  {
   "cell_type": "markdown",
   "id": "7e39967e-c95e-4908-87ac-5b325f48b317",
   "metadata": {},
   "source": [
    "## Q. Write a python program to check whether entered no. is even or odd as well as +ve or negative?"
   ]
  },
  {
   "cell_type": "code",
   "execution_count": 143,
   "id": "f236b141-bc27-4607-9c9c-6429a01add70",
   "metadata": {},
   "outputs": [
    {
     "name": "stdin",
     "output_type": "stream",
     "text": [
      "Enter a no. :  12\n"
     ]
    },
    {
     "name": "stdout",
     "output_type": "stream",
     "text": [
      "12 is an even no. and its +ve\n"
     ]
    }
   ],
   "source": [
    "a= int(input('Enter a no. : '))\n",
    "if a!=0:\n",
    "    if (a%2==0):\n",
    "        \n",
    "        if(a>0):\n",
    "            print(a ,'is an even no. and its +ve')\n",
    "        else:\n",
    "            print(a ,'is an even no. and its -ve')\n",
    "    else:\n",
    "        if(a>0):\n",
    "            print(a ,'is an odd no. and its +ve')\n",
    "        else:\n",
    "            print(a ,'is an odd no. and its -ve')\n",
    "else:\n",
    "    print('Entered no. is zero')\n"
   ]
  },
  {
   "cell_type": "code",
   "execution_count": 144,
   "id": "1cb92c82-e365-4f34-a070-ca59f19d8ce5",
   "metadata": {},
   "outputs": [
    {
     "name": "stdin",
     "output_type": "stream",
     "text": [
      "Enter a no. :  13\n"
     ]
    },
    {
     "name": "stdout",
     "output_type": "stream",
     "text": [
      "13 is an odd no. and its +ve\n"
     ]
    }
   ],
   "source": [
    "a= int(input('Enter a no. : '))\n",
    "if a!=0:\n",
    "    if (a%2==0):\n",
    "        \n",
    "        if(a>0):\n",
    "            print(a ,'is an even no. and its +ve')\n",
    "        else:\n",
    "            print(a ,'is an even no. and its -ve')\n",
    "    else:\n",
    "        if(a>0):\n",
    "            print(a ,'is an odd no. and its +ve')\n",
    "        else:\n",
    "            print(a ,'is an odd no. and its -ve')\n",
    "else:\n",
    "    print('Entered no. is zero')\n",
    "\n"
   ]
  },
  {
   "cell_type": "code",
   "execution_count": 145,
   "id": "fef7bf87-ee22-41ac-bf57-a4d9dc636757",
   "metadata": {},
   "outputs": [
    {
     "name": "stdin",
     "output_type": "stream",
     "text": [
      "Enter a no. :  -122\n"
     ]
    },
    {
     "name": "stdout",
     "output_type": "stream",
     "text": [
      "-122 is an even no. and its -ve\n"
     ]
    }
   ],
   "source": [
    "a= int(input('Enter a no. : '))\n",
    "if a!=0:\n",
    "    if (a%2==0):\n",
    "        \n",
    "        if(a>0):\n",
    "            print(a ,'is an even no. and its +ve')\n",
    "        else:\n",
    "            print(a ,'is an even no. and its -ve')\n",
    "    else:\n",
    "        if(a>0):\n",
    "            print(a ,'is an odd no. and its +ve')\n",
    "        else:\n",
    "            print(a ,'is an odd no. and its -ve')\n",
    "else:\n",
    "    print('Entered no. is zero')\n"
   ]
  },
  {
   "cell_type": "code",
   "execution_count": 146,
   "id": "3c628dcb-1d06-4775-8a11-b3ed483283e0",
   "metadata": {},
   "outputs": [
    {
     "name": "stdin",
     "output_type": "stream",
     "text": [
      "Enter a no. :  0\n"
     ]
    },
    {
     "name": "stdout",
     "output_type": "stream",
     "text": [
      "Entered no. is zero\n"
     ]
    }
   ],
   "source": [
    "a= int(input('Enter a no. : '))\n",
    "if a!=0:\n",
    "    if (a%2==0):\n",
    "        \n",
    "        if(a>0):\n",
    "            print(a ,'is an even no. and its +ve')\n",
    "        else:\n",
    "            print(a ,'is an even no. and its -ve')\n",
    "    else:\n",
    "        if(a>0):\n",
    "            print(a ,'is an odd no. and its +ve')\n",
    "        else:\n",
    "            print(a ,'is an odd no. and its -ve')\n",
    "else:\n",
    "    print('Entered no. is zero')\n"
   ]
  },
  {
   "cell_type": "code",
   "execution_count": 147,
   "id": "4559956e-9d13-4bd3-b825-d45065ed3722",
   "metadata": {},
   "outputs": [
    {
     "name": "stdin",
     "output_type": "stream",
     "text": [
      "Enter a no. :  -131\n"
     ]
    },
    {
     "name": "stdout",
     "output_type": "stream",
     "text": [
      "-131 is an odd no. and its -ve\n"
     ]
    }
   ],
   "source": [
    "a= int(input('Enter a no. : '))\n",
    "if a!=0:\n",
    "    if (a%2==0):\n",
    "        \n",
    "        if(a>0):\n",
    "            print(a ,'is an even no. and its +ve')\n",
    "        else:\n",
    "            print(a ,'is an even no. and its -ve')\n",
    "    else:\n",
    "        if(a>0):\n",
    "            print(a ,'is an odd no. and its +ve')\n",
    "        else:\n",
    "            print(a ,'is an odd no. and its -ve')\n",
    "else:\n",
    "    print('Entered no. is zero')\n"
   ]
  },
  {
   "cell_type": "markdown",
   "id": "864aa1c1-5e51-45b8-922d-ed03ca615e4f",
   "metadata": {},
   "source": [
    "#### IF-ELIF-ELSE BLOCK:\n",
    "\n",
    "![MyImage](ifelifelse.png)"
   ]
  },
  {
   "cell_type": "markdown",
   "id": "33b9fb91-7ceb-4be5-b6f6-77fb89dc1998",
   "metadata": {},
   "source": [
    "##### if-elif-else:\n",
    "\n",
    "     The elif statement enables us to check multiple conditions and execute the specific block of statements dependng upon the true condition among them . We can have any number of elif statements in our program depending upon our need\n",
    "\n",
    "     SYNTAX:\n",
    "\n",
    "            if_expression1:\n",
    "                  #block of statements \n",
    "                  \n",
    "            elif_expression1:\n",
    "                  #block of statements\n",
    "\n",
    "            elif_expression2:\n",
    "                  #block of statements\n",
    "\n",
    "            elif_expression3:\n",
    "                  #block of statements\n",
    "\n",
    "            else:\n",
    "                 #block of statements"
   ]
  },
  {
   "cell_type": "code",
   "execution_count": 150,
   "id": "44778801-c4fe-4111-8254-4892c7fb9320",
   "metadata": {},
   "outputs": [
    {
     "name": "stdin",
     "output_type": "stream",
     "text": [
      "What do u wanna study after 10th?:  Dence\n"
     ]
    },
    {
     "name": "stdout",
     "output_type": "stream",
     "text": [
      "Gand mara bsdk\n"
     ]
    }
   ],
   "source": [
    "c= input('What do u wanna study after 10th?: ')\n",
    "ch = c.lower()\n",
    "if ch=='science':\n",
    "    print('Bhai marna chahata hai?')\n",
    "elif ch=='commerce':\n",
    "    print('Abba manenge ?')\n",
    "elif ch=='arts':\n",
    "    print('Ghar kese chalega?')\n",
    "elif ch=='suicide':\n",
    "    print('Ok! I agree , Rassi khareedne ke pese hain?')\n",
    "else:\n",
    "    print('Gand mara bsdk')"
   ]
  },
  {
   "cell_type": "markdown",
   "id": "7b0e8514-1a67-4f18-ab52-f2f500da2a36",
   "metadata": {},
   "source": [
    "# ***HOMEWORK:***"
   ]
  },
  {
   "cell_type": "markdown",
   "id": "47426e68-4f28-4524-8ace-b560870c9444",
   "metadata": {},
   "source": [
    "## Q. WAP to check if the entered character is vowel or consonant"
   ]
  },
  {
   "cell_type": "code",
   "execution_count": 151,
   "id": "260d5b68-366f-4f74-818c-cf7192f9cd47",
   "metadata": {},
   "outputs": [
    {
     "name": "stdin",
     "output_type": "stream",
     "text": [
      "Enter an alphabet:  s\n"
     ]
    },
    {
     "name": "stdout",
     "output_type": "stream",
     "text": [
      "Consonant\n"
     ]
    }
   ],
   "source": [
    "x = input('Enter an alphabet: ')\n",
    "if (x == 'a' or x == 'e' or x == 'i' or x == 'o' or x == 'u' or x=='A' or x=='E' or x=='I' or x=='O' or x=='U' ):\n",
    "    print(\"Vowel\")\n",
    "else:\n",
    "    print(\"Consonant\")"
   ]
  },
  {
   "cell_type": "markdown",
   "id": "929da6d5-47ea-412b-b100-c77800e95320",
   "metadata": {},
   "source": [
    "## Q. WAP to check if alphabet or not?"
   ]
  },
  {
   "cell_type": "code",
   "execution_count": 154,
   "id": "6826c149-3952-4cf0-93ea-9ffb83d096be",
   "metadata": {},
   "outputs": [
    {
     "name": "stdin",
     "output_type": "stream",
     "text": [
      "Enter :  13\n"
     ]
    },
    {
     "name": "stdout",
     "output_type": "stream",
     "text": [
      "13 is not an alphabet\n"
     ]
    }
   ],
   "source": [
    "x = input('Enter : ')\n",
    "if (x.isalpha()==True):\n",
    "    print(x,'is an alphabet')\n",
    "else:\n",
    "    print(x,'is not an alphabet')\n"
   ]
  },
  {
   "cell_type": "markdown",
   "id": "85721cf1-d2da-4cd4-afca-77754c27183a",
   "metadata": {},
   "source": [
    "## Q. WAP to check if the entered character is an alphabet , digit or special character?"
   ]
  },
  {
   "cell_type": "code",
   "execution_count": 157,
   "id": "16d5a07e-df93-4731-b9ba-c523dbed7d14",
   "metadata": {},
   "outputs": [
    {
     "name": "stdin",
     "output_type": "stream",
     "text": [
      "Enter :  😍😍\n"
     ]
    },
    {
     "name": "stdout",
     "output_type": "stream",
     "text": [
      "😍😍 is not an Special character.\n"
     ]
    }
   ],
   "source": [
    "x = input('Enter : ')\n",
    "if (x.isalpha()==True):\n",
    "    print(x,'is an alphabet')\n",
    "elif(x.isnumeric()==True):\n",
    "    print(x,'is a Digit.')\n",
    "else:\n",
    "    print(x,'is not an Special character.')\n"
   ]
  },
  {
   "cell_type": "markdown",
   "id": "e790e8d4-1faa-4e1c-a3cf-a62cfa22eebf",
   "metadata": {},
   "source": [
    "## Q. A company decided to give 5% bonus if his/her service is more than 5 years . Ask user for their salary and year of experience and print the net salary amount?\n"
   ]
  },
  {
   "cell_type": "code",
   "execution_count": 159,
   "id": "3ea8eb4e-3482-4030-8ff6-2dd738cf7a13",
   "metadata": {},
   "outputs": [
    {
     "name": "stdin",
     "output_type": "stream",
     "text": [
      "Enter your salary:  12000\n",
      "Enter your years of experience:  7\n"
     ]
    },
    {
     "name": "stdout",
     "output_type": "stream",
     "text": [
      "Net salary is: 12600.0\n"
     ]
    }
   ],
   "source": [
    "salary = int(input(\"Enter your salary: \"))\n",
    "experience = int(input(\"Enter your years of experience: \"))\n",
    "\n",
    "if experience > 5:\n",
    "    bonus = 0.05 * salary\n",
    "    net_salary = salary + bonus\n",
    "else:\n",
    "    net_salary = salary\n",
    "\n",
    "print(\"Net salary is:\", net_salary)\n"
   ]
  },
  {
   "cell_type": "markdown",
   "id": "4b8591cb-0d2f-413f-b1da-465c54a6c575",
   "metadata": {},
   "source": []
  }
 ],
 "metadata": {
  "kernelspec": {
   "display_name": "Python [conda env:base] *",
   "language": "python",
   "name": "conda-base-py"
  },
  "language_info": {
   "codemirror_mode": {
    "name": "ipython",
    "version": 3
   },
   "file_extension": ".py",
   "mimetype": "text/x-python",
   "name": "python",
   "nbconvert_exporter": "python",
   "pygments_lexer": "ipython3",
   "version": "3.12.7"
  }
 },
 "nbformat": 4,
 "nbformat_minor": 5
}
