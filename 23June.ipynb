{
 "cells": [
  {
   "cell_type": "markdown",
   "id": "917c1bd3-9664-4aa9-851b-33fe6aecb955",
   "metadata": {},
   "source": [
    "# LOOPS:\n",
    "\n",
    "### 1. For Loop \n",
    "### 2. While Loop "
   ]
  },
  {
   "cell_type": "markdown",
   "id": "e0fccb49-f897-4966-ba33-cc44e09548b2",
   "metadata": {},
   "source": [
    "## FOR LOOP: \n",
    "_*koi bhi sequence lete ho , sequence jb tak khtm nhi hota tab tak loop chlta reheta hai*_\n",
    "\n",
    "     A for loop is udes for iterating over a sequence(i.e either a list, a tuple , a dictionary , a set , or a string ).\n",
    "     With the for loop we can execute  a set of statements , once for each item in a list, tuple, set , etc.\n",
    "          \n",
    "    \n",
    "    Syntax: \n",
    ">for i in collection :\n",
    ">>#Body of for loop \n",
    "            "
   ]
  },
  {
   "cell_type": "code",
   "execution_count": 4,
   "id": "b0234485-13e8-4932-a488-b8bd8683ebd1",
   "metadata": {},
   "outputs": [],
   "source": [
    "#here:\n",
    "# for = loop\n",
    "#i = Iterator(Works to iterate repeatedly)\n",
    "# in = Membership operator\n",
    "#collection can be of any type : either  sequential data or sequence of datatype (string, tuple, set, dictionary, list)\n",
    "#for implies for loop syntax\n",
    "# if no. of iterations is known , we use for loop"
   ]
  },
  {
   "cell_type": "code",
   "execution_count": 5,
   "id": "b20f6413-8d67-4f35-8727-e245588f95cf",
   "metadata": {},
   "outputs": [
    {
     "name": "stdout",
     "output_type": "stream",
     "text": [
      "A\n",
      "s\n",
      "t\n",
      "h\n",
      "a\n"
     ]
    }
   ],
   "source": [
    "#ex: string \n",
    "for i in \"Astha\":\n",
    "    print(i)"
   ]
  },
  {
   "cell_type": "code",
   "execution_count": 8,
   "id": "5d376ab4-c1bb-475d-9ae8-ae35bc9f368c",
   "metadata": {},
   "outputs": [
    {
     "name": "stdout",
     "output_type": "stream",
     "text": [
      "Astha"
     ]
    }
   ],
   "source": [
    "# by default end='\\n'\n",
    "#print fucn has attribute/ flag : end = '\\n'\n",
    "# hence it prnted in separate lines\n",
    "# if we specify end \n",
    "for i in 'Astha':\n",
    "    print(i,end='')"
   ]
  },
  {
   "cell_type": "code",
   "execution_count": 7,
   "id": "7182ac6e-a5cc-4861-b54d-25bea37ba79d",
   "metadata": {},
   "outputs": [
    {
     "name": "stdout",
     "output_type": "stream",
     "text": [
      "A s t h a "
     ]
    }
   ],
   "source": [
    "for i in 'Astha':\n",
    "    print(i,end=' ')"
   ]
  },
  {
   "cell_type": "code",
   "execution_count": 9,
   "id": "5884a02c-0804-417d-8d91-216fa0033d5f",
   "metadata": {},
   "outputs": [
    {
     "name": "stdout",
     "output_type": "stream",
     "text": [
      "1 2 3 4 5 6 "
     ]
    }
   ],
   "source": [
    "#ex:list\n",
    "for i in [1,2,3,4,5,6]:\n",
    "    print(i , end=' ')"
   ]
  },
  {
   "cell_type": "markdown",
   "id": "52f1333f-f460-41bc-aeb6-eda196008924",
   "metadata": {},
   "source": [
    "**Range:**\n",
    "\n",
    "**range(): its a built-in fucntion generates a sequence os integers betn a given interval.**\n",
    "\n",
    "    We use range func for large no. of sequences"
   ]
  },
  {
   "cell_type": "code",
   "execution_count": 10,
   "id": "e70121fe-4e0e-4f74-adc5-2d29482d06fa",
   "metadata": {},
   "outputs": [
    {
     "name": "stdout",
     "output_type": "stream",
     "text": [
      "0😊1😊2😊3😊4😊5😊6😊7😊8😊9😊10😊11😊12😊13😊14😊15😊16😊17😊18😊19😊20😊21😊22😊23😊24😊25😊26😊27😊28😊29😊30😊31😊32😊33😊34😊35😊36😊37😊38😊39😊40😊41😊42😊43😊44😊45😊46😊47😊48😊49😊50😊51😊52😊53😊54😊55😊56😊57😊58😊59😊60😊61😊62😊63😊64😊65😊66😊67😊68😊69😊70😊71😊72😊73😊74😊75😊76😊77😊78😊79😊80😊81😊82😊83😊84😊85😊86😊87😊88😊89😊90😊91😊92😊93😊94😊95😊96😊97😊98😊99😊100😊101😊102😊103😊104😊105😊106😊107😊108😊109😊110😊111😊112😊113😊114😊115😊116😊117😊118😊119😊120😊"
     ]
    }
   ],
   "source": [
    "for i in range (121):\n",
    "    print(i,end='😊')"
   ]
  },
  {
   "cell_type": "code",
   "execution_count": 11,
   "id": "b9fda436-6e26-42aa-aadb-b394dec9db8f",
   "metadata": {},
   "outputs": [
    {
     "name": "stdout",
     "output_type": "stream",
     "text": [
      "0 1 2 3 4 5 6 "
     ]
    }
   ],
   "source": [
    "for i in range (7):\n",
    "    print(i, end =' ')"
   ]
  },
  {
   "cell_type": "markdown",
   "id": "3f4e1cc2-59aa-4449-be0f-2e88c9a64e76",
   "metadata": {},
   "source": [
    "#### range(7) means:\n",
    "\n",
    "    start = 0\n",
    "    condition for i in  this case is it should be less than 7 or(<7)\n",
    "    increament = 1\n",
    "    for every iteration it checks whether i < 7 and then it prints and after that it increaments "
   ]
  },
  {
   "cell_type": "markdown",
   "id": "1f1e50a9-ffab-4fc7-a422-f402cbd48f26",
   "metadata": {},
   "source": [
    "#### range(2,7) \n",
    "\n",
    "    start = 2 \n",
    "    condition is less tha 7\n",
    "    increament = 1 its by default\n",
    "    increament is also known as step \n",
    "\n",
    "    o/p:\n",
    "        2\n",
    "        3\n",
    "        4\n",
    "        5\n",
    "        6\n",
    "        "
   ]
  },
  {
   "cell_type": "markdown",
   "id": "ad325649-66ac-49f6-9b29-568089385c14",
   "metadata": {},
   "source": [
    "#### range(2,9,2)\n",
    "\n",
    "      start = 2 \n",
    "      condition is less than 9\n",
    "      increament = 2\n",
    "      o/p:\n",
    "          2\n",
    "          4\n",
    "          6\n",
    "          8"
   ]
  },
  {
   "cell_type": "markdown",
   "id": "8767628e-5e76-44f4-990b-1445c1c97bc2",
   "metadata": {},
   "source": [
    "- So in conclusion range can have minimum 1 and maximum 3 arguments\n",
    "- (end) imples (start=0,end,step=0)\n",
    "- (start,end) implies (start,end ,step=1)\n",
    "- (start,end,step) implies (start, end , step)"
   ]
  },
  {
   "cell_type": "markdown",
   "id": "91aa4dcb-b4a2-4e56-9aa9-b6ee7b92edb6",
   "metadata": {},
   "source": [
    "_**Q.WAP to find out no.s which are divisible by 3 between 100-200 in reverse order?**_"
   ]
  },
  {
   "cell_type": "code",
   "execution_count": 16,
   "id": "4aca655f-6960-45c3-b56c-e8ee2dd26da5",
   "metadata": {},
   "outputs": [
    {
     "name": "stdout",
     "output_type": "stream",
     "text": [
      "198 195 192 189 186 183 180 177 174 171 168 165 162 159 156 153 150 147 144 141 138 135 132 129 126 123 120 117 114 111 108 105 102 "
     ]
    }
   ],
   "source": [
    "for i in range(200,99,-1):\n",
    "    if i%3==0:\n",
    "        print(i,end=' ')"
   ]
  },
  {
   "cell_type": "markdown",
   "id": "acaa7dc1-37b4-4c4d-9e33-357d3d03e44a",
   "metadata": {},
   "source": [
    "_**Q.WAP to print multiplication table of a given no.**_"
   ]
  },
  {
   "cell_type": "code",
   "execution_count": 18,
   "id": "3074ed3f-2c59-4e88-9c29-9afa585016c4",
   "metadata": {},
   "outputs": [
    {
     "name": "stdin",
     "output_type": "stream",
     "text": [
      "Enter a no. :  1234567890\n"
     ]
    },
    {
     "name": "stdout",
     "output_type": "stream",
     "text": [
      "MULIPLICATION TABLE OF  1234567890\n",
      "1 X 1234567890 = 1234567890\n",
      "2 X 1234567890 = 2469135780\n",
      "3 X 1234567890 = 3703703670\n",
      "4 X 1234567890 = 4938271560\n",
      "5 X 1234567890 = 6172839450\n",
      "6 X 1234567890 = 7407407340\n",
      "7 X 1234567890 = 8641975230\n",
      "8 X 1234567890 = 9876543120\n",
      "9 X 1234567890 = 11111111010\n",
      "10 X 1234567890 = 12345678900\n"
     ]
    }
   ],
   "source": [
    "i= int(input('Enter a no. : '))\n",
    "print('MULIPLICATION TABLE OF ', i )\n",
    "for n in range (1,11):\n",
    "    print(n,'X',i,'=',n*i)"
   ]
  },
  {
   "cell_type": "markdown",
   "id": "22bd11e6-bb0b-4799-ba94-a6538bc429a4",
   "metadata": {},
   "source": [
    "_**Q. WAP to print prime no.s in between 1 to 100?**_"
   ]
  },
  {
   "cell_type": "code",
   "execution_count": 43,
   "id": "894bc89c-d632-4e2e-b129-249636e63af9",
   "metadata": {},
   "outputs": [
    {
     "name": "stdout",
     "output_type": "stream",
     "text": [
      "2 , 3 , 5 , 7 , 11 , 13 , 17 , 19 , 23 , 29 , 31 , 37 , 41 , 43 , 47 , 53 , 59 , 61 , 67 , 71 , 73 , 79 , 83 , 89 , 97 , "
     ]
    }
   ],
   "source": [
    "for i in range (1,101):\n",
    "    factor = 0 # written here so that it stores  the factor count for every iteration from 1 to 100\n",
    "    for j in range(1,i+1):\n",
    "        if i%j==0:\n",
    "            factor += 1 #factor count is increased by 1\n",
    "    if factor == 2:\n",
    "        print(i,end=' , ') # if u take range (2,i) then take factor ==0 condition"
   ]
  },
  {
   "cell_type": "markdown",
   "id": "e43920ac-a196-4b75-9bbc-89d46074c6aa",
   "metadata": {},
   "source": [
    "## WHILE LOOP: \n",
    "_*Jis case re loop tab tak continue krta hai jab tak condition FALSE na hojae*_\n",
    "\n",
    "_Syntax:_\n",
    "\n",
    ">initialize\n",
    ">\n",
    ">while condition(true):\n",
    ">\n",
    ">>#body of while loop\n",
    ">>\n",
    ">>increament/ decreament \n"
   ]
  },
  {
   "cell_type": "code",
   "execution_count": 46,
   "id": "9dea4fbe-5e4b-48ea-aee8-34fc07a5dd47",
   "metadata": {},
   "outputs": [
    {
     "name": "stdout",
     "output_type": "stream",
     "text": [
      "1👌2👌3👌4👌5👌6👌7👌8👌9👌10👌11👌12👌13👌14👌15👌16👌17👌18👌19👌20👌21👌22👌23👌24👌25👌26👌27👌28👌29👌30👌31👌32👌33👌34👌35👌36👌37👌38👌39👌40👌41👌42👌43👌44👌45👌46👌47👌48👌49👌50👌51👌52👌53👌54👌55👌56👌57👌58👌59👌60👌61👌62👌63👌64👌65👌66👌67👌68👌69👌70👌71👌72👌73👌74👌75👌76👌77👌78👌79👌80👌81👌82👌83👌84👌85👌86👌87👌88👌89👌90👌91👌92👌93👌94👌95👌96👌97👌98👌99👌100👌"
     ]
    }
   ],
   "source": [
    " #Program to print till 100\n",
    "i=1\n",
    "while i<=100:\n",
    "    print(i, end ='👌')\n",
    "    i+=1\n",
    "    # i fyou dont increament , then the condn nevah comes to end and becomes infinite loop\n",
    "    # in this case , decreamenting also does not work as it wont find 100 if you go back"
   ]
  },
  {
   "cell_type": "markdown",
   "id": "b7f19295-5733-4d47-b2fc-770008abf578",
   "metadata": {},
   "source": [
    "_**Q. WAP to print multiplication table of a given no.?**_"
   ]
  },
  {
   "cell_type": "code",
   "execution_count": 1,
   "id": "29c7de0c-b1cf-48eb-9318-eee438ef7dc2",
   "metadata": {},
   "outputs": [
    {
     "name": "stdin",
     "output_type": "stream",
     "text": [
      "Enter a no. :  123\n"
     ]
    },
    {
     "name": "stdout",
     "output_type": "stream",
     "text": [
      "MULIPLICATION TABLE OF  123\n",
      "1  X  123  =  123\n",
      "2  X  123  =  246\n",
      "3  X  123  =  369\n",
      "4  X  123  =  492\n",
      "5  X  123  =  615\n",
      "6  X  123  =  738\n",
      "7  X  123  =  861\n",
      "8  X  123  =  984\n",
      "9  X  123  =  1107\n",
      "10  X  123  =  1230\n"
     ]
    }
   ],
   "source": [
    "i= int(input('Enter a no. : '))\n",
    "print('MULIPLICATION TABLE OF ', i )\n",
    "n=1\n",
    "while n<=10:\n",
    "    print(n,' X ',i,' = ',n*i)\n",
    "    n+=1"
   ]
  },
  {
   "cell_type": "markdown",
   "id": "e361d428-71aa-4082-8c81-28a61d8b8572",
   "metadata": {},
   "source": [
    "_**Q.WAP to find the prime no. betn 1 to 100?**_"
   ]
  },
  {
   "cell_type": "code",
   "execution_count": 56,
   "id": "7fd059ce-6a0f-463e-b231-b2e48fbe4506",
   "metadata": {},
   "outputs": [
    {
     "name": "stdout",
     "output_type": "stream",
     "text": [
      "2🤩3🤩5🤩7🤩11🤩13🤩17🤩19🤩23🤩29🤩31🤩37🤩41🤩43🤩47🤩53🤩59🤩61🤩67🤩71🤩73🤩79🤩83🤩89🤩97🤩"
     ]
    }
   ],
   "source": [
    "i=1\n",
    "while i<=100:\n",
    "    factor = 0 \n",
    "    j=1\n",
    "    while j<=i:\n",
    "        if i%j==0:\n",
    "            factor += 1 \n",
    "        j+=1\n",
    "    if factor == 2:\n",
    "        print(i,end='🤩')\n",
    "    i+=1"
   ]
  },
  {
   "cell_type": "markdown",
   "id": "c7660a59-54d6-4e35-bf8e-d516ae845c07",
   "metadata": {},
   "source": [
    "## <font color =\"yellow\">BREAK STATEMENT:\n",
    "\n",
    "    The break is a keyword in python which is used to bring the program control out of the loop/ terminates the loop."
   ]
  },
  {
   "cell_type": "code",
   "execution_count": 57,
   "id": "ce4086bd-36c3-430c-a4cd-26fb4c6f6a70",
   "metadata": {},
   "outputs": [
    {
     "name": "stdout",
     "output_type": "stream",
     "text": [
      "1 "
     ]
    }
   ],
   "source": [
    "for i in range (1,15):\n",
    "    print (i,end=' ')\n",
    "    break"
   ]
  },
  {
   "cell_type": "code",
   "execution_count": 59,
   "id": "a0673202-1b7f-4a90-9774-d1f19767e68a",
   "metadata": {},
   "outputs": [
    {
     "name": "stdout",
     "output_type": "stream",
     "text": [
      "1😶‍🌫️2😶‍🌫️3😶‍🌫️4😶‍🌫️5😶‍🌫️6😶‍🌫️7😶‍🌫️"
     ]
    }
   ],
   "source": [
    "for i in range(1,15):\n",
    "    if i % 8 ==0:\n",
    "        break\n",
    "    print(i,end='😶‍🌫️')"
   ]
  },
  {
   "cell_type": "markdown",
   "id": "35236cd5-ed6b-430c-90c4-229affcc933c",
   "metadata": {},
   "source": [
    "## <font color =\"purple\">CONTINUE STATEMENT:\n",
    "\n",
    "      The continue keyword return control of the iteration to the beginning of the python for loop or python while loop . All remaining lines in the prevailing iteration of the loop are skipped by the continue keyword , which returns execution to the beginning of the next iteration of the loop."
   ]
  },
  {
   "cell_type": "code",
   "execution_count": 60,
   "id": "39fb80d9-c88f-42d7-a04f-8ecdd93e262b",
   "metadata": {},
   "outputs": [
    {
     "name": "stdout",
     "output_type": "stream",
     "text": [
      "1 2 3 4 5 6 7 8 9 10 11 12 13 14 "
     ]
    }
   ],
   "source": [
    "for i in range (1,15):\n",
    "    print (i,end=' ')\n",
    "    continue "
   ]
  },
  {
   "cell_type": "code",
   "execution_count": 61,
   "id": "a49b36e3-bc6f-4059-a146-1745f0ed3b5b",
   "metadata": {},
   "outputs": [
    {
     "name": "stdout",
     "output_type": "stream",
     "text": [
      "1 3 5 7 9 11 13 "
     ]
    }
   ],
   "source": [
    "for i in range (1,15):\n",
    "    if i%2 ==0:\n",
    "        continue\n",
    "    print (i,end=' ')"
   ]
  },
  {
   "cell_type": "markdown",
   "id": "d72a7a84-46b1-465e-848b-574b6666388d",
   "metadata": {},
   "source": [
    "## <font color =\"blue\">PASS STATEMENT:\n",
    "\n",
    "     The Python pass statement to write empty loops . Pass is also used for empty control statements , functions & classes ."
   ]
  },
  {
   "cell_type": "code",
   "execution_count": 66,
   "id": "1b01c1ca-32ce-4c96-8fc4-2cde59d180a8",
   "metadata": {},
   "outputs": [
    {
     "ename": "SyntaxError",
     "evalue": "invalid syntax (166275467.py, line 1)",
     "output_type": "error",
     "traceback": [
      "\u001b[1;36m  Cell \u001b[1;32mIn[66], line 1\u001b[1;36m\u001b[0m\n\u001b[1;33m    a= pass\u001b[0m\n\u001b[1;37m       ^\u001b[0m\n\u001b[1;31mSyntaxError\u001b[0m\u001b[1;31m:\u001b[0m invalid syntax\n"
     ]
    }
   ],
   "source": [
    "a= pass"
   ]
  },
  {
   "cell_type": "code",
   "execution_count": 67,
   "id": "6ad5d72e-905a-4cc5-a0bd-799339b09879",
   "metadata": {},
   "outputs": [
    {
     "ename": "SyntaxError",
     "evalue": "incomplete input (1898310513.py, line 1)",
     "output_type": "error",
     "traceback": [
      "\u001b[1;36m  Cell \u001b[1;32mIn[67], line 1\u001b[1;36m\u001b[0m\n\u001b[1;33m    if 12<=5:\u001b[0m\n\u001b[1;37m             ^\u001b[0m\n\u001b[1;31mSyntaxError\u001b[0m\u001b[1;31m:\u001b[0m incomplete input\n"
     ]
    }
   ],
   "source": [
    "if 12<=5:"
   ]
  },
  {
   "cell_type": "code",
   "execution_count": 63,
   "id": "958abef6-faf4-4726-9873-c4e220453a7f",
   "metadata": {},
   "outputs": [
    {
     "name": "stdout",
     "output_type": "stream",
     "text": [
      "hello\n"
     ]
    }
   ],
   "source": [
    "if 12>5:\n",
    "    pass\n",
    "    print('hello')"
   ]
  },
  {
   "cell_type": "code",
   "execution_count": null,
   "id": "8276a6e1-4b6f-4562-afa5-1dcf0e546564",
   "metadata": {},
   "outputs": [],
   "source": []
  }
 ],
 "metadata": {
  "kernelspec": {
   "display_name": "Python [conda env:base] *",
   "language": "python",
   "name": "conda-base-py"
  },
  "language_info": {
   "codemirror_mode": {
    "name": "ipython",
    "version": 3
   },
   "file_extension": ".py",
   "mimetype": "text/x-python",
   "name": "python",
   "nbconvert_exporter": "python",
   "pygments_lexer": "ipython3",
   "version": "3.12.7"
  }
 },
 "nbformat": 4,
 "nbformat_minor": 5
}
